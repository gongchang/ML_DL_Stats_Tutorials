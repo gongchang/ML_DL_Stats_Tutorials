{
 "cells": [
  {
   "cell_type": "markdown",
   "metadata": {},
   "source": [
    "# AutoML with H2O.ai"
   ]
  },
  {
   "cell_type": "code",
   "execution_count": 1,
   "metadata": {},
   "outputs": [
    {
     "name": "stdout",
     "output_type": "stream",
     "text": [
      "Checking whether there is an H2O instance running at http://localhost:54323. connected.\n"
     ]
    },
    {
     "data": {
      "text/html": [
       "<div style=\"overflow:auto\"><table style=\"width:50%\"><tr><td>H2O cluster uptime:</td>\n",
       "<td>7 days 21 hours 20 mins</td></tr>\n",
       "<tr><td>H2O cluster timezone:</td>\n",
       "<td>America/New_York</td></tr>\n",
       "<tr><td>H2O data parsing timezone:</td>\n",
       "<td>UTC</td></tr>\n",
       "<tr><td>H2O cluster version:</td>\n",
       "<td>3.18.0.8</td></tr>\n",
       "<tr><td>H2O cluster version age:</td>\n",
       "<td>27 days </td></tr>\n",
       "<tr><td>H2O cluster name:</td>\n",
       "<td>H2O_from_python_hbi16859_w1o7wl</td></tr>\n",
       "<tr><td>H2O cluster total nodes:</td>\n",
       "<td>1</td></tr>\n",
       "<tr><td>H2O cluster free memory:</td>\n",
       "<td>3.301 Gb</td></tr>\n",
       "<tr><td>H2O cluster total cores:</td>\n",
       "<td>8</td></tr>\n",
       "<tr><td>H2O cluster allowed cores:</td>\n",
       "<td>8</td></tr>\n",
       "<tr><td>H2O cluster status:</td>\n",
       "<td>locked, healthy</td></tr>\n",
       "<tr><td>H2O connection url:</td>\n",
       "<td>http://localhost:54323</td></tr>\n",
       "<tr><td>H2O connection proxy:</td>\n",
       "<td>None</td></tr>\n",
       "<tr><td>H2O internal security:</td>\n",
       "<td>False</td></tr>\n",
       "<tr><td>H2O API Extensions:</td>\n",
       "<td>XGBoost, Algos, AutoML, Core V3, Core V4</td></tr>\n",
       "<tr><td>Python version:</td>\n",
       "<td>3.6.4 final</td></tr></table></div>"
      ],
      "text/plain": [
       "--------------------------  ----------------------------------------\n",
       "H2O cluster uptime:         7 days 21 hours 20 mins\n",
       "H2O cluster timezone:       America/New_York\n",
       "H2O data parsing timezone:  UTC\n",
       "H2O cluster version:        3.18.0.8\n",
       "H2O cluster version age:    27 days\n",
       "H2O cluster name:           H2O_from_python_hbi16859_w1o7wl\n",
       "H2O cluster total nodes:    1\n",
       "H2O cluster free memory:    3.301 Gb\n",
       "H2O cluster total cores:    8\n",
       "H2O cluster allowed cores:  8\n",
       "H2O cluster status:         locked, healthy\n",
       "H2O connection url:         http://localhost:54323\n",
       "H2O connection proxy:\n",
       "H2O internal security:      False\n",
       "H2O API Extensions:         XGBoost, Algos, AutoML, Core V3, Core V4\n",
       "Python version:             3.6.4 final\n",
       "--------------------------  ----------------------------------------"
      ]
     },
     "metadata": {},
     "output_type": "display_data"
    }
   ],
   "source": [
    "import h2o\n",
    "h2o.init(ip=\"localhost\", port=54323)"
   ]
  },
  {
   "cell_type": "markdown",
   "metadata": {},
   "source": [
    "## Build a gbm model"
   ]
  },
  {
   "cell_type": "code",
   "execution_count": 2,
   "metadata": {},
   "outputs": [],
   "source": [
    "from h2o.estimators.gbm import H2OGradientBoostingEstimator"
   ]
  },
  {
   "cell_type": "code",
   "execution_count": 3,
   "metadata": {},
   "outputs": [
    {
     "name": "stdout",
     "output_type": "stream",
     "text": [
      "Parse progress: |█████████████████████████████████████████████████████████| 100%\n"
     ]
    }
   ],
   "source": [
    "airlines=h2o.import_file(\"https://s3.amazonaws.com/h2o-public-test-data/smalldata/airlines/allyears2k_headers.zip\")\n",
    "predictors=[\"Origin\",\"Dest\",\"Year\",\"UniqueCarrier\",\"DayOfWeek\",\"Month\",\"Distance\",\"FlightNum\"]\n",
    "response=\"IsDepDelayed\"\n",
    "train,valid=airlines.split_frame(ratios=[.8],seed=1234)"
   ]
  },
  {
   "cell_type": "code",
   "execution_count": 4,
   "metadata": {},
   "outputs": [
    {
     "name": "stdout",
     "output_type": "stream",
     "text": [
      "gbm Model Build progress: |███████████████████████████████████████████████| 100%\n"
     ]
    }
   ],
   "source": [
    "airlines_gbm=H2OGradientBoostingEstimator(nbins_cats=1024,seed=1234)\n",
    "airlines_gbm.train(x=predictors,y=response,training_frame=train,validation_frame=valid)"
   ]
  },
  {
   "cell_type": "code",
   "execution_count": 5,
   "metadata": {},
   "outputs": [
    {
     "name": "stdout",
     "output_type": "stream",
     "text": [
      "training score 0.7782538391984423\n",
      "validation score 0.7343035992322139\n"
     ]
    }
   ],
   "source": [
    "print(\"training score\",airlines_gbm.auc(train=True))\n",
    "print(\"validation score\",airlines_gbm.auc(valid=True))"
   ]
  },
  {
   "cell_type": "markdown",
   "metadata": {},
   "source": [
    "## try automl instead"
   ]
  },
  {
   "cell_type": "code",
   "execution_count": 6,
   "metadata": {},
   "outputs": [],
   "source": [
    "from h2o.automl import H2OAutoML"
   ]
  },
  {
   "cell_type": "code",
   "execution_count": 9,
   "metadata": {},
   "outputs": [
    {
     "name": "stdout",
     "output_type": "stream",
     "text": [
      "AutoML progress: |████████████████████████████████████████████████████████| 100%\n",
      "Parse progress: |█████████████████████████████████████████████████████████| 100%\n"
     ]
    }
   ],
   "source": [
    "aml = H2OAutoML(max_runtime_secs = 30)\n",
    "aml.train(x = predictors, y = response,training_frame = train)"
   ]
  },
  {
   "cell_type": "markdown",
   "metadata": {},
   "source": [
    "### Check the leaderboard"
   ]
  },
  {
   "cell_type": "code",
   "execution_count": 10,
   "metadata": {},
   "outputs": [
    {
     "data": {
      "text/html": [
       "<table>\n",
       "<thead>\n",
       "<tr><th>model_id                                             </th><th style=\"text-align: right;\">     auc</th><th style=\"text-align: right;\">  logloss</th></tr>\n",
       "</thead>\n",
       "<tbody>\n",
       "<tr><td>StackedEnsemble_BestOfFamily_0_AutoML_20180517_141447</td><td style=\"text-align: right;\">0.742927</td><td style=\"text-align: right;\"> 0.597373</td></tr>\n",
       "<tr><td>StackedEnsemble_AllModels_0_AutoML_20180517_141447   </td><td style=\"text-align: right;\">0.742927</td><td style=\"text-align: right;\"> 0.597373</td></tr>\n",
       "<tr><td>XRT_0_AutoML_20180517_141447                         </td><td style=\"text-align: right;\">0.736592</td><td style=\"text-align: right;\"> 0.606165</td></tr>\n",
       "<tr><td>GBM_grid_0_AutoML_20180517_141447_model_0            </td><td style=\"text-align: right;\">0.732426</td><td style=\"text-align: right;\"> 0.607855</td></tr>\n",
       "<tr><td>DRF_0_AutoML_20180517_141447                         </td><td style=\"text-align: right;\">0.726343</td><td style=\"text-align: right;\"> 0.634633</td></tr>\n",
       "<tr><td>GLM_grid_0_AutoML_20180517_141447_model_0            </td><td style=\"text-align: right;\">0.689056</td><td style=\"text-align: right;\"> 0.63719 </td></tr>\n",
       "</tbody>\n",
       "</table>"
      ]
     },
     "metadata": {},
     "output_type": "display_data"
    },
    {
     "data": {
      "text/plain": []
     },
     "execution_count": 10,
     "metadata": {},
     "output_type": "execute_result"
    }
   ],
   "source": [
    "lb=aml.leaderboard\n",
    "lb"
   ]
  },
  {
   "cell_type": "markdown",
   "metadata": {},
   "source": [
    "### the leader model is here"
   ]
  },
  {
   "cell_type": "code",
   "execution_count": 12,
   "metadata": {},
   "outputs": [],
   "source": [
    "#aml.leader #print out the model deails"
   ]
  },
  {
   "cell_type": "markdown",
   "metadata": {},
   "source": [
    "### Tips\n",
    "\n",
    "If you need to generate predictions on a test set, you can make predictions directly on the `\"H2OAutoML\"` object, or on the leader\n",
    "model object directly\n",
    "\n",
    "preds = aml.predict(test)\n",
    "\n",
    "or:\n",
    "preds = aml.leader.predict(test)"
   ]
  },
  {
   "cell_type": "code",
   "execution_count": 14,
   "metadata": {},
   "outputs": [
    {
     "name": "stdout",
     "output_type": "stream",
     "text": [
      "Parse progress: |█████████████████████████████████████████████████████████| 100%\n",
      "stackedensemble prediction progress: |████████████████████████████████████| 100%\n"
     ]
    },
    {
     "data": {
      "text/html": [
       "<table>\n",
       "<thead>\n",
       "<tr><th>predict  </th><th style=\"text-align: right;\">      NO</th><th style=\"text-align: right;\">     YES</th></tr>\n",
       "</thead>\n",
       "<tbody>\n",
       "<tr><td>YES      </td><td style=\"text-align: right;\">0.409527</td><td style=\"text-align: right;\">0.590473</td></tr>\n",
       "<tr><td>YES      </td><td style=\"text-align: right;\">0.409527</td><td style=\"text-align: right;\">0.590473</td></tr>\n",
       "<tr><td>YES      </td><td style=\"text-align: right;\">0.234762</td><td style=\"text-align: right;\">0.765238</td></tr>\n",
       "<tr><td>YES      </td><td style=\"text-align: right;\">0.215186</td><td style=\"text-align: right;\">0.784814</td></tr>\n",
       "<tr><td>YES      </td><td style=\"text-align: right;\">0.248518</td><td style=\"text-align: right;\">0.751482</td></tr>\n",
       "<tr><td>YES      </td><td style=\"text-align: right;\">0.259698</td><td style=\"text-align: right;\">0.740302</td></tr>\n",
       "<tr><td>YES      </td><td style=\"text-align: right;\">0.214665</td><td style=\"text-align: right;\">0.785335</td></tr>\n",
       "<tr><td>YES      </td><td style=\"text-align: right;\">0.234762</td><td style=\"text-align: right;\">0.765238</td></tr>\n",
       "<tr><td>YES      </td><td style=\"text-align: right;\">0.259698</td><td style=\"text-align: right;\">0.740302</td></tr>\n",
       "<tr><td>YES      </td><td style=\"text-align: right;\">0.220319</td><td style=\"text-align: right;\">0.779681</td></tr>\n",
       "</tbody>\n",
       "</table>"
      ]
     },
     "metadata": {},
     "output_type": "display_data"
    },
    {
     "data": {
      "text/plain": []
     },
     "execution_count": 14,
     "metadata": {},
     "output_type": "execute_result"
    }
   ],
   "source": [
    "aml.predict(valid) #it looks you can parse the whole data.frame as the input\n",
    "#the model will only use the pre-defined columns\n",
    "#I think this is really flexible to use"
   ]
  },
  {
   "cell_type": "code",
   "execution_count": 15,
   "metadata": {},
   "outputs": [
    {
     "name": "stdout",
     "output_type": "stream",
     "text": [
      "stackedensemble prediction progress: |████████████████████████████████████| 100%\n"
     ]
    },
    {
     "data": {
      "text/html": [
       "<table>\n",
       "<thead>\n",
       "<tr><th>predict  </th><th style=\"text-align: right;\">      NO</th><th style=\"text-align: right;\">     YES</th></tr>\n",
       "</thead>\n",
       "<tbody>\n",
       "<tr><td>YES      </td><td style=\"text-align: right;\">0.409527</td><td style=\"text-align: right;\">0.590473</td></tr>\n",
       "<tr><td>YES      </td><td style=\"text-align: right;\">0.409527</td><td style=\"text-align: right;\">0.590473</td></tr>\n",
       "<tr><td>YES      </td><td style=\"text-align: right;\">0.234762</td><td style=\"text-align: right;\">0.765238</td></tr>\n",
       "<tr><td>YES      </td><td style=\"text-align: right;\">0.215186</td><td style=\"text-align: right;\">0.784814</td></tr>\n",
       "<tr><td>YES      </td><td style=\"text-align: right;\">0.248518</td><td style=\"text-align: right;\">0.751482</td></tr>\n",
       "<tr><td>YES      </td><td style=\"text-align: right;\">0.259698</td><td style=\"text-align: right;\">0.740302</td></tr>\n",
       "<tr><td>YES      </td><td style=\"text-align: right;\">0.214665</td><td style=\"text-align: right;\">0.785335</td></tr>\n",
       "<tr><td>YES      </td><td style=\"text-align: right;\">0.234762</td><td style=\"text-align: right;\">0.765238</td></tr>\n",
       "<tr><td>YES      </td><td style=\"text-align: right;\">0.259698</td><td style=\"text-align: right;\">0.740302</td></tr>\n",
       "<tr><td>YES      </td><td style=\"text-align: right;\">0.220319</td><td style=\"text-align: right;\">0.779681</td></tr>\n",
       "</tbody>\n",
       "</table>"
      ]
     },
     "metadata": {},
     "output_type": "display_data"
    },
    {
     "data": {
      "text/plain": []
     },
     "execution_count": 15,
     "metadata": {},
     "output_type": "execute_result"
    }
   ],
   "source": [
    "aml.leader.predict(valid)  "
   ]
  },
  {
   "cell_type": "code",
   "execution_count": 17,
   "metadata": {},
   "outputs": [
    {
     "data": {
      "text/html": [
       "<table>\n",
       "<thead>\n",
       "<tr><th>IsDepDelayed  </th></tr>\n",
       "</thead>\n",
       "<tbody>\n",
       "<tr><td>NO            </td></tr>\n",
       "<tr><td>NO            </td></tr>\n",
       "<tr><td>YES           </td></tr>\n",
       "<tr><td>NO            </td></tr>\n",
       "<tr><td>YES           </td></tr>\n",
       "<tr><td>YES           </td></tr>\n",
       "<tr><td>YES           </td></tr>\n",
       "<tr><td>YES           </td></tr>\n",
       "<tr><td>YES           </td></tr>\n",
       "<tr><td>YES           </td></tr>\n",
       "</tbody>\n",
       "</table>"
      ]
     },
     "metadata": {},
     "output_type": "display_data"
    },
    {
     "data": {
      "text/plain": []
     },
     "execution_count": 17,
     "metadata": {},
     "output_type": "execute_result"
    }
   ],
   "source": [
    "valid[\"IsDepDelayed\"]"
   ]
  },
  {
   "cell_type": "markdown",
   "metadata": {},
   "source": [
    "### Saving and loading the models in H2O"
   ]
  },
  {
   "cell_type": "code",
   "execution_count": 19,
   "metadata": {},
   "outputs": [],
   "source": [
    "# save the model\n",
    "model_path = h2o.save_model(model=aml.leader, path=\"/tmp/h2o-hbi16859/automl_flights_stackensembl_20180517.model\", force=True)"
   ]
  },
  {
   "cell_type": "code",
   "execution_count": 20,
   "metadata": {},
   "outputs": [
    {
     "data": {
      "text/plain": [
       "'/private/tmp/h2o-hbi16859/automl_flights_stackensembl_20180517.model/StackedEnsemble_BestOfFamily_0_AutoML_20180517_141447'"
      ]
     },
     "execution_count": 20,
     "metadata": {},
     "output_type": "execute_result"
    }
   ],
   "source": [
    "model_path"
   ]
  },
  {
   "cell_type": "code",
   "execution_count": 21,
   "metadata": {},
   "outputs": [],
   "source": [
    "# load the model\n",
    "saved_model = h2o.load_model(model_path)"
   ]
  },
  {
   "cell_type": "code",
   "execution_count": 28,
   "metadata": {},
   "outputs": [
    {
     "name": "stdout",
     "output_type": "stream",
     "text": [
      "stackedensemble prediction progress: |████████████████████████████████████| 100%\n"
     ]
    },
    {
     "data": {
      "text/html": [
       "<table>\n",
       "<thead>\n",
       "<tr><th>predict  </th><th style=\"text-align: right;\">      NO</th><th style=\"text-align: right;\">     YES</th></tr>\n",
       "</thead>\n",
       "<tbody>\n",
       "<tr><td>YES      </td><td style=\"text-align: right;\">0.409527</td><td style=\"text-align: right;\">0.590473</td></tr>\n",
       "</tbody>\n",
       "</table>"
      ]
     },
     "metadata": {},
     "output_type": "display_data"
    },
    {
     "data": {
      "text/plain": []
     },
     "execution_count": 28,
     "metadata": {},
     "output_type": "execute_result"
    }
   ],
   "source": [
    "saved_model.predict(valid[1,:])"
   ]
  },
  {
   "cell_type": "markdown",
   "metadata": {},
   "source": [
    "## shutdown the server"
   ]
  },
  {
   "cell_type": "code",
   "execution_count": 29,
   "metadata": {},
   "outputs": [
    {
     "name": "stdout",
     "output_type": "stream",
     "text": [
      "[WARNING] in <ipython-input-29-818718eb5624> line 2:\n",
      "    >>> h2o.shutdown(prompt=True)\n",
      "        ^^^^ Deprecated, use ``h2o.cluster().shutdown()``.\n",
      "H2O session _sid_aaa7 closed.\n"
     ]
    }
   ],
   "source": [
    "#shutdown the server\n",
    "h2o.shutdown(prompt=True)"
   ]
  },
  {
   "cell_type": "code",
   "execution_count": 31,
   "metadata": {},
   "outputs": [
    {
     "name": "stdout",
     "output_type": "stream",
     "text": [
      "Checking whether there is an H2O instance running at http://localhost:54323..... not found.\n",
      "Attempting to start a local H2O server...\n",
      "  Java Version: java version \"1.8.0_121\"; Java(TM) SE Runtime Environment (build 1.8.0_121-b13); Java HotSpot(TM) 64-Bit Server VM (build 25.121-b13, mixed mode)\n",
      "  Starting server from /Users/hbi16859/anaconda/envs/python36/lib/python3.6/site-packages/h2o/backend/bin/h2o.jar\n",
      "  Ice root: /var/folders/2h/78_180g57l19twphrlwd2tjr00z10v/T/tmpb42767uq\n",
      "  JVM stdout: /var/folders/2h/78_180g57l19twphrlwd2tjr00z10v/T/tmpb42767uq/h2o_hbi16859_started_from_python.out\n",
      "  JVM stderr: /var/folders/2h/78_180g57l19twphrlwd2tjr00z10v/T/tmpb42767uq/h2o_hbi16859_started_from_python.err\n",
      "  Server is running at http://127.0.0.1:54323\n",
      "Connecting to H2O server at http://127.0.0.1:54323... successful.\n"
     ]
    },
    {
     "data": {
      "text/html": [
       "<div style=\"overflow:auto\"><table style=\"width:50%\"><tr><td>H2O cluster uptime:</td>\n",
       "<td>01 secs</td></tr>\n",
       "<tr><td>H2O cluster timezone:</td>\n",
       "<td>America/New_York</td></tr>\n",
       "<tr><td>H2O data parsing timezone:</td>\n",
       "<td>UTC</td></tr>\n",
       "<tr><td>H2O cluster version:</td>\n",
       "<td>3.18.0.8</td></tr>\n",
       "<tr><td>H2O cluster version age:</td>\n",
       "<td>27 days </td></tr>\n",
       "<tr><td>H2O cluster name:</td>\n",
       "<td>H2O_from_python_hbi16859_f6ghdw</td></tr>\n",
       "<tr><td>H2O cluster total nodes:</td>\n",
       "<td>1</td></tr>\n",
       "<tr><td>H2O cluster free memory:</td>\n",
       "<td>3.556 Gb</td></tr>\n",
       "<tr><td>H2O cluster total cores:</td>\n",
       "<td>8</td></tr>\n",
       "<tr><td>H2O cluster allowed cores:</td>\n",
       "<td>8</td></tr>\n",
       "<tr><td>H2O cluster status:</td>\n",
       "<td>accepting new members, healthy</td></tr>\n",
       "<tr><td>H2O connection url:</td>\n",
       "<td>http://127.0.0.1:54323</td></tr>\n",
       "<tr><td>H2O connection proxy:</td>\n",
       "<td>None</td></tr>\n",
       "<tr><td>H2O internal security:</td>\n",
       "<td>False</td></tr>\n",
       "<tr><td>H2O API Extensions:</td>\n",
       "<td>XGBoost, Algos, AutoML, Core V3, Core V4</td></tr>\n",
       "<tr><td>Python version:</td>\n",
       "<td>3.6.4 final</td></tr></table></div>"
      ],
      "text/plain": [
       "--------------------------  ----------------------------------------\n",
       "H2O cluster uptime:         01 secs\n",
       "H2O cluster timezone:       America/New_York\n",
       "H2O data parsing timezone:  UTC\n",
       "H2O cluster version:        3.18.0.8\n",
       "H2O cluster version age:    27 days\n",
       "H2O cluster name:           H2O_from_python_hbi16859_f6ghdw\n",
       "H2O cluster total nodes:    1\n",
       "H2O cluster free memory:    3.556 Gb\n",
       "H2O cluster total cores:    8\n",
       "H2O cluster allowed cores:  8\n",
       "H2O cluster status:         accepting new members, healthy\n",
       "H2O connection url:         http://127.0.0.1:54323\n",
       "H2O connection proxy:\n",
       "H2O internal security:      False\n",
       "H2O API Extensions:         XGBoost, Algos, AutoML, Core V3, Core V4\n",
       "Python version:             3.6.4 final\n",
       "--------------------------  ----------------------------------------"
      ]
     },
     "metadata": {},
     "output_type": "display_data"
    }
   ],
   "source": [
    "h2o.init(ip=\"localhost\", port=54323)"
   ]
  },
  {
   "cell_type": "code",
   "execution_count": 32,
   "metadata": {},
   "outputs": [
    {
     "name": "stdout",
     "output_type": "stream",
     "text": [
      "[WARNING] in <ipython-input-32-2cad6abb459e> line 1:\n",
      "    >>> h2o.shutdown(prompt=True)\n",
      "        ^^^^ Deprecated, use ``h2o.cluster().shutdown()``.\n",
      "H2O session _sid_aade closed.\n"
     ]
    }
   ],
   "source": [
    "h2o.shutdown(prompt=True)"
   ]
  }
 ],
 "metadata": {
  "kernelspec": {
   "display_name": "Python 3 (ipykernel)",
   "language": "python",
   "name": "python3"
  },
  "language_info": {
   "codemirror_mode": {
    "name": "ipython",
    "version": 3
   },
   "file_extension": ".py",
   "mimetype": "text/x-python",
   "name": "python",
   "nbconvert_exporter": "python",
   "pygments_lexer": "ipython3",
   "version": "3.8.9"
  }
 },
 "nbformat": 4,
 "nbformat_minor": 4
}
