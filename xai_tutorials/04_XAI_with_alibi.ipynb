{
 "cells": [
  {
   "cell_type": "markdown",
   "id": "ae9178da-74f4-4ab4-a25d-e17a024eeb6c",
   "metadata": {},
   "source": [
    "## counterfactual XAI with alibi"
   ]
  },
  {
   "cell_type": "markdown",
   "id": "d2fc8645-a903-47a4-b385-7ca02087141c",
   "metadata": {},
   "source": [
    "***Currently, it seems that alibi does not work well with sklearn models. I saw an issue in alibi's github repo related to this, and I don't think it has been resolved*** "
   ]
  },
  {
   "cell_type": "markdown",
   "id": "8c7c11b2-4e04-4f9e-8b08-4477ca111bfd",
   "metadata": {},
   "source": [
    "## load the data and build a sklearn model"
   ]
  },
  {
   "cell_type": "code",
   "execution_count": 15,
   "id": "b30ae4aa-8a9b-4809-9d0a-926f8bb754c8",
   "metadata": {},
   "outputs": [],
   "source": [
    "import pandas as pd\n",
    "df_train = pd.read_csv(\"../automl_tutorials/diabetes_train.csv\")\n",
    "df_test = pd.read_csv(\"../automl_tutorials/diabetes_test.csv\")"
   ]
  },
  {
   "cell_type": "code",
   "execution_count": 24,
   "id": "f9b1fe2a-22d2-4e22-99b0-dd01ffaa5dbe",
   "metadata": {},
   "outputs": [
    {
     "data": {
      "text/plain": [
       "RandomForestRegressor(criterion='absolute_error', max_depth=4,\n",
       "                      max_features='sqrt', max_leaf_nodes=15,\n",
       "                      min_impurity_decrease=0.02, min_samples_split=3,\n",
       "                      n_estimators=2669, n_jobs=1, random_state=0,\n",
       "                      verbose=False)"
      ]
     },
     "execution_count": 24,
     "metadata": {},
     "output_type": "execute_result"
    }
   ],
   "source": [
    "from sklearn.ensemble import RandomForestRegressor\n",
    "rf_sk_np_model = RandomForestRegressor(criterion='absolute_error', max_depth=4,\n",
    "                      max_features='sqrt', max_leaf_nodes=15,\n",
    "                      min_impurity_decrease=0.02, min_samples_split=3,\n",
    "                      n_estimators=2669, n_jobs=1, random_state=0,\n",
    "                      verbose=False)\n",
    "rf_sk_np_model.fit(np.array(df_train.iloc[:,0:10]), np.array(df_train['target']))"
   ]
  },
  {
   "cell_type": "markdown",
   "id": "7e62960f-02dd-4fcc-8643-52991f9f310f",
   "metadata": {},
   "source": [
    "## alibi workflow"
   ]
  },
  {
   "cell_type": "code",
   "execution_count": 12,
   "id": "ec928106-861b-42c6-aed8-619fba75787f",
   "metadata": {},
   "outputs": [],
   "source": [
    "import numpy as np"
   ]
  },
  {
   "cell_type": "code",
   "execution_count": 7,
   "id": "643131a6-2b06-4706-b8d0-0268a07d1c27",
   "metadata": {},
   "outputs": [],
   "source": [
    "import alibi"
   ]
  },
  {
   "cell_type": "code",
   "execution_count": 16,
   "id": "591b325b-e554-4f87-8dcc-8e2dd43120a0",
   "metadata": {},
   "outputs": [],
   "source": [
    "from alibi.explainers import CounterfactualProto"
   ]
  },
  {
   "cell_type": "code",
   "execution_count": 10,
   "id": "06a7a940-6e9f-4375-9bb0-cecb11cb8a46",
   "metadata": {},
   "outputs": [
    {
     "data": {
      "text/plain": [
       "['age', 'sex', 'bmi', 'bp', 'tc', 'ldl', 'hdl', 'tch', 'ltg', 'glu']"
      ]
     },
     "execution_count": 10,
     "metadata": {},
     "output_type": "execute_result"
    }
   ],
   "source": [
    "variable_names = list(df_train.columns[0:10])\n",
    "variable_names"
   ]
  },
  {
   "cell_type": "code",
   "execution_count": 17,
   "id": "3e016fdb-65fd-4e9c-86b6-4257862f8918",
   "metadata": {},
   "outputs": [],
   "source": [
    "X_train = np.array(df_train.iloc[:,0:10])\n",
    "shape = X_train.shape"
   ]
  },
  {
   "cell_type": "code",
   "execution_count": 28,
   "id": "3efefd64-77ec-4690-bd74-dd2896802ab4",
   "metadata": {},
   "outputs": [
    {
     "data": {
      "text/plain": [
       "(353, 10)"
      ]
     },
     "execution_count": 28,
     "metadata": {},
     "output_type": "execute_result"
    }
   ],
   "source": [
    "X_train.shape"
   ]
  },
  {
   "cell_type": "code",
   "execution_count": null,
   "id": "11d46781-1eed-4c78-b2d5-0b012d83a72e",
   "metadata": {},
   "outputs": [],
   "source": [
    "X_train[1]"
   ]
  },
  {
   "cell_type": "code",
   "execution_count": 31,
   "id": "47d669e2-cc99-4f89-9286-2eadeb7cc849",
   "metadata": {},
   "outputs": [
    {
     "data": {
      "text/plain": [
       "(1, 10)"
      ]
     },
     "execution_count": 31,
     "metadata": {},
     "output_type": "execute_result"
    }
   ],
   "source": [
    "X1 = X_train[1].reshape((1,) + X_train[1].shape)\n",
    "shape2= X1.shape\n",
    "shape2"
   ]
  },
  {
   "cell_type": "code",
   "execution_count": 20,
   "id": "ddbb2cb2-dc06-4d2f-adad-d3baaa5ca1b2",
   "metadata": {},
   "outputs": [
    {
     "data": {
      "text/plain": [
       "array([-0.10722563, -0.04464164, -0.0902753 , -0.10895673, -0.12678067,\n",
       "       -0.11561307, -0.09862541, -0.0763945 , -0.12609739, -0.12948301])"
      ]
     },
     "execution_count": 20,
     "metadata": {},
     "output_type": "execute_result"
    }
   ],
   "source": [
    "X_train.min(axis=0)"
   ]
  },
  {
   "cell_type": "code",
   "execution_count": 38,
   "id": "4cb7a7b5-6ece-4276-b373-1ce823a9c807",
   "metadata": {},
   "outputs": [
    {
     "ename": "IndexError",
     "evalue": "tuple index out of range",
     "output_type": "error",
     "traceback": [
      "\u001b[0;31m---------------------------------------------------------------------------\u001b[0m",
      "\u001b[0;31mIndexError\u001b[0m                                Traceback (most recent call last)",
      "Input \u001b[0;32mIn [38]\u001b[0m, in \u001b[0;36m<module>\u001b[0;34m\u001b[0m\n\u001b[0;32m----> 1\u001b[0m explainer_alibi \u001b[38;5;241m=\u001b[39m \u001b[43mCounterfactualProto\u001b[49m\u001b[43m(\u001b[49m\u001b[38;5;28;43;01mlambda\u001b[39;49;00m\u001b[43m \u001b[49m\u001b[43mx\u001b[49m\u001b[43m:\u001b[49m\u001b[43m \u001b[49m\u001b[43mrf_sk_np_model\u001b[49m\u001b[38;5;241;43m.\u001b[39;49m\u001b[43mpredict\u001b[49m\u001b[43m(\u001b[49m\u001b[43mx\u001b[49m\u001b[43m)\u001b[49m\n\u001b[1;32m      2\u001b[0m \u001b[43m                                      \u001b[49m\u001b[43m,\u001b[49m\u001b[43m \u001b[49m\u001b[43mshape2\u001b[49m\u001b[43m)\u001b[49m \u001b[38;5;66;03m#, use_kdtree=True, theta=10., max_iterations=1000,\u001b[39;00m\n\u001b[1;32m      3\u001b[0m                          \u001b[38;5;66;03m#feature_range=(X_train.min(axis=0), X_train.max(axis=0)),\u001b[39;00m\n\u001b[1;32m      4\u001b[0m                          \u001b[38;5;66;03m#c_init=1., c_steps=10)\u001b[39;00m\n\u001b[1;32m      6\u001b[0m explainer_alibi\u001b[38;5;241m.\u001b[39mfit(X_train)\n",
      "File \u001b[0;32m~/Library/Python/3.8/lib/python/site-packages/alibi/explainers/cfproto.py:139\u001b[0m, in \u001b[0;36mCounterfactualProto.__init__\u001b[0;34m(self, predict, shape, kappa, beta, feature_range, gamma, ae_model, enc_model, theta, cat_vars, ohe, use_kdtree, learning_rate_init, max_iterations, c_init, c_steps, eps, clip, update_num_grad, write_dir, sess)\u001b[0m\n\u001b[1;32m    137\u001b[0m \u001b[38;5;28;01melse\u001b[39;00m:  \u001b[38;5;66;03m# black-box model\u001b[39;00m\n\u001b[1;32m    138\u001b[0m     \u001b[38;5;28mself\u001b[39m\u001b[38;5;241m.\u001b[39mmodel \u001b[38;5;241m=\u001b[39m \u001b[38;5;28;01mFalse\u001b[39;00m\n\u001b[0;32m--> 139\u001b[0m     \u001b[38;5;28mself\u001b[39m\u001b[38;5;241m.\u001b[39mclasses \u001b[38;5;241m=\u001b[39m \u001b[38;5;28;43mself\u001b[39;49m\u001b[38;5;241;43m.\u001b[39;49m\u001b[43mpredict\u001b[49m\u001b[43m(\u001b[49m\u001b[43mnp\u001b[49m\u001b[38;5;241;43m.\u001b[39;49m\u001b[43mzeros\u001b[49m\u001b[43m(\u001b[49m\u001b[43mshape\u001b[49m\u001b[43m)\u001b[49m\u001b[43m)\u001b[49m\u001b[38;5;241;43m.\u001b[39;49m\u001b[43mshape\u001b[49m\u001b[43m[\u001b[49m\u001b[38;5;241;43m1\u001b[39;49m\u001b[43m]\u001b[49m\n\u001b[1;32m    141\u001b[0m \u001b[38;5;28;01mif\u001b[39;00m is_enc:\n\u001b[1;32m    142\u001b[0m     \u001b[38;5;28mself\u001b[39m\u001b[38;5;241m.\u001b[39menc_model \u001b[38;5;241m=\u001b[39m \u001b[38;5;28;01mTrue\u001b[39;00m\n",
      "\u001b[0;31mIndexError\u001b[0m: tuple index out of range"
     ]
    }
   ],
   "source": [
    "explainer_alibi = CounterfactualProto(rf_sk_np_model.predict, shape2) #, use_kdtree=True, theta=10., max_iterations=1000,\n",
    "                         #feature_range=(X_train.min(axis=0), X_train.max(axis=0)),\n",
    "                         #c_init=1., c_steps=10)\n",
    "\n",
    "explainer_alibi.fit(X_train)"
   ]
  },
  {
   "cell_type": "code",
   "execution_count": 25,
   "id": "8d03602d-444f-42fc-8b2c-0cc00d1c31ac",
   "metadata": {},
   "outputs": [
    {
     "ename": "IndexError",
     "evalue": "tuple index out of range",
     "output_type": "error",
     "traceback": [
      "\u001b[0;31m---------------------------------------------------------------------------\u001b[0m",
      "\u001b[0;31mIndexError\u001b[0m                                Traceback (most recent call last)",
      "Input \u001b[0;32mIn [25]\u001b[0m, in \u001b[0;36m<module>\u001b[0;34m\u001b[0m\n\u001b[1;32m      1\u001b[0m \u001b[38;5;66;03m#explainer_alibi = AnchorTabular(rf_sk_model, feature_names=variable_names)\u001b[39;00m\n\u001b[1;32m      2\u001b[0m \u001b[38;5;66;03m#explainer_alibi.fit(df_train.iloc[:,0:10])\u001b[39;00m\n\u001b[0;32m----> 4\u001b[0m explainer_alibi \u001b[38;5;241m=\u001b[39m \u001b[43mCounterfactualProto\u001b[49m\u001b[43m(\u001b[49m\u001b[43mrf_sk_np_model\u001b[49m\u001b[38;5;241;43m.\u001b[39;49m\u001b[43mpredict\u001b[49m\u001b[43m,\u001b[49m\u001b[43m \u001b[49m\u001b[43mshape\u001b[49m\u001b[43m,\u001b[49m\u001b[43m \u001b[49m\u001b[43muse_kdtree\u001b[49m\u001b[38;5;241;43m=\u001b[39;49m\u001b[38;5;28;43;01mTrue\u001b[39;49;00m\u001b[43m,\u001b[49m\u001b[43m \u001b[49m\u001b[43mtheta\u001b[49m\u001b[38;5;241;43m=\u001b[39;49m\u001b[38;5;241;43m10.\u001b[39;49m\u001b[43m,\u001b[49m\u001b[43m \u001b[49m\u001b[43mmax_iterations\u001b[49m\u001b[38;5;241;43m=\u001b[39;49m\u001b[38;5;241;43m1000\u001b[39;49m\u001b[43m,\u001b[49m\n\u001b[1;32m      5\u001b[0m \u001b[43m                         \u001b[49m\u001b[43mfeature_range\u001b[49m\u001b[38;5;241;43m=\u001b[39;49m\u001b[43m(\u001b[49m\u001b[43mX_train\u001b[49m\u001b[38;5;241;43m.\u001b[39;49m\u001b[43mmin\u001b[49m\u001b[43m(\u001b[49m\u001b[43maxis\u001b[49m\u001b[38;5;241;43m=\u001b[39;49m\u001b[38;5;241;43m0\u001b[39;49m\u001b[43m)\u001b[49m\u001b[43m,\u001b[49m\u001b[43m \u001b[49m\u001b[43mX_train\u001b[49m\u001b[38;5;241;43m.\u001b[39;49m\u001b[43mmax\u001b[49m\u001b[43m(\u001b[49m\u001b[43maxis\u001b[49m\u001b[38;5;241;43m=\u001b[39;49m\u001b[38;5;241;43m0\u001b[39;49m\u001b[43m)\u001b[49m\u001b[43m)\u001b[49m\u001b[43m,\u001b[49m\n\u001b[1;32m      6\u001b[0m \u001b[43m                         \u001b[49m\u001b[43mc_init\u001b[49m\u001b[38;5;241;43m=\u001b[39;49m\u001b[38;5;241;43m1.\u001b[39;49m\u001b[43m,\u001b[49m\u001b[43m \u001b[49m\u001b[43mc_steps\u001b[49m\u001b[38;5;241;43m=\u001b[39;49m\u001b[38;5;241;43m10\u001b[39;49m\u001b[43m)\u001b[49m\n\u001b[1;32m      8\u001b[0m explainer_alibi\u001b[38;5;241m.\u001b[39mfit(X_train)\n",
      "File \u001b[0;32m~/Library/Python/3.8/lib/python/site-packages/alibi/explainers/cfproto.py:139\u001b[0m, in \u001b[0;36mCounterfactualProto.__init__\u001b[0;34m(self, predict, shape, kappa, beta, feature_range, gamma, ae_model, enc_model, theta, cat_vars, ohe, use_kdtree, learning_rate_init, max_iterations, c_init, c_steps, eps, clip, update_num_grad, write_dir, sess)\u001b[0m\n\u001b[1;32m    137\u001b[0m \u001b[38;5;28;01melse\u001b[39;00m:  \u001b[38;5;66;03m# black-box model\u001b[39;00m\n\u001b[1;32m    138\u001b[0m     \u001b[38;5;28mself\u001b[39m\u001b[38;5;241m.\u001b[39mmodel \u001b[38;5;241m=\u001b[39m \u001b[38;5;28;01mFalse\u001b[39;00m\n\u001b[0;32m--> 139\u001b[0m     \u001b[38;5;28mself\u001b[39m\u001b[38;5;241m.\u001b[39mclasses \u001b[38;5;241m=\u001b[39m \u001b[38;5;28;43mself\u001b[39;49m\u001b[38;5;241;43m.\u001b[39;49m\u001b[43mpredict\u001b[49m\u001b[43m(\u001b[49m\u001b[43mnp\u001b[49m\u001b[38;5;241;43m.\u001b[39;49m\u001b[43mzeros\u001b[49m\u001b[43m(\u001b[49m\u001b[43mshape\u001b[49m\u001b[43m)\u001b[49m\u001b[43m)\u001b[49m\u001b[38;5;241;43m.\u001b[39;49m\u001b[43mshape\u001b[49m\u001b[43m[\u001b[49m\u001b[38;5;241;43m1\u001b[39;49m\u001b[43m]\u001b[49m\n\u001b[1;32m    141\u001b[0m \u001b[38;5;28;01mif\u001b[39;00m is_enc:\n\u001b[1;32m    142\u001b[0m     \u001b[38;5;28mself\u001b[39m\u001b[38;5;241m.\u001b[39menc_model \u001b[38;5;241m=\u001b[39m \u001b[38;5;28;01mTrue\u001b[39;00m\n",
      "\u001b[0;31mIndexError\u001b[0m: tuple index out of range"
     ]
    }
   ],
   "source": [
    "explainer_alibi = CounterfactualProto(rf_sk_np_model.predict, shape, use_kdtree=True, theta=10., max_iterations=1000,\n",
    "                         feature_range=(X_train.min(axis=0), X_train.max(axis=0)),\n",
    "                         c_init=1., c_steps=10)\n",
    "\n",
    "explainer_alibi.fit(X_train)"
   ]
  },
  {
   "cell_type": "code",
   "execution_count": null,
   "id": "85f32d04-9119-4743-acd9-3624683ec3fb",
   "metadata": {},
   "outputs": [],
   "source": [
    "# explain an instance, in this case a patient\n",
    "#explanation = explainer.explain(x)"
   ]
  }
 ],
 "metadata": {
  "kernelspec": {
   "display_name": "Python 3 (ipykernel)",
   "language": "python",
   "name": "python3"
  },
  "language_info": {
   "codemirror_mode": {
    "name": "ipython",
    "version": 3
   },
   "file_extension": ".py",
   "mimetype": "text/x-python",
   "name": "python",
   "nbconvert_exporter": "python",
   "pygments_lexer": "ipython3",
   "version": "3.8.9"
  }
 },
 "nbformat": 4,
 "nbformat_minor": 5
}
