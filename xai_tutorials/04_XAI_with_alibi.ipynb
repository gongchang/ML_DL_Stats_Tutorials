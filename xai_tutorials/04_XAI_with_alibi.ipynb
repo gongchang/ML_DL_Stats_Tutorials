{
 "cells": [
  {
   "cell_type": "markdown",
   "id": "ae9178da-74f4-4ab4-a25d-e17a024eeb6c",
   "metadata": {},
   "source": [
    "## counterfactual XAI with alibi"
   ]
  },
  {
   "cell_type": "markdown",
   "id": "d2fc8645-a903-47a4-b385-7ca02087141c",
   "metadata": {},
   "source": [
    "***Currently, it seems that alibi does not work well with sklearn models. I saw an issue in alibi's github repo related to this, and another big issue I am seeing with alibi is that it works with an older version of numpy which is inconsistent with many of the other package dependencies. So I decided to create a virtual environment for it and also train the machien learning model under the same environment (the sklean training and model serialization steps are all sensitive to the numpy versions) \n",
    "\n",
    "Still running into issues utilizing this package so far."
   ]
  },
  {
   "cell_type": "raw",
   "id": "ffd2a213-13c0-40d6-b421-3d532001912f",
   "metadata": {},
   "source": [
    "conda create --name alibi --clone dltutorials\n",
    "cona activate alibi\n",
    "pip3 install alibi ## numpy will be downgraded from 2.x to 1.26.4\n",
    "pip3 install tensorflow==2.16.1 # also a lower version of tensorflow (otherwise, it will not import)"
   ]
  },
  {
   "cell_type": "markdown",
   "id": "8c7c11b2-4e04-4f9e-8b08-4477ca111bfd",
   "metadata": {},
   "source": [
    "## load the data and build a sklearn model"
   ]
  },
  {
   "cell_type": "code",
   "execution_count": 1,
   "id": "b30ae4aa-8a9b-4809-9d0a-926f8bb754c8",
   "metadata": {},
   "outputs": [],
   "source": [
    "import pandas as pd\n",
    "df_train = pd.read_csv(\"../automl_tutorials/diabetes_train.csv\")\n",
    "df_test = pd.read_csv(\"../automl_tutorials/diabetes_test.csv\")"
   ]
  },
  {
   "cell_type": "code",
   "execution_count": 2,
   "id": "3ffb51dd-002e-4c59-8d23-dd5983f905ba",
   "metadata": {},
   "outputs": [],
   "source": [
    "#import sklearn\n",
    "import numpy as np"
   ]
  },
  {
   "cell_type": "code",
   "execution_count": 3,
   "id": "d3623645-ffbd-4238-b3a3-aa9c88f5b149",
   "metadata": {},
   "outputs": [
    {
     "data": {
      "text/plain": [
       "'1.26.4'"
      ]
     },
     "execution_count": 3,
     "metadata": {},
     "output_type": "execute_result"
    }
   ],
   "source": [
    "np.__version__"
   ]
  },
  {
   "cell_type": "markdown",
   "id": "a4f19238-d9ff-4922-aa2c-5853edf66e06",
   "metadata": {},
   "source": [
    "If running into issues of importing sklearn only in jupyter notebook, try the following:\n",
    "\n",
    "conda activate dltutorials\n",
    "conda install ipython\n",
    "conda install notebook\n",
    "python -m ipykernel install --user --name dltutorials"
   ]
  },
  {
   "cell_type": "code",
   "execution_count": 14,
   "id": "f94be4bb-ff57-445d-981a-93b70adcac03",
   "metadata": {},
   "outputs": [
    {
     "name": "stdout",
     "output_type": "stream",
     "text": [
      "Epoch 1/50\n"
     ]
    },
    {
     "name": "stderr",
     "output_type": "stream",
     "text": [
      "/opt/anaconda3/envs/alibi/lib/python3.12/site-packages/keras/src/layers/core/dense.py:87: UserWarning: Do not pass an `input_shape`/`input_dim` argument to a layer. When using Sequential models, prefer using an `Input(shape)` object as the first layer in the model instead.\n",
      "  super().__init__(activity_regularizer=activity_regularizer, **kwargs)\n"
     ]
    },
    {
     "name": "stdout",
     "output_type": "stream",
     "text": [
      "\u001b[1m12/12\u001b[0m \u001b[32m━━━━━━━━━━━━━━━━━━━━\u001b[0m\u001b[37m\u001b[0m \u001b[1m0s\u001b[0m 7ms/step - loss: 27364.6035 - mean_absolute_error: 147.1512 - val_loss: 29063.9414 - val_mean_absolute_error: 151.0713\n",
      "Epoch 2/50\n",
      "\u001b[1m12/12\u001b[0m \u001b[32m━━━━━━━━━━━━━━━━━━━━\u001b[0m\u001b[37m\u001b[0m \u001b[1m0s\u001b[0m 2ms/step - loss: 29332.9141 - mean_absolute_error: 153.1747 - val_loss: 29008.9355 - val_mean_absolute_error: 150.8940\n",
      "Epoch 3/50\n",
      "\u001b[1m12/12\u001b[0m \u001b[32m━━━━━━━━━━━━━━━━━━━━\u001b[0m\u001b[37m\u001b[0m \u001b[1m0s\u001b[0m 2ms/step - loss: 28086.5078 - mean_absolute_error: 148.5459 - val_loss: 28931.0254 - val_mean_absolute_error: 150.6419\n",
      "Epoch 4/50\n",
      "\u001b[1m12/12\u001b[0m \u001b[32m━━━━━━━━━━━━━━━━━━━━\u001b[0m\u001b[37m\u001b[0m \u001b[1m0s\u001b[0m 2ms/step - loss: 28394.8633 - mean_absolute_error: 150.0927 - val_loss: 28815.7617 - val_mean_absolute_error: 150.2686\n",
      "Epoch 5/50\n",
      "\u001b[1m12/12\u001b[0m \u001b[32m━━━━━━━━━━━━━━━━━━━━\u001b[0m\u001b[37m\u001b[0m \u001b[1m0s\u001b[0m 2ms/step - loss: 25453.4688 - mean_absolute_error: 141.8224 - val_loss: 28649.1738 - val_mean_absolute_error: 149.7271\n",
      "Epoch 6/50\n",
      "\u001b[1m12/12\u001b[0m \u001b[32m━━━━━━━━━━━━━━━━━━━━\u001b[0m\u001b[37m\u001b[0m \u001b[1m0s\u001b[0m 2ms/step - loss: 26293.1895 - mean_absolute_error: 144.3702 - val_loss: 28410.5137 - val_mean_absolute_error: 148.9494\n",
      "Epoch 7/50\n",
      "\u001b[1m12/12\u001b[0m \u001b[32m━━━━━━━━━━━━━━━━━━━━\u001b[0m\u001b[37m\u001b[0m \u001b[1m0s\u001b[0m 2ms/step - loss: 27222.4238 - mean_absolute_error: 146.0448 - val_loss: 28094.7637 - val_mean_absolute_error: 147.9086\n",
      "Epoch 8/50\n",
      "\u001b[1m12/12\u001b[0m \u001b[32m━━━━━━━━━━━━━━━━━━━━\u001b[0m\u001b[37m\u001b[0m \u001b[1m0s\u001b[0m 2ms/step - loss: 25015.5215 - mean_absolute_error: 139.3499 - val_loss: 27677.8535 - val_mean_absolute_error: 146.5245\n",
      "Epoch 9/50\n",
      "\u001b[1m12/12\u001b[0m \u001b[32m━━━━━━━━━━━━━━━━━━━━\u001b[0m\u001b[37m\u001b[0m \u001b[1m0s\u001b[0m 2ms/step - loss: 23634.8652 - mean_absolute_error: 135.2486 - val_loss: 27149.9922 - val_mean_absolute_error: 144.7586\n",
      "Epoch 10/50\n",
      "\u001b[1m12/12\u001b[0m \u001b[32m━━━━━━━━━━━━━━━━━━━━\u001b[0m\u001b[37m\u001b[0m \u001b[1m0s\u001b[0m 2ms/step - loss: 21907.7031 - mean_absolute_error: 130.1929 - val_loss: 26477.9766 - val_mean_absolute_error: 142.4825\n",
      "Epoch 11/50\n",
      "\u001b[1m12/12\u001b[0m \u001b[32m━━━━━━━━━━━━━━━━━━━━\u001b[0m\u001b[37m\u001b[0m \u001b[1m0s\u001b[0m 2ms/step - loss: 20570.9062 - mean_absolute_error: 124.0937 - val_loss: 25633.8965 - val_mean_absolute_error: 139.5897\n",
      "Epoch 12/50\n",
      "\u001b[1m12/12\u001b[0m \u001b[32m━━━━━━━━━━━━━━━━━━━━\u001b[0m\u001b[37m\u001b[0m \u001b[1m0s\u001b[0m 2ms/step - loss: 19154.0332 - mean_absolute_error: 119.5086 - val_loss: 24660.8730 - val_mean_absolute_error: 136.1721\n",
      "Epoch 13/50\n",
      "\u001b[1m12/12\u001b[0m \u001b[32m━━━━━━━━━━━━━━━━━━━━\u001b[0m\u001b[37m\u001b[0m \u001b[1m0s\u001b[0m 2ms/step - loss: 15806.3545 - mean_absolute_error: 107.5546 - val_loss: 23560.5020 - val_mean_absolute_error: 132.2089\n",
      "Epoch 14/50\n",
      "\u001b[1m12/12\u001b[0m \u001b[32m━━━━━━━━━━━━━━━━━━━━\u001b[0m\u001b[37m\u001b[0m \u001b[1m0s\u001b[0m 2ms/step - loss: 14109.2451 - mean_absolute_error: 99.7104 - val_loss: 22359.0137 - val_mean_absolute_error: 127.7415\n",
      "Epoch 15/50\n",
      "\u001b[1m12/12\u001b[0m \u001b[32m━━━━━━━━━━━━━━━━━━━━\u001b[0m\u001b[37m\u001b[0m \u001b[1m0s\u001b[0m 2ms/step - loss: 10724.5635 - mean_absolute_error: 84.3912 - val_loss: 21137.1465 - val_mean_absolute_error: 123.0562\n",
      "Epoch 16/50\n",
      "\u001b[1m12/12\u001b[0m \u001b[32m━━━━━━━━━━━━━━━━━━━━\u001b[0m\u001b[37m\u001b[0m \u001b[1m0s\u001b[0m 2ms/step - loss: 9035.9248 - mean_absolute_error: 76.7799 - val_loss: 19821.1562 - val_mean_absolute_error: 117.8153\n",
      "Epoch 17/50\n",
      "\u001b[1m12/12\u001b[0m \u001b[32m━━━━━━━━━━━━━━━━━━━━\u001b[0m\u001b[37m\u001b[0m \u001b[1m0s\u001b[0m 2ms/step - loss: 8464.9678 - mean_absolute_error: 72.4481 - val_loss: 18577.0137 - val_mean_absolute_error: 112.6266\n",
      "Epoch 18/50\n",
      "\u001b[1m12/12\u001b[0m \u001b[32m━━━━━━━━━━━━━━━━━━━━\u001b[0m\u001b[37m\u001b[0m \u001b[1m0s\u001b[0m 2ms/step - loss: 6875.4819 - mean_absolute_error: 64.6106 - val_loss: 17357.3027 - val_mean_absolute_error: 107.3469\n",
      "Epoch 19/50\n",
      "\u001b[1m12/12\u001b[0m \u001b[32m━━━━━━━━━━━━━━━━━━━━\u001b[0m\u001b[37m\u001b[0m \u001b[1m0s\u001b[0m 2ms/step - loss: 5063.2646 - mean_absolute_error: 53.5303 - val_loss: 16355.2686 - val_mean_absolute_error: 102.8846\n",
      "Epoch 20/50\n",
      "\u001b[1m12/12\u001b[0m \u001b[32m━━━━━━━━━━━━━━━━━━━━\u001b[0m\u001b[37m\u001b[0m \u001b[1m0s\u001b[0m 2ms/step - loss: 5292.9844 - mean_absolute_error: 55.5829 - val_loss: 15601.1309 - val_mean_absolute_error: 99.4746\n",
      "Epoch 21/50\n",
      "\u001b[1m12/12\u001b[0m \u001b[32m━━━━━━━━━━━━━━━━━━━━\u001b[0m\u001b[37m\u001b[0m \u001b[1m0s\u001b[0m 2ms/step - loss: 5246.2871 - mean_absolute_error: 54.3583 - val_loss: 14767.0283 - val_mean_absolute_error: 95.7679\n",
      "Epoch 22/50\n",
      "\u001b[1m12/12\u001b[0m \u001b[32m━━━━━━━━━━━━━━━━━━━━\u001b[0m\u001b[37m\u001b[0m \u001b[1m0s\u001b[0m 2ms/step - loss: 5071.5879 - mean_absolute_error: 54.9161 - val_loss: 14226.4385 - val_mean_absolute_error: 93.3536\n",
      "Epoch 23/50\n",
      "\u001b[1m12/12\u001b[0m \u001b[32m━━━━━━━━━━━━━━━━━━━━\u001b[0m\u001b[37m\u001b[0m \u001b[1m0s\u001b[0m 2ms/step - loss: 4508.1606 - mean_absolute_error: 51.8455 - val_loss: 13887.3369 - val_mean_absolute_error: 91.8515\n",
      "Epoch 24/50\n",
      "\u001b[1m12/12\u001b[0m \u001b[32m━━━━━━━━━━━━━━━━━━━━\u001b[0m\u001b[37m\u001b[0m \u001b[1m0s\u001b[0m 2ms/step - loss: 4424.2739 - mean_absolute_error: 51.6366 - val_loss: 13640.5488 - val_mean_absolute_error: 90.7338\n",
      "Epoch 25/50\n",
      "\u001b[1m12/12\u001b[0m \u001b[32m━━━━━━━━━━━━━━━━━━━━\u001b[0m\u001b[37m\u001b[0m \u001b[1m0s\u001b[0m 2ms/step - loss: 4162.1465 - mean_absolute_error: 50.6900 - val_loss: 13324.9102 - val_mean_absolute_error: 89.3429\n",
      "Epoch 26/50\n",
      "\u001b[1m12/12\u001b[0m \u001b[32m━━━━━━━━━━━━━━━━━━━━\u001b[0m\u001b[37m\u001b[0m \u001b[1m0s\u001b[0m 2ms/step - loss: 4510.0942 - mean_absolute_error: 51.9920 - val_loss: 12982.1865 - val_mean_absolute_error: 87.8680\n",
      "Epoch 27/50\n",
      "\u001b[1m12/12\u001b[0m \u001b[32m━━━━━━━━━━━━━━━━━━━━\u001b[0m\u001b[37m\u001b[0m \u001b[1m0s\u001b[0m 2ms/step - loss: 4442.3594 - mean_absolute_error: 52.4924 - val_loss: 12592.4717 - val_mean_absolute_error: 86.2324\n",
      "Epoch 28/50\n",
      "\u001b[1m12/12\u001b[0m \u001b[32m━━━━━━━━━━━━━━━━━━━━\u001b[0m\u001b[37m\u001b[0m \u001b[1m0s\u001b[0m 3ms/step - loss: 3951.1870 - mean_absolute_error: 48.3143 - val_loss: 12521.4268 - val_mean_absolute_error: 85.9363\n",
      "Epoch 29/50\n",
      "\u001b[1m12/12\u001b[0m \u001b[32m━━━━━━━━━━━━━━━━━━━━\u001b[0m\u001b[37m\u001b[0m \u001b[1m0s\u001b[0m 2ms/step - loss: 4031.1948 - mean_absolute_error: 49.8107 - val_loss: 12286.4805 - val_mean_absolute_error: 85.0070\n",
      "Epoch 30/50\n",
      "\u001b[1m12/12\u001b[0m \u001b[32m━━━━━━━━━━━━━━━━━━━━\u001b[0m\u001b[37m\u001b[0m \u001b[1m0s\u001b[0m 2ms/step - loss: 3666.5251 - mean_absolute_error: 47.3632 - val_loss: 11961.4014 - val_mean_absolute_error: 83.7562\n",
      "Epoch 31/50\n",
      "\u001b[1m12/12\u001b[0m \u001b[32m━━━━━━━━━━━━━━━━━━━━\u001b[0m\u001b[37m\u001b[0m \u001b[1m0s\u001b[0m 2ms/step - loss: 3975.7817 - mean_absolute_error: 49.6223 - val_loss: 11945.7109 - val_mean_absolute_error: 83.6954\n",
      "Epoch 32/50\n",
      "\u001b[1m12/12\u001b[0m \u001b[32m━━━━━━━━━━━━━━━━━━━━\u001b[0m\u001b[37m\u001b[0m \u001b[1m0s\u001b[0m 2ms/step - loss: 3745.6584 - mean_absolute_error: 48.2979 - val_loss: 11834.7881 - val_mean_absolute_error: 83.2752\n",
      "Epoch 33/50\n",
      "\u001b[1m12/12\u001b[0m \u001b[32m━━━━━━━━━━━━━━━━━━━━\u001b[0m\u001b[37m\u001b[0m \u001b[1m0s\u001b[0m 2ms/step - loss: 3511.0623 - mean_absolute_error: 46.2988 - val_loss: 11618.0254 - val_mean_absolute_error: 82.4461\n",
      "Epoch 34/50\n",
      "\u001b[1m12/12\u001b[0m \u001b[32m━━━━━━━━━━━━━━━━━━━━\u001b[0m\u001b[37m\u001b[0m \u001b[1m0s\u001b[0m 2ms/step - loss: 3836.4280 - mean_absolute_error: 49.4181 - val_loss: 11410.7949 - val_mean_absolute_error: 81.6665\n",
      "Epoch 35/50\n",
      "\u001b[1m12/12\u001b[0m \u001b[32m━━━━━━━━━━━━━━━━━━━━\u001b[0m\u001b[37m\u001b[0m \u001b[1m0s\u001b[0m 2ms/step - loss: 3858.3147 - mean_absolute_error: 48.6279 - val_loss: 11334.7783 - val_mean_absolute_error: 81.3900\n",
      "Epoch 36/50\n",
      "\u001b[1m12/12\u001b[0m \u001b[32m━━━━━━━━━━━━━━━━━━━━\u001b[0m\u001b[37m\u001b[0m \u001b[1m0s\u001b[0m 2ms/step - loss: 3693.1987 - mean_absolute_error: 47.8391 - val_loss: 11257.2090 - val_mean_absolute_error: 81.1167\n",
      "Epoch 37/50\n",
      "\u001b[1m12/12\u001b[0m \u001b[32m━━━━━━━━━━━━━━━━━━━━\u001b[0m\u001b[37m\u001b[0m \u001b[1m0s\u001b[0m 2ms/step - loss: 3801.4688 - mean_absolute_error: 47.9057 - val_loss: 11111.7119 - val_mean_absolute_error: 80.6004\n",
      "Epoch 38/50\n",
      "\u001b[1m12/12\u001b[0m \u001b[32m━━━━━━━━━━━━━━━━━━━━\u001b[0m\u001b[37m\u001b[0m \u001b[1m0s\u001b[0m 2ms/step - loss: 3551.1384 - mean_absolute_error: 47.2072 - val_loss: 10876.8936 - val_mean_absolute_error: 79.7964\n",
      "Epoch 39/50\n",
      "\u001b[1m12/12\u001b[0m \u001b[32m━━━━━━━━━━━━━━━━━━━━\u001b[0m\u001b[37m\u001b[0m \u001b[1m0s\u001b[0m 2ms/step - loss: 3750.6604 - mean_absolute_error: 47.7798 - val_loss: 10672.6016 - val_mean_absolute_error: 79.1302\n",
      "Epoch 40/50\n",
      "\u001b[1m12/12\u001b[0m \u001b[32m━━━━━━━━━━━━━━━━━━━━\u001b[0m\u001b[37m\u001b[0m \u001b[1m0s\u001b[0m 2ms/step - loss: 3278.7041 - mean_absolute_error: 45.8271 - val_loss: 10352.3438 - val_mean_absolute_error: 78.0709\n",
      "Epoch 41/50\n",
      "\u001b[1m12/12\u001b[0m \u001b[32m━━━━━━━━━━━━━━━━━━━━\u001b[0m\u001b[37m\u001b[0m \u001b[1m0s\u001b[0m 2ms/step - loss: 3686.4751 - mean_absolute_error: 47.4757 - val_loss: 10202.5459 - val_mean_absolute_error: 77.5951\n",
      "Epoch 42/50\n",
      "\u001b[1m12/12\u001b[0m \u001b[32m━━━━━━━━━━━━━━━━━━━━\u001b[0m\u001b[37m\u001b[0m \u001b[1m0s\u001b[0m 2ms/step - loss: 3920.3008 - mean_absolute_error: 48.9497 - val_loss: 10366.2656 - val_mean_absolute_error: 78.1660\n",
      "Epoch 43/50\n",
      "\u001b[1m12/12\u001b[0m \u001b[32m━━━━━━━━━━━━━━━━━━━━\u001b[0m\u001b[37m\u001b[0m \u001b[1m0s\u001b[0m 2ms/step - loss: 3425.7759 - mean_absolute_error: 46.8304 - val_loss: 10440.0459 - val_mean_absolute_error: 78.4110\n",
      "Epoch 44/50\n",
      "\u001b[1m12/12\u001b[0m \u001b[32m━━━━━━━━━━━━━━━━━━━━\u001b[0m\u001b[37m\u001b[0m \u001b[1m0s\u001b[0m 2ms/step - loss: 3495.3752 - mean_absolute_error: 47.3637 - val_loss: 10444.5957 - val_mean_absolute_error: 78.4365\n",
      "Epoch 45/50\n",
      "\u001b[1m12/12\u001b[0m \u001b[32m━━━━━━━━━━━━━━━━━━━━\u001b[0m\u001b[37m\u001b[0m \u001b[1m0s\u001b[0m 3ms/step - loss: 3401.4109 - mean_absolute_error: 45.8384 - val_loss: 10304.8164 - val_mean_absolute_error: 77.9809\n",
      "Epoch 46/50\n",
      "\u001b[1m12/12\u001b[0m \u001b[32m━━━━━━━━━━━━━━━━━━━━\u001b[0m\u001b[37m\u001b[0m \u001b[1m0s\u001b[0m 2ms/step - loss: 3443.6355 - mean_absolute_error: 45.9674 - val_loss: 10037.5117 - val_mean_absolute_error: 77.1551\n",
      "Epoch 47/50\n",
      "\u001b[1m12/12\u001b[0m \u001b[32m━━━━━━━━━━━━━━━━━━━━\u001b[0m\u001b[37m\u001b[0m \u001b[1m0s\u001b[0m 2ms/step - loss: 3563.4954 - mean_absolute_error: 46.6720 - val_loss: 9954.0459 - val_mean_absolute_error: 76.9068\n",
      "Epoch 48/50\n",
      "\u001b[1m12/12\u001b[0m \u001b[32m━━━━━━━━━━━━━━━━━━━━\u001b[0m\u001b[37m\u001b[0m \u001b[1m0s\u001b[0m 2ms/step - loss: 3329.2278 - mean_absolute_error: 45.3808 - val_loss: 9933.5264 - val_mean_absolute_error: 76.8333\n",
      "Epoch 49/50\n",
      "\u001b[1m12/12\u001b[0m \u001b[32m━━━━━━━━━━━━━━━━━━━━\u001b[0m\u001b[37m\u001b[0m \u001b[1m0s\u001b[0m 2ms/step - loss: 3379.8469 - mean_absolute_error: 46.2204 - val_loss: 9832.3076 - val_mean_absolute_error: 76.5172\n",
      "Epoch 50/50\n",
      "\u001b[1m12/12\u001b[0m \u001b[32m━━━━━━━━━━━━━━━━━━━━\u001b[0m\u001b[37m\u001b[0m \u001b[1m0s\u001b[0m 2ms/step - loss: 3218.3633 - mean_absolute_error: 43.4253 - val_loss: 9624.6494 - val_mean_absolute_error: 75.8562\n",
      "Test Loss (MSE): 9624.6494\n",
      "Test MAE: 75.8562\n"
     ]
    },
    {
     "data": {
      "image/png": "[encoded data removed]",
      "text/plain": [
       "<Figure size 640x480 with 1 Axes>"
      ]
     },
     "metadata": {},
     "output_type": "display_data"
    }
   ],
   "source": [
    "import numpy as np\n",
    "import tensorflow as tf\n",
    "from tensorflow.keras.models import Sequential\n",
    "from tensorflow.keras.layers import Dense\n",
    "from sklearn.model_selection import train_test_split\n",
    "from sklearn.datasets import make_regression\n",
    "import matplotlib.pyplot as plt\n",
    "\n",
    "# Generate synthetic regression data\n",
    "#X, y = make_regression(n_samples=1000, n_features=10, noise=0.1, random_state=42)\n",
    "\n",
    "# Split into train and test sets\n",
    "X_train, X_test, y_train, y_test = np.array(df_train.iloc[:,0:10]),np.array(df_test.iloc[:,0:10]),np.array(df_train['target']),np.array(df_test['target'])\n",
    "\n",
    "# Normalize data (important for neural networks)\n",
    "X_train = (X_train - np.mean(X_train, axis=0)) / np.std(X_train, axis=0)\n",
    "X_test = (X_test - np.mean(X_train, axis=0)) / np.std(X_train, axis=0)\n",
    "\n",
    "# Define the model\n",
    "model = Sequential([\n",
    "    Dense(64, activation='relu', input_shape=(X_train.shape[1],)),  # Input layer\n",
    "    Dense(32, activation='relu'),                                   # Hidden layer\n",
    "    Dense(1)                                                        # Output layer (no activation for regression)\n",
    "]\n",
    "\n",
    "# Compile the model\n",
    "model.compile(\n",
    "    optimizer='adam',              # Adaptive learning rate optimizer\n",
    "    loss='mean_squared_error',     # MSE for regression\n",
    "    metrics=['mean_absolute_error']  # Optional: Track MAE\n",
    ")\n",
    "\n",
    "# Train the model\n",
    "history = model.fit(\n",
    "    X_train, y_train,\n",
    "    validation_data=(X_test, y_test),\n",
    "    epochs=50,                    # Number of training iterations\n",
    "    batch_size=32,                # Batch size\n",
    "    verbose=1                     # Show progress\n",
    ")\n",
    "\n",
    "# Evaluate the model\n",
    "loss, mae = model.evaluate(X_test, y_test, verbose=0)\n",
    "print(f\"Test Loss (MSE): {loss:.4f}\")\n",
    "print(f\"Test MAE: {mae:.4f}\")\n",
    "\n",
    "# Plot training history\n",
    "plt.plot(history.history['loss'], label='Training Loss')\n",
    "plt.plot(history.history['val_loss'], label='Validation Loss')\n",
    "plt.xlabel('Epochs')\n",
    "plt.ylabel('Loss (MSE)')\n",
    "plt.legend()\n",
    "plt.show()"
   ]
  },
  {
   "cell_type": "markdown",
   "id": "7e62960f-02dd-4fcc-8643-52991f9f310f",
   "metadata": {},
   "source": [
    "## alibi workflow"
   ]
  },
  {
   "cell_type": "code",
   "execution_count": 5,
   "id": "591b325b-e554-4f87-8dcc-8e2dd43120a0",
   "metadata": {},
   "outputs": [
    {
     "name": "stderr",
     "output_type": "stream",
     "text": [
      "/opt/anaconda3/envs/alibi/lib/python3.12/site-packages/requests/__init__.py:86: RequestsDependencyWarning: Unable to find acceptable character detection dependency (chardet or charset_normalizer).\n",
      "  warnings.warn(\n",
      "/opt/anaconda3/envs/alibi/lib/python3.12/site-packages/tqdm/auto.py:21: TqdmWarning: IProgress not found. Please update jupyter and ipywidgets. See https://ipywidgets.readthedocs.io/en/stable/user_install.html\n",
      "  from .autonotebook import tqdm as notebook_tqdm\n"
     ]
    }
   ],
   "source": [
    "from alibi.explainers import CounterfactualProto"
   ]
  },
  {
   "cell_type": "code",
   "execution_count": 6,
   "id": "06a7a940-6e9f-4375-9bb0-cecb11cb8a46",
   "metadata": {},
   "outputs": [
    {
     "data": {
      "text/plain": [
       "['age', 'sex', 'bmi', 'bp', 'tc', 'ldl', 'hdl', 'tch', 'ltg', 'glu']"
      ]
     },
     "execution_count": 6,
     "metadata": {},
     "output_type": "execute_result"
    }
   ],
   "source": [
    "variable_names = list(df_train.columns[0:10])\n",
    "variable_names"
   ]
  },
  {
   "cell_type": "code",
   "execution_count": 7,
   "id": "3e016fdb-65fd-4e9c-86b6-4257862f8918",
   "metadata": {},
   "outputs": [],
   "source": [
    "X_train = np.array(df_train.iloc[:,0:10])\n",
    "shape = X_train.shape"
   ]
  },
  {
   "cell_type": "code",
   "execution_count": 8,
   "id": "3efefd64-77ec-4690-bd74-dd2896802ab4",
   "metadata": {},
   "outputs": [
    {
     "data": {
      "text/plain": [
       "(353, 10)"
      ]
     },
     "execution_count": 8,
     "metadata": {},
     "output_type": "execute_result"
    }
   ],
   "source": [
    "X_train.shape"
   ]
  },
  {
   "cell_type": "code",
   "execution_count": 9,
   "id": "11d46781-1eed-4c78-b2d5-0b012d83a72e",
   "metadata": {},
   "outputs": [
    {
     "data": {
      "text/plain": [
       "array([ 0.00175052, -0.04464164, -0.00836158, -0.06419941, -0.03871969,\n",
       "       -0.02448686,  0.00446045, -0.03949338, -0.06468302, -0.05492509])"
      ]
     },
     "execution_count": 9,
     "metadata": {},
     "output_type": "execute_result"
    }
   ],
   "source": [
    "X_train[1]"
   ]
  },
  {
   "cell_type": "code",
   "execution_count": 10,
   "id": "47d669e2-cc99-4f89-9286-2eadeb7cc849",
   "metadata": {},
   "outputs": [
    {
     "data": {
      "text/plain": [
       "(1, 10)"
      ]
     },
     "execution_count": 10,
     "metadata": {},
     "output_type": "execute_result"
    }
   ],
   "source": [
    "X1 = X_train[1].reshape((1,) + X_train[1].shape)\n",
    "shape2= X1.shape\n",
    "shape2"
   ]
  },
  {
   "cell_type": "code",
   "execution_count": 11,
   "id": "ddbb2cb2-dc06-4d2f-adad-d3baaa5ca1b2",
   "metadata": {},
   "outputs": [
    {
     "data": {
      "text/plain": [
       "array([-0.10722563, -0.04464164, -0.0902753 , -0.10895673, -0.12678067,\n",
       "       -0.11561307, -0.09862541, -0.0763945 , -0.12609739, -0.12948301])"
      ]
     },
     "execution_count": 11,
     "metadata": {},
     "output_type": "execute_result"
    }
   ],
   "source": [
    "X_train.min(axis=0)"
   ]
  },
  {
   "cell_type": "code",
   "execution_count": 15,
   "id": "4cb7a7b5-6ece-4276-b373-1ce823a9c807",
   "metadata": {},
   "outputs": [
    {
     "ename": "AttributeError",
     "evalue": "module 'keras._tf_keras.keras.backend' has no attribute 'get_session'",
     "output_type": "error",
     "traceback": [
      "\u001b[31m---------------------------------------------------------------------------\u001b[39m",
      "\u001b[31mAttributeError\u001b[39m                            Traceback (most recent call last)",
      "\u001b[36mCell\u001b[39m\u001b[36m \u001b[39m\u001b[32mIn[15]\u001b[39m\u001b[32m, line 1\u001b[39m\n\u001b[32m----> \u001b[39m\u001b[32m1\u001b[39m explainer_alibi = CounterfactualProto(model.predict, shape2) \u001b[38;5;66;03m#, use_kdtree=True, theta=10., max_iterations=1000,\u001b[39;00m\n\u001b[32m      2\u001b[39m                          \u001b[38;5;66;03m#feature_range=(X_train.min(axis=0), X_train.max(axis=0)),\u001b[39;00m\n\u001b[32m      3\u001b[39m                          \u001b[38;5;66;03m#c_init=1., c_steps=10)\u001b[39;00m\n\u001b[32m      5\u001b[39m explainer_alibi.fit(X_train)\n",
      "\u001b[36mFile \u001b[39m\u001b[32m/opt/anaconda3/envs/alibi/lib/python3.12/site-packages/alibi/explainers/cfproto.py:123\u001b[39m, in \u001b[36mCounterfactualProto.__init__\u001b[39m\u001b[34m(self, predict, shape, kappa, beta, feature_range, gamma, ae_model, enc_model, theta, cat_vars, ohe, use_kdtree, learning_rate_init, max_iterations, c_init, c_steps, eps, clip, update_num_grad, write_dir, sess)\u001b[39m\n\u001b[32m    121\u001b[39m \u001b[38;5;66;03m# check if the passed object is a model and get session\u001b[39;00m\n\u001b[32m    122\u001b[39m is_model = \u001b[38;5;28misinstance\u001b[39m(predict, tf.keras.Model)\n\u001b[32m--> \u001b[39m\u001b[32m123\u001b[39m model_sess = tf.compat.v1.keras.backend.get_session()\n\u001b[32m    124\u001b[39m is_ae = \u001b[38;5;28misinstance\u001b[39m(ae_model, tf.keras.Model)\n\u001b[32m    125\u001b[39m is_enc = \u001b[38;5;28misinstance\u001b[39m(enc_model, tf.keras.Model)\n",
      "\u001b[31mAttributeError\u001b[39m: module 'keras._tf_keras.keras.backend' has no attribute 'get_session'"
     ]
    }
   ],
   "source": [
    "explainer_alibi = CounterfactualProto(model.predict, shape2) #, use_kdtree=True, theta=10., max_iterations=1000,\n",
    "                         #feature_range=(X_train.min(axis=0), X_train.max(axis=0)),\n",
    "                         #c_init=1., c_steps=10)\n",
    "\n",
    "explainer_alibi.fit(X_train)"
   ]
  },
  {
   "cell_type": "code",
   "execution_count": 16,
   "id": "19586c16-9b55-4ed7-a70e-2f0037b1338e",
   "metadata": {},
   "outputs": [
    {
     "ename": "AttributeError",
     "evalue": "module 'keras._tf_keras.keras.backend' has no attribute 'get_session'",
     "output_type": "error",
     "traceback": [
      "\u001b[31m---------------------------------------------------------------------------\u001b[39m",
      "\u001b[31mAttributeError\u001b[39m                            Traceback (most recent call last)",
      "\u001b[36mCell\u001b[39m\u001b[36m \u001b[39m\u001b[32mIn[16]\u001b[39m\u001b[32m, line 10\u001b[39m\n\u001b[32m      7\u001b[39m \u001b[38;5;28;01mdef\u001b[39;00m\u001b[38;5;250m \u001b[39m\u001b[34mpredict_fn\u001b[39m(X):\n\u001b[32m      8\u001b[39m     \u001b[38;5;28;01mreturn\u001b[39;00m model.predict(X)\n\u001b[32m---> \u001b[39m\u001b[32m10\u001b[39m explainer = CounterfactualProto(\n\u001b[32m     11\u001b[39m     predict_fn,\n\u001b[32m     12\u001b[39m     shape=X_train.shape[\u001b[32m1\u001b[39m:],  \u001b[38;5;66;03m# Input shape (e.g., (10,) for 10 features)\u001b[39;00m\n\u001b[32m     13\u001b[39m     feature_range=(X_train.min(axis=\u001b[32m0\u001b[39m), X_train.max(axis=\u001b[32m0\u001b[39m)),\n\u001b[32m     14\u001b[39m     use_kdtree=\u001b[38;5;28;01mTrue\u001b[39;00m,          \u001b[38;5;66;03m# Optional: For faster search\u001b[39;00m\n\u001b[32m     15\u001b[39m     theta=\u001b[32m10.\u001b[39m,                \u001b[38;5;66;03m# Regularization parameter\u001b[39;00m\n\u001b[32m     16\u001b[39m     max_iterations=\u001b[32m1000\u001b[39m\n\u001b[32m     17\u001b[39m )\n\u001b[32m     19\u001b[39m \u001b[38;5;66;03m# Fit the explainer\u001b[39;00m\n\u001b[32m     20\u001b[39m explainer.fit(X_train)\n",
      "\u001b[36mFile \u001b[39m\u001b[32m/opt/anaconda3/envs/alibi/lib/python3.12/site-packages/alibi/explainers/cfproto.py:123\u001b[39m, in \u001b[36mCounterfactualProto.__init__\u001b[39m\u001b[34m(self, predict, shape, kappa, beta, feature_range, gamma, ae_model, enc_model, theta, cat_vars, ohe, use_kdtree, learning_rate_init, max_iterations, c_init, c_steps, eps, clip, update_num_grad, write_dir, sess)\u001b[39m\n\u001b[32m    121\u001b[39m \u001b[38;5;66;03m# check if the passed object is a model and get session\u001b[39;00m\n\u001b[32m    122\u001b[39m is_model = \u001b[38;5;28misinstance\u001b[39m(predict, tf.keras.Model)\n\u001b[32m--> \u001b[39m\u001b[32m123\u001b[39m model_sess = tf.compat.v1.keras.backend.get_session()\n\u001b[32m    124\u001b[39m is_ae = \u001b[38;5;28misinstance\u001b[39m(ae_model, tf.keras.Model)\n\u001b[32m    125\u001b[39m is_enc = \u001b[38;5;28misinstance\u001b[39m(enc_model, tf.keras.Model)\n",
      "\u001b[31mAttributeError\u001b[39m: module 'keras._tf_keras.keras.backend' has no attribute 'get_session'"
     ]
    }
   ],
   "source": [
    "from alibi.explainers import CounterfactualProto\n",
    "\n",
    "# Ensure TensorFlow 2.x is in eager mode (default)\n",
    "tf.compat.v1.disable_eager_execution()  # Disable if needed (legacy support)\n",
    "\n",
    "# Define the explainer (use `predict_fn` instead of `model.predict`)\n",
    "def predict_fn(X):\n",
    "    return model.predict(X)\n",
    "\n",
    "explainer = CounterfactualProto(\n",
    "    predict_fn,\n",
    "    shape=X_train.shape[1:],  # Input shape (e.g., (10,) for 10 features)\n",
    "    feature_range=(X_train.min(axis=0), X_train.max(axis=0)),\n",
    "    use_kdtree=True,          # Optional: For faster search\n",
    "    theta=10.,                # Regularization parameter\n",
    "    max_iterations=1000\n",
    ")\n",
    "\n",
    "# Fit the explainer\n",
    "explainer.fit(X_train)"
   ]
  },
  {
   "cell_type": "code",
   "execution_count": 18,
   "id": "47cc1864-3d46-455e-9846-307d545e5b73",
   "metadata": {},
   "outputs": [
    {
     "data": {
      "text/plain": [
       "'2.16.1'"
      ]
     },
     "execution_count": 18,
     "metadata": {},
     "output_type": "execute_result"
    }
   ],
   "source": [
    "import tensorflow\n",
    "tensorflow.__version__"
   ]
  },
  {
   "cell_type": "code",
   "execution_count": 19,
   "id": "8d03602d-444f-42fc-8b2c-0cc00d1c31ac",
   "metadata": {},
   "outputs": [
    {
     "ename": "ImportError",
     "evalue": "Attempted to use CounterfactualProto without the correct optional dependencies installed. This may be due to missing or incompatible versions of dependencies. To install the correct optional dependencies, run `pip install alibi[tensorflow]` from the command line. For more information, check the installationdocumentation at https://docs.seldon.io/projects/alibi/en/latest/overview/getting_started.html.",
     "output_type": "error",
     "traceback": [
      "\u001b[31m---------------------------------------------------------------------------\u001b[39m",
      "\u001b[31mModuleNotFoundError\u001b[39m                       Traceback (most recent call last)",
      "\u001b[36mFile \u001b[39m\u001b[32m/opt/anaconda3/envs/dltutorials/lib/python3.12/site-packages/alibi/utils/missing_optional_dependency.py:106\u001b[39m, in \u001b[36mimport_optional\u001b[39m\u001b[34m(module_name, names)\u001b[39m\n\u001b[32m    105\u001b[39m \u001b[38;5;28;01mtry\u001b[39;00m:\n\u001b[32m--> \u001b[39m\u001b[32m106\u001b[39m     module = import_module(module_name)\n\u001b[32m    107\u001b[39m     \u001b[38;5;66;03m# TODO: We should check against specific dependency versions here.\u001b[39;00m\n",
      "\u001b[36mFile \u001b[39m\u001b[32m/opt/anaconda3/envs/dltutorials/lib/python3.12/importlib/__init__.py:90\u001b[39m, in \u001b[36mimport_module\u001b[39m\u001b[34m(name, package)\u001b[39m\n\u001b[32m     89\u001b[39m         level += \u001b[32m1\u001b[39m\n\u001b[32m---> \u001b[39m\u001b[32m90\u001b[39m \u001b[38;5;28;01mreturn\u001b[39;00m _bootstrap._gcd_import(name[level:], package, level)\n",
      "\u001b[36mFile \u001b[39m\u001b[32m<frozen importlib._bootstrap>:1387\u001b[39m, in \u001b[36m_gcd_import\u001b[39m\u001b[34m(name, package, level)\u001b[39m\n",
      "\u001b[36mFile \u001b[39m\u001b[32m<frozen importlib._bootstrap>:1360\u001b[39m, in \u001b[36m_find_and_load\u001b[39m\u001b[34m(name, import_)\u001b[39m\n",
      "\u001b[36mFile \u001b[39m\u001b[32m<frozen importlib._bootstrap>:1331\u001b[39m, in \u001b[36m_find_and_load_unlocked\u001b[39m\u001b[34m(name, import_)\u001b[39m\n",
      "\u001b[36mFile \u001b[39m\u001b[32m<frozen importlib._bootstrap>:935\u001b[39m, in \u001b[36m_load_unlocked\u001b[39m\u001b[34m(spec)\u001b[39m\n",
      "\u001b[36mFile \u001b[39m\u001b[32m<frozen importlib._bootstrap_external>:999\u001b[39m, in \u001b[36mexec_module\u001b[39m\u001b[34m(self, module)\u001b[39m\n",
      "\u001b[36mFile \u001b[39m\u001b[32m<frozen importlib._bootstrap>:488\u001b[39m, in \u001b[36m_call_with_frames_removed\u001b[39m\u001b[34m(f, *args, **kwds)\u001b[39m\n",
      "\u001b[36mFile \u001b[39m\u001b[32m/opt/anaconda3/envs/dltutorials/lib/python3.12/site-packages/alibi/explainers/cfproto.py:7\u001b[39m\n\u001b[32m      6\u001b[39m \u001b[38;5;28;01mimport\u001b[39;00m\u001b[38;5;250m \u001b[39m\u001b[34;01mnumpy\u001b[39;00m\u001b[38;5;250m \u001b[39m\u001b[38;5;28;01mas\u001b[39;00m\u001b[38;5;250m \u001b[39m\u001b[34;01mnp\u001b[39;00m\n\u001b[32m----> \u001b[39m\u001b[32m7\u001b[39m \u001b[38;5;28;01mimport\u001b[39;00m\u001b[38;5;250m \u001b[39m\u001b[34;01mtensorflow\u001b[39;00m\u001b[34;01m.\u001b[39;00m\u001b[34;01mcompat\u001b[39;00m\u001b[34;01m.\u001b[39;00m\u001b[34;01mv1\u001b[39;00m\u001b[38;5;250m \u001b[39m\u001b[38;5;28;01mas\u001b[39;00m\u001b[38;5;250m \u001b[39m\u001b[34;01mtf\u001b[39;00m\n\u001b[32m      9\u001b[39m \u001b[38;5;28;01mfrom\u001b[39;00m\u001b[38;5;250m \u001b[39m\u001b[34;01malibi\u001b[39;00m\u001b[34;01m.\u001b[39;00m\u001b[34;01mapi\u001b[39;00m\u001b[34;01m.\u001b[39;00m\u001b[34;01mdefaults\u001b[39;00m\u001b[38;5;250m \u001b[39m\u001b[38;5;28;01mimport\u001b[39;00m DEFAULT_DATA_CFP, DEFAULT_META_CFP\n",
      "\u001b[31mModuleNotFoundError\u001b[39m: No module named 'tensorflow'",
      "\nThe above exception was the direct cause of the following exception:\n",
      "\u001b[31mImportError\u001b[39m                               Traceback (most recent call last)",
      "\u001b[36mCell\u001b[39m\u001b[36m \u001b[39m\u001b[32mIn[19]\u001b[39m\u001b[32m, line 1\u001b[39m\n\u001b[32m----> \u001b[39m\u001b[32m1\u001b[39m explainer_alibi = CounterfactualProto(rf_sk_np_model.predict, shape, use_kdtree=\u001b[38;5;28;01mTrue\u001b[39;00m, theta=\u001b[32m10.\u001b[39m, max_iterations=\u001b[32m1000\u001b[39m,\n\u001b[32m      2\u001b[39m                          feature_range=(X_train.min(axis=\u001b[32m0\u001b[39m), X_train.max(axis=\u001b[32m0\u001b[39m)),\n\u001b[32m      3\u001b[39m                          c_init=\u001b[32m1.\u001b[39m, c_steps=\u001b[32m10\u001b[39m)\n\u001b[32m      5\u001b[39m explainer_alibi.fit(X_train)\n",
      "\u001b[36mFile \u001b[39m\u001b[32m/opt/anaconda3/envs/dltutorials/lib/python3.12/site-packages/alibi/utils/missing_optional_dependency.py:81\u001b[39m, in \u001b[36mMissingDependency.__call__\u001b[39m\u001b[34m(self, *args, **kwargs)\u001b[39m\n\u001b[32m     79\u001b[39m \u001b[38;5;28;01mdef\u001b[39;00m\u001b[38;5;250m \u001b[39m\u001b[34m__call__\u001b[39m(\u001b[38;5;28mself\u001b[39m, *args, **kwargs):\n\u001b[32m     80\u001b[39m \u001b[38;5;250m    \u001b[39m\u001b[33;03m\"\"\"If called, raise an error.\"\"\"\u001b[39;00m\n\u001b[32m---> \u001b[39m\u001b[32m81\u001b[39m     \u001b[38;5;28;01mraise\u001b[39;00m \u001b[38;5;167;01mImportError\u001b[39;00m(\u001b[38;5;28mself\u001b[39m.err_msg) \u001b[38;5;28;01mfrom\u001b[39;00m\u001b[38;5;250m \u001b[39m\u001b[34;01mself\u001b[39;00m\u001b[34;01m.\u001b[39;00m\u001b[34;01merr\u001b[39;00m\n",
      "\u001b[31mImportError\u001b[39m: Attempted to use CounterfactualProto without the correct optional dependencies installed. This may be due to missing or incompatible versions of dependencies. To install the correct optional dependencies, run `pip install alibi[tensorflow]` from the command line. For more information, check the installationdocumentation at https://docs.seldon.io/projects/alibi/en/latest/overview/getting_started.html."
     ]
    }
   ],
   "source": [
    "explainer_alibi = CounterfactualProto(rf_sk_np_model.predict, shape, use_kdtree=True, theta=10., max_iterations=1000,\n",
    "                         feature_range=(X_train.min(axis=0), X_train.max(axis=0)),\n",
    "                         c_init=1., c_steps=10)\n",
    "\n",
    "explainer_alibi.fit(X_train)"
   ]
  },
  {
   "cell_type": "code",
   "execution_count": null,
   "id": "85f32d04-9119-4743-acd9-3624683ec3fb",
   "metadata": {},
   "outputs": [],
   "source": [
    "# explain an instance, in this case a patient\n",
    "#explanation = explainer.explain(x)"
   ]
  }
 ],
 "metadata": {
  "kernelspec": {
   "display_name": "Python 3 (ipykernel)",
   "language": "python",
   "name": "python3"
  },
  "language_info": {
   "codemirror_mode": {
    "name": "ipython",
    "version": 3
   },
   "file_extension": ".py",
   "mimetype": "text/x-python",
   "name": "python",
   "nbconvert_exporter": "python",
   "pygments_lexer": "ipython3",
   "version": "3.12.9"
  }
 },
 "nbformat": 4,
 "nbformat_minor": 5
}
