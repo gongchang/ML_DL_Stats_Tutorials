{
 "cells": [
  {
   "cell_type": "markdown",
   "id": "4fb70975-5bbb-4861-8b8f-9898f711d1e8",
   "metadata": {},
   "source": [
    "# AutoML with tpot and sklearn"
   ]
  },
  {
   "cell_type": "markdown",
   "id": "b9c789c8-c328-4476-8ca0-c4b389db5232",
   "metadata": {},
   "source": [
    "## Let's use the diabetes Dataset"
   ]
  },
  {
   "cell_type": "code",
   "execution_count": 16,
   "id": "d225824a-13e7-46af-b3dc-774db498bc69",
   "metadata": {},
   "outputs": [],
   "source": [
    "from sklearn import datasets\n",
    "import pandas as pd\n",
    "diabetes = datasets.load_diabetes()\n",
    "dia_df = pd.DataFrame(data=diabetes.data, columns=diabetes.feature_names)\n",
    "dia_df.columns = ['age',\n",
    "  'sex',\n",
    "  'bmi',\n",
    "  'bp',\n",
    "  'tc',\n",
    "  'ldl',\n",
    "  'hdl',\n",
    "  'tch',\n",
    "  'ltg',\n",
    "  'glu']\n",
    "dia_df[\"target\"] = diabetes.target"
   ]
  },
  {
   "cell_type": "code",
   "execution_count": 17,
   "id": "eff71db2-1754-4865-9514-cb5cb0fe62ca",
   "metadata": {},
   "outputs": [
    {
     "data": {
      "text/html": [
       "<div>\n",
       "<style scoped>\n",
       "    .dataframe tbody tr th:only-of-type {\n",
       "        vertical-align: middle;\n",
       "    }\n",
       "\n",
       "    .dataframe tbody tr th {\n",
       "        vertical-align: top;\n",
       "    }\n",
       "\n",
       "    .dataframe thead th {\n",
       "        text-align: right;\n",
       "    }\n",
       "</style>\n",
       "<table border=\"1\" class=\"dataframe\">\n",
       "  <thead>\n",
       "    <tr style=\"text-align: right;\">\n",
       "      <th></th>\n",
       "      <th>age</th>\n",
       "      <th>sex</th>\n",
       "      <th>bmi</th>\n",
       "      <th>bp</th>\n",
       "      <th>tc</th>\n",
       "      <th>ldl</th>\n",
       "      <th>hdl</th>\n",
       "      <th>tch</th>\n",
       "      <th>ltg</th>\n",
       "      <th>glu</th>\n",
       "      <th>target</th>\n",
       "    </tr>\n",
       "  </thead>\n",
       "  <tbody>\n",
       "    <tr>\n",
       "      <th>0</th>\n",
       "      <td>0.038076</td>\n",
       "      <td>0.050680</td>\n",
       "      <td>0.061696</td>\n",
       "      <td>0.021872</td>\n",
       "      <td>-0.044223</td>\n",
       "      <td>-0.034821</td>\n",
       "      <td>-0.043401</td>\n",
       "      <td>-0.002592</td>\n",
       "      <td>0.019908</td>\n",
       "      <td>-0.017646</td>\n",
       "      <td>151.0</td>\n",
       "    </tr>\n",
       "    <tr>\n",
       "      <th>1</th>\n",
       "      <td>-0.001882</td>\n",
       "      <td>-0.044642</td>\n",
       "      <td>-0.051474</td>\n",
       "      <td>-0.026328</td>\n",
       "      <td>-0.008449</td>\n",
       "      <td>-0.019163</td>\n",
       "      <td>0.074412</td>\n",
       "      <td>-0.039493</td>\n",
       "      <td>-0.068330</td>\n",
       "      <td>-0.092204</td>\n",
       "      <td>75.0</td>\n",
       "    </tr>\n",
       "    <tr>\n",
       "      <th>2</th>\n",
       "      <td>0.085299</td>\n",
       "      <td>0.050680</td>\n",
       "      <td>0.044451</td>\n",
       "      <td>-0.005671</td>\n",
       "      <td>-0.045599</td>\n",
       "      <td>-0.034194</td>\n",
       "      <td>-0.032356</td>\n",
       "      <td>-0.002592</td>\n",
       "      <td>0.002864</td>\n",
       "      <td>-0.025930</td>\n",
       "      <td>141.0</td>\n",
       "    </tr>\n",
       "    <tr>\n",
       "      <th>3</th>\n",
       "      <td>-0.089063</td>\n",
       "      <td>-0.044642</td>\n",
       "      <td>-0.011595</td>\n",
       "      <td>-0.036656</td>\n",
       "      <td>0.012191</td>\n",
       "      <td>0.024991</td>\n",
       "      <td>-0.036038</td>\n",
       "      <td>0.034309</td>\n",
       "      <td>0.022692</td>\n",
       "      <td>-0.009362</td>\n",
       "      <td>206.0</td>\n",
       "    </tr>\n",
       "    <tr>\n",
       "      <th>4</th>\n",
       "      <td>0.005383</td>\n",
       "      <td>-0.044642</td>\n",
       "      <td>-0.036385</td>\n",
       "      <td>0.021872</td>\n",
       "      <td>0.003935</td>\n",
       "      <td>0.015596</td>\n",
       "      <td>0.008142</td>\n",
       "      <td>-0.002592</td>\n",
       "      <td>-0.031991</td>\n",
       "      <td>-0.046641</td>\n",
       "      <td>135.0</td>\n",
       "    </tr>\n",
       "  </tbody>\n",
       "</table>\n",
       "</div>"
      ],
      "text/plain": [
       "        age       sex       bmi        bp        tc       ldl       hdl  \\\n",
       "0  0.038076  0.050680  0.061696  0.021872 -0.044223 -0.034821 -0.043401   \n",
       "1 -0.001882 -0.044642 -0.051474 -0.026328 -0.008449 -0.019163  0.074412   \n",
       "2  0.085299  0.050680  0.044451 -0.005671 -0.045599 -0.034194 -0.032356   \n",
       "3 -0.089063 -0.044642 -0.011595 -0.036656  0.012191  0.024991 -0.036038   \n",
       "4  0.005383 -0.044642 -0.036385  0.021872  0.003935  0.015596  0.008142   \n",
       "\n",
       "        tch       ltg       glu  target  \n",
       "0 -0.002592  0.019908 -0.017646   151.0  \n",
       "1 -0.039493 -0.068330 -0.092204    75.0  \n",
       "2 -0.002592  0.002864 -0.025930   141.0  \n",
       "3  0.034309  0.022692 -0.009362   206.0  \n",
       "4 -0.002592 -0.031991 -0.046641   135.0  "
      ]
     },
     "execution_count": 17,
     "metadata": {},
     "output_type": "execute_result"
    }
   ],
   "source": [
    "dia_df.head()"
   ]
  },
  {
   "cell_type": "code",
   "execution_count": 18,
   "id": "4e6e2fef-eab5-4214-9bdb-0151b0aa07f3",
   "metadata": {},
   "outputs": [
    {
     "data": {
      "text/plain": [
       "dict_keys(['data', 'target', 'frame', 'DESCR', 'feature_names', 'data_filename', 'target_filename', 'data_module'])"
      ]
     },
     "execution_count": 18,
     "metadata": {},
     "output_type": "execute_result"
    }
   ],
   "source": [
    "diabetes.keys()"
   ]
  },
  {
   "cell_type": "code",
   "execution_count": 19,
   "id": "dfd8d6da-43c3-40d7-a8f6-dec880bc8e89",
   "metadata": {},
   "outputs": [
    {
     "data": {
      "text/plain": [
       "array([151.,  75., 141., 206., 135.])"
      ]
     },
     "execution_count": 19,
     "metadata": {},
     "output_type": "execute_result"
    }
   ],
   "source": [
    "diabetes['target'][0:5]"
   ]
  },
  {
   "cell_type": "markdown",
   "id": "ad5df49c-e187-4375-a5d7-670652fa4fc8",
   "metadata": {},
   "source": [
    "## train test split"
   ]
  },
  {
   "cell_type": "code",
   "execution_count": 20,
   "id": "4e8f3bf5-eabd-4f28-85f7-9594f24b1522",
   "metadata": {},
   "outputs": [],
   "source": [
    "from sklearn.model_selection import train_test_split\n",
    "df_train, df_test = train_test_split(dia_df, train_size=0.8, test_size=0.2, random_state=1231)"
   ]
  },
  {
   "cell_type": "code",
   "execution_count": 21,
   "id": "6c76e0a2-8ce0-4417-b534-81f59670b14c",
   "metadata": {},
   "outputs": [
    {
     "data": {
      "text/plain": [
       "353"
      ]
     },
     "execution_count": 21,
     "metadata": {},
     "output_type": "execute_result"
    }
   ],
   "source": [
    "len(df_train.index)"
   ]
  },
  {
   "cell_type": "code",
   "execution_count": 22,
   "id": "93bd5d70-0206-4042-adeb-48d442e6cad6",
   "metadata": {},
   "outputs": [
    {
     "data": {
      "text/plain": [
       "89"
      ]
     },
     "execution_count": 22,
     "metadata": {},
     "output_type": "execute_result"
    }
   ],
   "source": [
    "len(df_test.index)"
   ]
  },
  {
   "cell_type": "markdown",
   "id": "71ab635f-8687-48ec-a9fc-fca879e14d86",
   "metadata": {},
   "source": [
    "## AutoML workflow with tpot"
   ]
  },
  {
   "cell_type": "code",
   "execution_count": 24,
   "id": "fef99366-bec0-441f-8a8a-ea8f51fdc413",
   "metadata": {},
   "outputs": [
    {
     "name": "stdout",
     "output_type": "stream",
     "text": [
      "                                                                                                                               \n",
      "Generation 1 - Current best internal CV score: -3146.3151389530494\n",
      "                                                                                                                               \n",
      "Generation 2 - Current best internal CV score: -3130.063760139031\n",
      "                                                                                                                               \n",
      "Generation 3 - Current best internal CV score: -3129.3452341689585\n",
      "                                                                                                                               \n",
      "Generation 4 - Current best internal CV score: -3129.3452341689585\n",
      "                                                                                                                               \n",
      "Generation 5 - Current best internal CV score: -3129.3452341689585\n",
      "                                                                                                                               \n",
      "Best pipeline: LassoLarsCV(RBFSampler(input_matrix, gamma=0.9500000000000001), normalize=True)\n"
     ]
    }
   ],
   "source": [
    "from sklearn.model_selection import RepeatedStratifiedKFold\n",
    "from tpot import TPOTRegressor\n",
    "\n",
    "# tpot model search, defualt arg for scoring='neg_mean_squared_error'\n",
    "tpot_model = TPOTRegressor(generations=5, population_size=50, cv=5, verbosity=2, random_state=1, n_jobs=-1) #,use_dask=True)\n",
    "# perform the model search\n",
    "tpot_model.fit(df_train.iloc[:,0:10], df_train['target'])\n",
    "# export the best model pipeline\n",
    "tpot_model.export('automl_best_model_pipeline_by_tpot.py')"
   ]
  },
  {
   "cell_type": "markdown",
   "id": "9f620ea7-489a-4688-8a92-3a1f5e1b4047",
   "metadata": {},
   "source": [
    "### Technical tips:\n",
    "(1) n_jobs=-1 will use as many cores as available on the compute\n",
    "\n",
    "Without seeting it in the TPOTRegressor will result in error message of \"A pipeline has not yet been optimized\"\n",
    "\n",
    "(2) use_dask= \"True\" cannot be used, otherwise it will result in the same error as above"
   ]
  },
  {
   "cell_type": "markdown",
   "id": "21628d3e-926c-466a-98a8-298fa4ccc2eb",
   "metadata": {},
   "source": [
    "## Results"
   ]
  },
  {
   "cell_type": "markdown",
   "id": "8f330bbb-2a19-487a-be59-0e762ebabb9a",
   "metadata": {},
   "source": [
    "a lasso regression model is found to perform the best by tpot "
   ]
  },
  {
   "cell_type": "code",
   "execution_count": 27,
   "id": "dba2c7ab-e5aa-49e8-ab82-b6df06df9b76",
   "metadata": {},
   "outputs": [
    {
     "data": {
      "text/plain": [
       "-2662.3504492777415"
      ]
     },
     "execution_count": 27,
     "metadata": {},
     "output_type": "execute_result"
    }
   ],
   "source": [
    "tpot_model.score(df_test.iloc[:,0:10], df_test['target'])"
   ]
  },
  {
   "cell_type": "code",
   "execution_count": 31,
   "id": "dd33eace-b8c5-4bca-b43e-b14d3e152650",
   "metadata": {},
   "outputs": [
    {
     "data": {
      "text/plain": [
       "Pipeline(steps=[('rbfsampler',\n",
       "                 RBFSampler(gamma=0.9500000000000001, random_state=1)),\n",
       "                ('lassolarscv', LassoLarsCV(normalize=True))])"
      ]
     },
     "execution_count": 31,
     "metadata": {},
     "output_type": "execute_result"
    }
   ],
   "source": [
    "tpot_model.fitted_pipeline_"
   ]
  },
  {
   "cell_type": "markdown",
   "id": "618796dc-d1c2-4d76-be6b-813ac5181f7e",
   "metadata": {},
   "source": [
    "You can see calling \"fitted_pipeline_\" is the same as use the tpot_model (tpot object directly)"
   ]
  },
  {
   "cell_type": "code",
   "execution_count": 32,
   "id": "b12ce83e-ee81-4ea9-9024-3957ed88eec3",
   "metadata": {},
   "outputs": [
    {
     "data": {
      "text/plain": [
       "array([170.55528616, 210.79028115, 188.82781319,  90.71896874,\n",
       "       126.41051848])"
      ]
     },
     "execution_count": 32,
     "metadata": {},
     "output_type": "execute_result"
    }
   ],
   "source": [
    "tpot_model.fitted_pipeline_.predict(df_test.iloc[0:5,0:10])"
   ]
  },
  {
   "cell_type": "code",
   "execution_count": 29,
   "id": "1eeaebe7-9e6d-4960-ad9c-baaad348440c",
   "metadata": {},
   "outputs": [
    {
     "data": {
      "text/plain": [
       "array([170.55528616, 210.79028115, 188.82781319,  90.71896874,\n",
       "       126.41051848])"
      ]
     },
     "execution_count": 29,
     "metadata": {},
     "output_type": "execute_result"
    }
   ],
   "source": [
    "tpot_model.predict(df_test.iloc[0:5,0:10])"
   ]
  },
  {
   "cell_type": "markdown",
   "id": "6cc61843-484d-4556-b4a3-e0d3478f0b99",
   "metadata": {},
   "source": [
    "## Check out the best model pipeline by tpot"
   ]
  },
  {
   "cell_type": "code",
   "execution_count": 25,
   "id": "be28e5c6-508e-4337-9042-0686b2d6e7b5",
   "metadata": {},
   "outputs": [
    {
     "name": "stdout",
     "output_type": "stream",
     "text": [
      "import numpy as np\n",
      "import pandas as pd\n",
      "from sklearn.kernel_approximation import RBFSampler\n",
      "from sklearn.linear_model import LassoLarsCV\n",
      "from sklearn.model_selection import train_test_split\n",
      "from sklearn.pipeline import make_pipeline\n",
      "from tpot.export_utils import set_param_recursive\n",
      "\n",
      "# NOTE: Make sure that the outcome column is labeled 'target' in the data file\n",
      "tpot_data = pd.read_csv('PATH/TO/DATA/FILE', sep='COLUMN_SEPARATOR', dtype=np.float64)\n",
      "features = tpot_data.drop('target', axis=1)\n",
      "training_features, testing_features, training_target, testing_target = \\\n",
      "            train_test_split(features, tpot_data['target'], random_state=1)\n",
      "\n",
      "# Average CV score on the training set was: -3129.3452341689585\n",
      "exported_pipeline = make_pipeline(\n",
      "    RBFSampler(gamma=0.9500000000000001),\n",
      "    LassoLarsCV(normalize=True)\n",
      ")\n",
      "# Fix random state for all the steps in exported pipeline\n",
      "set_param_recursive(exported_pipeline.steps, 'random_state', 1)\n",
      "\n",
      "exported_pipeline.fit(training_features, training_target)\n",
      "results = exported_pipeline.predict(testing_features)\n"
     ]
    }
   ],
   "source": [
    "!cat automl_best_model_pipeline_by_tpot.py"
   ]
  },
  {
   "cell_type": "markdown",
   "id": "971963e7-f2d0-42c7-ba9f-393bf88a8808",
   "metadata": {},
   "source": [
    "## Save the best model"
   ]
  },
  {
   "cell_type": "code",
   "execution_count": 33,
   "id": "680470fd-a182-45d1-bcee-8de06939c181",
   "metadata": {},
   "outputs": [],
   "source": [
    "#we can only pickle the fitted_pipeline_ not the tpot object\n",
    "import pickle\n",
    "filehandler1 = open(b\"diabetes_tpot_automl.model\",\"wb\")\n",
    "pickle.dump(tpot_model.fitted_pipeline_,filehandler1)\n",
    "filehandler1.close()"
   ]
  },
  {
   "cell_type": "markdown",
   "id": "a4145242-5e73-48c9-bdf5-fb023d595a55",
   "metadata": {},
   "source": [
    "## Use r2 to check the performance"
   ]
  },
  {
   "cell_type": "code",
   "execution_count": 35,
   "id": "4abc54e6-167e-4094-bbe6-b74fb9d62701",
   "metadata": {},
   "outputs": [
    {
     "data": {
      "text/plain": [
       "0.5735120348720234"
      ]
     },
     "execution_count": 35,
     "metadata": {},
     "output_type": "execute_result"
    }
   ],
   "source": [
    "from sklearn.metrics import r2_score\n",
    "y_test_predicted=tpot_model.predict(df_test.iloc[:,0:10])\n",
    "r2_score(df_test[\"target\"],y_test_predicted)"
   ]
  },
  {
   "cell_type": "markdown",
   "id": "24909502-8305-4182-aae6-e465730f449a",
   "metadata": {},
   "source": [
    "Remember previously the results from the hyperopt, the r2 score was 0.52. So this autoML results performs slightly better."
   ]
  },
  {
   "cell_type": "markdown",
   "id": "b84990dc-be17-4c81-a8f1-d0a538f4b675",
   "metadata": {},
   "source": [
    "## Use mean absolute error to score the predictions"
   ]
  },
  {
   "cell_type": "code",
   "execution_count": 36,
   "id": "43a4e381-7e92-442c-9ab1-fc67a03d6d19",
   "metadata": {},
   "outputs": [
    {
     "data": {
      "text/plain": [
       "42.193522111272294"
      ]
     },
     "execution_count": 36,
     "metadata": {},
     "output_type": "execute_result"
    }
   ],
   "source": [
    "from sklearn.metrics import mean_absolute_error\n",
    "mean_absolute_error(df_test[\"target\"],y_test_predicted)"
   ]
  },
  {
   "cell_type": "markdown",
   "id": "d2528f88-7f8e-44f3-adb1-e6b1a8b95a3a",
   "metadata": {},
   "source": [
    "Similar to the conclusions using r2: remember previously the results from the hyperopt, the mean absolute error is 44; so this autoML results performs slightly better."
   ]
  },
  {
   "cell_type": "code",
   "execution_count": null,
   "id": "50faac49-3c61-4852-af83-109e76db22de",
   "metadata": {},
   "outputs": [],
   "source": []
  }
 ],
 "metadata": {
  "kernelspec": {
   "display_name": "Python 3 (ipykernel)",
   "language": "python",
   "name": "python3"
  },
  "language_info": {
   "codemirror_mode": {
    "name": "ipython",
    "version": 3
   },
   "file_extension": ".py",
   "mimetype": "text/x-python",
   "name": "python",
   "nbconvert_exporter": "python",
   "pygments_lexer": "ipython3",
   "version": "3.8.9"
  }
 },
 "nbformat": 4,
 "nbformat_minor": 5
}
