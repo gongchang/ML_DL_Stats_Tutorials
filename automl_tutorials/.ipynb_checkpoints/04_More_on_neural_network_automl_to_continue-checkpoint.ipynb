{
 "cells": [
  {
   "cell_type": "markdown",
   "id": "996fe3b2-4b11-48ff-bc7f-de25740c47ec",
   "metadata": {},
   "source": [
    "Three additional python packages are great autoML tools:\n",
    "- (1) NNI (neural network intelligence), a great suite of tools related to hyperparameter tuning and neural architecture search; it also has a web GUI\n",
    "- (2) autoGL, a great tool for graph-based machine learning\n",
    "- (3) ludwig, this tool actually has both a command line option and a python API. So you may not need to code much if opting for the command line option"
   ]
  },
  {
   "cell_type": "markdown",
   "id": "82717c85-e0f0-45d8-825f-9916519dec6b",
   "metadata": {},
   "source": [
    "There is also autoML availalbe in h2o.ai, which is covered in a separate h2o.ai tutorial"
   ]
  }
 ],
 "metadata": {
  "kernelspec": {
   "display_name": "Python 3 (ipykernel)",
   "language": "python",
   "name": "python3"
  },
  "language_info": {
   "codemirror_mode": {
    "name": "ipython",
    "version": 3
   },
   "file_extension": ".py",
   "mimetype": "text/x-python",
   "name": "python",
   "nbconvert_exporter": "python",
   "pygments_lexer": "ipython3",
   "version": "3.8.9"
  }
 },
 "nbformat": 4,
 "nbformat_minor": 5
}
