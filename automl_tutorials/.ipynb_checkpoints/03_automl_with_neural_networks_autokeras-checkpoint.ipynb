{
 "cells": [
  {
   "cell_type": "markdown",
   "id": "06eaffb9-190a-4946-a8c5-2290fb5d70f0",
   "metadata": {},
   "source": [
    "# autoML with auto-keras"
   ]
  },
  {
   "cell_type": "code",
   "execution_count": null,
   "id": "c0149cfc-370d-424c-9d98-b87f69967511",
   "metadata": {},
   "outputs": [],
   "source": []
  }
 ],
 "metadata": {
  "kernelspec": {
   "display_name": "Python 3 (ipykernel)",
   "language": "python",
   "name": "python3"
  },
  "language_info": {
   "codemirror_mode": {
    "name": "ipython",
    "version": 3
   },
   "file_extension": ".py",
   "mimetype": "text/x-python",
   "name": "python",
   "nbconvert_exporter": "python",
   "pygments_lexer": "ipython3",
   "version": "3.8.9"
  }
 },
 "nbformat": 4,
 "nbformat_minor": 5
}
