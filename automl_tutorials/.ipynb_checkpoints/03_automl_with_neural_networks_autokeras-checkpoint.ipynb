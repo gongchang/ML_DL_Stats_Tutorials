{
 "cells": [
  {
   "cell_type": "markdown",
   "id": "06eaffb9-190a-4946-a8c5-2290fb5d70f0",
   "metadata": {},
   "source": [
    "# autoML with auto-keras"
   ]
  },
  {
   "cell_type": "code",
   "execution_count": 1,
   "id": "c0149cfc-370d-424c-9d98-b87f69967511",
   "metadata": {},
   "outputs": [],
   "source": [
    "from sklearn import datasets\n",
    "from sklearn.model_selection import train_test_split\n",
    "import numpy as np\n",
    "import pandas as pd\n",
    "import tensorflow as tf\n",
    "import autokeras as ak"
   ]
  },
  {
   "cell_type": "markdown",
   "id": "d9391705-668f-4dc8-bb60-adbb9d6b2a2c",
   "metadata": {},
   "source": [
    "## prep the data for auto-keras"
   ]
  },
  {
   "cell_type": "code",
   "execution_count": 2,
   "id": "d0aeb226-ade5-40bf-9f84-d448e44f7c72",
   "metadata": {},
   "outputs": [],
   "source": [
    "diabetes = datasets.load_diabetes()\n",
    "dia_df = pd.DataFrame(data=diabetes.data, columns=diabetes.feature_names)\n",
    "dia_df.columns = ['age',\n",
    "  'sex',\n",
    "  'bmi',\n",
    "  'bp',\n",
    "  'tc',\n",
    "  'ldl',\n",
    "  'hdl',\n",
    "  'tch',\n",
    "  'ltg',\n",
    "  'glu']\n",
    "dia_df[\"target\"] = diabetes.target\n",
    "df_train, df_test = train_test_split(dia_df, train_size=0.8, test_size=0.2, random_state=1231)\n",
    "df_train.to_csv(\"diabetes_train.csv\", index=False)\n",
    "df_test.to_csv(\"diabetes_test.csv\", index=False)"
   ]
  },
  {
   "cell_type": "code",
   "execution_count": 24,
   "id": "033e6426-8575-49d0-baf8-3d0fe28b24b8",
   "metadata": {},
   "outputs": [
    {
     "name": "stdout",
     "output_type": "stream",
     "text": [
      "Trial 4 Complete [00h 00m 07s]\n",
      "val_loss: 3475.74267578125\n",
      "\n",
      "Best val_loss So Far: 2945.620361328125\n",
      "Total elapsed time: 00h 00m 22s\n",
      "INFO:tensorflow:Oracle triggered exit\n",
      "Epoch 1/100\n",
      "12/12 [==============================] - 0s 2ms/step - loss: 28712.7344 - mean_squared_error: 28712.7344\n",
      "Epoch 2/100\n",
      "12/12 [==============================] - 0s 1ms/step - loss: 27504.2383 - mean_squared_error: 27504.2383\n",
      "Epoch 3/100\n",
      "12/12 [==============================] - 0s 1ms/step - loss: 25398.4023 - mean_squared_error: 25398.4023\n",
      "Epoch 4/100\n",
      "12/12 [==============================] - 0s 2ms/step - loss: 22052.7539 - mean_squared_error: 22052.7539\n",
      "Epoch 5/100\n",
      "12/12 [==============================] - 0s 2ms/step - loss: 17480.2715 - mean_squared_error: 17480.2715\n",
      "Epoch 6/100\n",
      "12/12 [==============================] - 0s 2ms/step - loss: 12363.0117 - mean_squared_error: 12363.0117\n",
      "Epoch 7/100\n",
      "12/12 [==============================] - 0s 1ms/step - loss: 8206.6230 - mean_squared_error: 8206.6230\n",
      "Epoch 8/100\n",
      "12/12 [==============================] - 0s 2ms/step - loss: 6154.9321 - mean_squared_error: 6154.9321\n",
      "Epoch 9/100\n",
      "12/12 [==============================] - 0s 1ms/step - loss: 5355.5215 - mean_squared_error: 5355.5215\n",
      "Epoch 10/100\n",
      "12/12 [==============================] - 0s 1ms/step - loss: 4822.3057 - mean_squared_error: 4822.3057\n",
      "Epoch 11/100\n",
      "12/12 [==============================] - 0s 2ms/step - loss: 4479.2842 - mean_squared_error: 4479.2842\n",
      "Epoch 12/100\n",
      "12/12 [==============================] - 0s 2ms/step - loss: 4250.9180 - mean_squared_error: 4250.9180\n",
      "Epoch 13/100\n",
      "12/12 [==============================] - 0s 2ms/step - loss: 4075.2896 - mean_squared_error: 4075.2896\n",
      "Epoch 14/100\n",
      "12/12 [==============================] - 0s 1ms/step - loss: 3936.5337 - mean_squared_error: 3936.5337\n",
      "Epoch 15/100\n",
      "12/12 [==============================] - 0s 2ms/step - loss: 3824.9133 - mean_squared_error: 3824.9133\n",
      "Epoch 16/100\n",
      "12/12 [==============================] - 0s 2ms/step - loss: 3734.9585 - mean_squared_error: 3734.9585\n",
      "Epoch 17/100\n",
      "12/12 [==============================] - 0s 2ms/step - loss: 3661.2437 - mean_squared_error: 3661.2437\n",
      "Epoch 18/100\n",
      "12/12 [==============================] - 0s 2ms/step - loss: 3598.6248 - mean_squared_error: 3598.6248\n",
      "Epoch 19/100\n",
      "12/12 [==============================] - 0s 2ms/step - loss: 3543.2925 - mean_squared_error: 3543.2925\n",
      "Epoch 20/100\n",
      "12/12 [==============================] - 0s 2ms/step - loss: 3493.8269 - mean_squared_error: 3493.8269\n",
      "Epoch 21/100\n",
      "12/12 [==============================] - 0s 2ms/step - loss: 3448.8835 - mean_squared_error: 3448.8835\n",
      "Epoch 22/100\n",
      "12/12 [==============================] - 0s 2ms/step - loss: 3407.2854 - mean_squared_error: 3407.2854\n",
      "Epoch 23/100\n",
      "12/12 [==============================] - 0s 2ms/step - loss: 3369.5293 - mean_squared_error: 3369.5293\n",
      "Epoch 24/100\n",
      "12/12 [==============================] - 0s 2ms/step - loss: 3334.8137 - mean_squared_error: 3334.8137\n",
      "Epoch 25/100\n",
      "12/12 [==============================] - 0s 2ms/step - loss: 3302.4707 - mean_squared_error: 3302.4707\n",
      "Epoch 26/100\n",
      "12/12 [==============================] - 0s 2ms/step - loss: 3272.3618 - mean_squared_error: 3272.3618\n",
      "Epoch 27/100\n",
      "12/12 [==============================] - 0s 2ms/step - loss: 3244.1318 - mean_squared_error: 3244.1318\n",
      "Epoch 28/100\n",
      "12/12 [==============================] - 0s 2ms/step - loss: 3217.1360 - mean_squared_error: 3217.1360\n",
      "Epoch 29/100\n",
      "12/12 [==============================] - 0s 1ms/step - loss: 3191.5435 - mean_squared_error: 3191.5435\n",
      "Epoch 30/100\n",
      "12/12 [==============================] - 0s 1ms/step - loss: 3167.2642 - mean_squared_error: 3167.2642\n",
      "Epoch 31/100\n",
      "12/12 [==============================] - 0s 1ms/step - loss: 3143.8662 - mean_squared_error: 3143.8662\n",
      "Epoch 32/100\n",
      "12/12 [==============================] - 0s 1ms/step - loss: 3121.6880 - mean_squared_error: 3121.6880\n",
      "Epoch 33/100\n",
      "12/12 [==============================] - 0s 1ms/step - loss: 3100.4836 - mean_squared_error: 3100.4836\n",
      "Epoch 34/100\n",
      "12/12 [==============================] - 0s 1ms/step - loss: 3080.0847 - mean_squared_error: 3080.0847\n",
      "Epoch 35/100\n",
      "12/12 [==============================] - 0s 1ms/step - loss: 3060.3875 - mean_squared_error: 3060.3875\n",
      "Epoch 36/100\n",
      "12/12 [==============================] - 0s 1ms/step - loss: 3041.5833 - mean_squared_error: 3041.5833\n",
      "Epoch 37/100\n",
      "12/12 [==============================] - 0s 1ms/step - loss: 3023.8018 - mean_squared_error: 3023.8018\n",
      "Epoch 38/100\n",
      "12/12 [==============================] - 0s 1ms/step - loss: 3006.8176 - mean_squared_error: 3006.8176\n",
      "Epoch 39/100\n",
      "12/12 [==============================] - 0s 1ms/step - loss: 2990.2742 - mean_squared_error: 2990.2742\n",
      "Epoch 40/100\n",
      "12/12 [==============================] - 0s 1ms/step - loss: 2974.2327 - mean_squared_error: 2974.2327\n",
      "Epoch 41/100\n",
      "12/12 [==============================] - 0s 1ms/step - loss: 2958.2671 - mean_squared_error: 2958.2671\n",
      "Epoch 42/100\n",
      "12/12 [==============================] - 0s 1ms/step - loss: 2942.8616 - mean_squared_error: 2942.8616\n",
      "Epoch 43/100\n",
      "12/12 [==============================] - 0s 1ms/step - loss: 2928.3284 - mean_squared_error: 2928.3284\n",
      "Epoch 44/100\n",
      "12/12 [==============================] - 0s 1ms/step - loss: 2914.2935 - mean_squared_error: 2914.2935\n",
      "Epoch 45/100\n",
      "12/12 [==============================] - 0s 1ms/step - loss: 2900.9326 - mean_squared_error: 2900.9326\n",
      "Epoch 46/100\n",
      "12/12 [==============================] - 0s 1ms/step - loss: 2887.7532 - mean_squared_error: 2887.7532\n",
      "Epoch 47/100\n",
      "12/12 [==============================] - 0s 1ms/step - loss: 2874.6338 - mean_squared_error: 2874.6338\n",
      "Epoch 48/100\n",
      "12/12 [==============================] - 0s 1ms/step - loss: 2861.8269 - mean_squared_error: 2861.8269\n",
      "Epoch 49/100\n",
      "12/12 [==============================] - 0s 1ms/step - loss: 2849.6531 - mean_squared_error: 2849.6531\n",
      "Epoch 50/100\n",
      "12/12 [==============================] - 0s 1ms/step - loss: 2837.4155 - mean_squared_error: 2837.4155\n",
      "Epoch 51/100\n",
      "12/12 [==============================] - 0s 1ms/step - loss: 2825.7422 - mean_squared_error: 2825.7422\n",
      "Epoch 52/100\n",
      "12/12 [==============================] - 0s 1ms/step - loss: 2813.9626 - mean_squared_error: 2813.9626\n",
      "Epoch 53/100\n",
      "12/12 [==============================] - 0s 1ms/step - loss: 2802.4778 - mean_squared_error: 2802.4778\n",
      "Epoch 54/100\n",
      "12/12 [==============================] - 0s 2ms/step - loss: 2791.0027 - mean_squared_error: 2791.0027\n",
      "Epoch 55/100\n",
      "12/12 [==============================] - 0s 1ms/step - loss: 2779.9724 - mean_squared_error: 2779.9724\n",
      "Epoch 56/100\n",
      "12/12 [==============================] - 0s 1ms/step - loss: 2769.4727 - mean_squared_error: 2769.4727\n",
      "Epoch 57/100\n",
      "12/12 [==============================] - 0s 1ms/step - loss: 2759.2158 - mean_squared_error: 2759.2158\n",
      "Epoch 58/100\n",
      "12/12 [==============================] - 0s 1ms/step - loss: 2749.3760 - mean_squared_error: 2749.3760\n",
      "Epoch 59/100\n",
      "12/12 [==============================] - 0s 1ms/step - loss: 2739.3960 - mean_squared_error: 2739.3960\n",
      "Epoch 60/100\n",
      "12/12 [==============================] - 0s 1ms/step - loss: 2729.8486 - mean_squared_error: 2729.8486\n",
      "Epoch 61/100\n",
      "12/12 [==============================] - 0s 1ms/step - loss: 2719.6775 - mean_squared_error: 2719.6775\n",
      "Epoch 62/100\n",
      "12/12 [==============================] - 0s 1ms/step - loss: 2710.2219 - mean_squared_error: 2710.2219\n",
      "Epoch 63/100\n",
      "12/12 [==============================] - 0s 1ms/step - loss: 2700.8127 - mean_squared_error: 2700.8127\n",
      "Epoch 64/100\n",
      "12/12 [==============================] - 0s 1ms/step - loss: 2691.6606 - mean_squared_error: 2691.6606\n",
      "Epoch 65/100\n",
      "12/12 [==============================] - 0s 1ms/step - loss: 2682.5513 - mean_squared_error: 2682.5513\n",
      "Epoch 66/100\n",
      "12/12 [==============================] - 0s 1ms/step - loss: 2673.6445 - mean_squared_error: 2673.6445\n",
      "Epoch 67/100\n",
      "12/12 [==============================] - 0s 1ms/step - loss: 2664.7615 - mean_squared_error: 2664.7615\n",
      "Epoch 68/100\n",
      "12/12 [==============================] - 0s 1ms/step - loss: 2655.9866 - mean_squared_error: 2655.9866\n",
      "Epoch 69/100\n",
      "12/12 [==============================] - 0s 2ms/step - loss: 2647.2607 - mean_squared_error: 2647.2607\n",
      "Epoch 70/100\n",
      "12/12 [==============================] - 0s 1ms/step - loss: 2638.8740 - mean_squared_error: 2638.8740\n",
      "Epoch 71/100\n",
      "12/12 [==============================] - 0s 1ms/step - loss: 2629.9597 - mean_squared_error: 2629.9597\n",
      "Epoch 72/100\n",
      "12/12 [==============================] - 0s 1ms/step - loss: 2621.4136 - mean_squared_error: 2621.4136\n",
      "Epoch 73/100\n",
      "12/12 [==============================] - 0s 1ms/step - loss: 2612.5317 - mean_squared_error: 2612.5317\n",
      "Epoch 74/100\n",
      "12/12 [==============================] - 0s 1ms/step - loss: 2603.6895 - mean_squared_error: 2603.6895\n",
      "Epoch 75/100\n",
      "12/12 [==============================] - 0s 1ms/step - loss: 2595.2043 - mean_squared_error: 2595.2043\n",
      "Epoch 76/100\n",
      "12/12 [==============================] - 0s 1ms/step - loss: 2586.6008 - mean_squared_error: 2586.6008\n",
      "Epoch 77/100\n",
      "12/12 [==============================] - 0s 1ms/step - loss: 2578.5452 - mean_squared_error: 2578.5452\n",
      "Epoch 78/100\n",
      "12/12 [==============================] - 0s 1ms/step - loss: 2570.5930 - mean_squared_error: 2570.5930\n",
      "Epoch 79/100\n",
      "12/12 [==============================] - 0s 1ms/step - loss: 2562.2764 - mean_squared_error: 2562.2764\n",
      "Epoch 80/100\n",
      "12/12 [==============================] - 0s 1ms/step - loss: 2554.3777 - mean_squared_error: 2554.3777\n",
      "Epoch 81/100\n",
      "12/12 [==============================] - 0s 1ms/step - loss: 2546.4346 - mean_squared_error: 2546.4346\n",
      "Epoch 82/100\n",
      "12/12 [==============================] - 0s 1ms/step - loss: 2538.9153 - mean_squared_error: 2538.9153\n",
      "Epoch 83/100\n",
      "12/12 [==============================] - 0s 1ms/step - loss: 2530.8389 - mean_squared_error: 2530.8389\n",
      "Epoch 84/100\n",
      "12/12 [==============================] - 0s 1ms/step - loss: 2523.5623 - mean_squared_error: 2523.5623\n",
      "Epoch 85/100\n",
      "12/12 [==============================] - 0s 1ms/step - loss: 2516.0576 - mean_squared_error: 2516.0576\n",
      "Epoch 86/100\n",
      "12/12 [==============================] - 0s 1ms/step - loss: 2508.1572 - mean_squared_error: 2508.1572\n",
      "Epoch 87/100\n",
      "12/12 [==============================] - 0s 1ms/step - loss: 2501.0002 - mean_squared_error: 2501.0002\n",
      "Epoch 88/100\n",
      "12/12 [==============================] - 0s 1ms/step - loss: 2492.6450 - mean_squared_error: 2492.6450\n",
      "Epoch 89/100\n",
      "12/12 [==============================] - 0s 1ms/step - loss: 2485.0586 - mean_squared_error: 2485.0586\n",
      "Epoch 90/100\n",
      "12/12 [==============================] - 0s 1ms/step - loss: 2477.4197 - mean_squared_error: 2477.4197\n",
      "Epoch 91/100\n",
      "12/12 [==============================] - 0s 1ms/step - loss: 2469.6313 - mean_squared_error: 2469.6313\n",
      "Epoch 92/100\n",
      "12/12 [==============================] - 0s 1ms/step - loss: 2461.5542 - mean_squared_error: 2461.5542\n",
      "Epoch 93/100\n",
      "12/12 [==============================] - 0s 1ms/step - loss: 2454.2593 - mean_squared_error: 2454.2593\n",
      "Epoch 94/100\n",
      "12/12 [==============================] - 0s 1ms/step - loss: 2446.3689 - mean_squared_error: 2446.3689\n",
      "Epoch 95/100\n",
      "12/12 [==============================] - 0s 1ms/step - loss: 2438.7192 - mean_squared_error: 2438.7192\n",
      "Epoch 96/100\n",
      "12/12 [==============================] - 0s 1ms/step - loss: 2430.7573 - mean_squared_error: 2430.7573\n",
      "Epoch 97/100\n",
      "12/12 [==============================] - 0s 1ms/step - loss: 2422.7109 - mean_squared_error: 2422.7109\n",
      "Epoch 98/100\n",
      "12/12 [==============================] - 0s 2ms/step - loss: 2415.1975 - mean_squared_error: 2415.1975\n",
      "Epoch 99/100\n",
      "12/12 [==============================] - 0s 1ms/step - loss: 2406.8987 - mean_squared_error: 2406.8987\n",
      "Epoch 100/100\n",
      "12/12 [==============================] - 0s 1ms/step - loss: 2399.3474 - mean_squared_error: 2399.3474\n",
      "INFO:tensorflow:Assets written to: ./structured_data_regressor/best_model/assets\n"
     ]
    },
    {
     "data": {
      "text/plain": [
       "<keras.callbacks.History at 0x14348bb20>"
      ]
     },
     "execution_count": 24,
     "metadata": {},
     "output_type": "execute_result"
    }
   ],
   "source": [
    "# max_trials, the number of different models to try\n",
    "autokeras_reg = ak.StructuredDataRegressor(\n",
    "    overwrite=True, max_trials=4\n",
    ")  \n",
    "\n",
    "train_data_path=\"diabetes_train.csv\"\n",
    "autokeras_reg.fit(\n",
    "    # The path to the train.csv file.\n",
    "    train_data_path,\n",
    "    # The name of the outcome column.\n",
    "    \"target\",\n",
    "    epochs=100,\n",
    ")"
   ]
  },
  {
   "cell_type": "markdown",
   "id": "ce1b27ac-e238-4045-91df-dca78d1888af",
   "metadata": {},
   "source": [
    "## generate the prediction based on the aukeras model"
   ]
  },
  {
   "cell_type": "code",
   "execution_count": 25,
   "id": "703c363b-39ba-47f8-875e-ee2e7fefa61c",
   "metadata": {},
   "outputs": [
    {
     "name": "stdout",
     "output_type": "stream",
     "text": [
      "3/3 [==============================] - 0s 2ms/step\n",
      "3/3 [==============================] - 0s 2ms/step\n"
     ]
    }
   ],
   "source": [
    "y_test_predicted_ak=autokeras_reg.predict(df_test.iloc[:,0:10])"
   ]
  },
  {
   "cell_type": "markdown",
   "id": "121c658c-d206-49a4-9a27-03b503a9e456",
   "metadata": {},
   "source": [
    "## Performance metrics using r2 and mean absolute error\n",
    "\n",
    "Change the epoch hyperparameter to see what is optimal choice"
   ]
  },
  {
   "cell_type": "code",
   "execution_count": 26,
   "id": "af6e1a8a-9a43-4b92-9d1e-4cf790ef6aaf",
   "metadata": {},
   "outputs": [
    {
     "data": {
      "text/plain": [
       "0.54979672276334"
      ]
     },
     "execution_count": 26,
     "metadata": {},
     "output_type": "execute_result"
    }
   ],
   "source": [
    "from sklearn.metrics import r2_score\n",
    "r2_score(df_test[\"target\"],y_test_predicted_ak)"
   ]
  },
  {
   "cell_type": "markdown",
   "id": "b97d6dca-b6fa-42b9-81c8-f6efaf3d3091",
   "metadata": {},
   "source": [
    "summary of r2_score:\n",
    "- epoch of 10: -0.46259136836515946\n",
    "- epoch of 50: 0.3834656224342138\n",
    "- epoch of 100: 0.54979672276334\n",
    "- epoch of 150: 0.5094809564552147\n",
    "- epoch of 1000: 0.49017001009308037"
   ]
  },
  {
   "cell_type": "code",
   "execution_count": 27,
   "id": "86375ba2-dc37-479a-aebf-227818234bc8",
   "metadata": {},
   "outputs": [
    {
     "data": {
      "text/plain": [
       "42.490659263696564"
      ]
     },
     "execution_count": 27,
     "metadata": {},
     "output_type": "execute_result"
    }
   ],
   "source": [
    "from sklearn.metrics import mean_absolute_error\n",
    "mean_absolute_error(df_test[\"target\"],y_test_predicted_ak)"
   ]
  },
  {
   "cell_type": "markdown",
   "id": "622b1fbe-9a61-406e-b8a8-808244a9b514",
   "metadata": {},
   "source": [
    "summary of mean_absolute_error\n",
    "epoch of 10: 73.18183654613709\n",
    "epoch of 50: 50.35545091950492\n",
    "epoch of 100: 42.490659263696564\n",
    "epoch of 150: 43.45209288864993\n",
    "epoch of 1000: 44.13179123267699"
   ]
  },
  {
   "cell_type": "markdown",
   "id": "bc29e5f8-3c6a-461b-8ba4-eccba427012d",
   "metadata": {},
   "source": [
    "## Conclusion"
   ]
  },
  {
   "cell_type": "markdown",
   "id": "6f202d32-b8a7-47d1-981c-f9e0441a3659",
   "metadata": {},
   "source": [
    "It is clear that auto-keras is very powerful and easy-to-use.\n",
    "\n",
    "The example we have here using structured data indicates for the autoML workflow there is a need for fine-tuning of the epoch hyperparameter to avoid under-fitting (when number of epoch is low, e.g, 10 or 50), or over-fitting (with number of epochs of 2150 or 1000).\n",
    "\n",
    "The best result is with epoch of 100, with performance similar to (and slightly worse than) the tpot results.\n",
    "\n",
    "Due to the tuning of hyperparameters, we can say the auto-keras library is in a way not so \"auto\", compared to tpot and hyperopt-sklearn. However, it does provide the tuning and search capability, and it works with more different kinds of models."
   ]
  },
  {
   "cell_type": "code",
   "execution_count": null,
   "id": "1d53fb4d-7b97-4674-b224-f9498d22e1e8",
   "metadata": {},
   "outputs": [],
   "source": []
  }
 ],
 "metadata": {
  "kernelspec": {
   "display_name": "Python 3 (ipykernel)",
   "language": "python",
   "name": "python3"
  },
  "language_info": {
   "codemirror_mode": {
    "name": "ipython",
    "version": 3
   },
   "file_extension": ".py",
   "mimetype": "text/x-python",
   "name": "python",
   "nbconvert_exporter": "python",
   "pygments_lexer": "ipython3",
   "version": "3.8.9"
  }
 },
 "nbformat": 4,
 "nbformat_minor": 5
}
