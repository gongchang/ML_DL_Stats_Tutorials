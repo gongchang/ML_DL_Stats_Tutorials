{
 "cells": [
  {
   "cell_type": "markdown",
   "id": "10c6eb9e-0ecf-4912-ac30-5188be9d2446",
   "metadata": {},
   "source": [
    "# AutoML with hyperopt-sklearn"
   ]
  },
  {
   "cell_type": "markdown",
   "id": "c2a97941-33e5-474f-8488-65cc58c7ae44",
   "metadata": {},
   "source": [
    "## Use the diabetes dataset"
   ]
  },
  {
   "cell_type": "code",
   "execution_count": 1,
   "id": "bed411a8-af93-4aa0-b23d-88360cbc5600",
   "metadata": {},
   "outputs": [],
   "source": [
    "from sklearn import datasets\n",
    "import pandas as pd\n",
    "diabetes = datasets.load_diabetes()\n",
    "dia_df = pd.DataFrame(data=diabetes.data, columns=diabetes.feature_names)\n",
    "dia_df.columns = ['age',\n",
    "  'sex',\n",
    "  'bmi',\n",
    "  'bp',\n",
    "  'tc',\n",
    "  'ldl',\n",
    "  'hdl',\n",
    "  'tch',\n",
    "  'ltg',\n",
    "  'glu']\n",
    "dia_df[\"target\"] = diabetes.target"
   ]
  },
  {
   "cell_type": "markdown",
   "id": "96938cda-0040-486b-865f-33c1f83fccb9",
   "metadata": {},
   "source": [
    "## Train test split"
   ]
  },
  {
   "cell_type": "code",
   "execution_count": 2,
   "id": "81757091-be28-46cb-93cb-970bae800bf6",
   "metadata": {},
   "outputs": [],
   "source": [
    "from sklearn.model_selection import train_test_split\n",
    "df_train, df_test = train_test_split(dia_df, train_size=0.8, test_size=0.2, random_state=1231)"
   ]
  },
  {
   "cell_type": "markdown",
   "id": "33be5cd6-ce54-4e8d-8b86-761f8bc40363",
   "metadata": {},
   "source": [
    "## hyperopt-sklearn autoML workflow"
   ]
  },
  {
   "cell_type": "code",
   "execution_count": 3,
   "id": "79075b6e-f89f-4998-a440-4a82f1bf6b7c",
   "metadata": {},
   "outputs": [
    {
     "name": "stdout",
     "output_type": "stream",
     "text": [
      "100%|███████████| 1/1 [00:01<00:00,  1.19s/trial, best loss: 0.6152122929564217]\n",
      "100%|███████████| 2/2 [00:01<00:00,  1.19s/trial, best loss: 0.6152122929564217]\n",
      "100%|███████████| 3/3 [00:01<00:00,  1.07s/trial, best loss: 0.6152122929564217]\n",
      "100%|███████████| 4/4 [00:01<00:00,  1.09s/trial, best loss: 0.6152122929564217]\n",
      "100%|███████████| 5/5 [00:01<00:00,  1.10s/trial, best loss: 0.6152122929564217]\n",
      "100%|███████████| 6/6 [00:01<00:00,  1.32s/trial, best loss: 0.5690118956031025]\n",
      "100%|███████████| 7/7 [00:01<00:00,  1.08s/trial, best loss: 0.5690118956031025]\n",
      "100%|███████████| 8/8 [00:01<00:00,  1.08s/trial, best loss: 0.5690118956031025]\n",
      "100%|███████████| 9/9 [00:01<00:00,  1.11s/trial, best loss: 0.5690118956031025]\n",
      "100%|█████████| 10/10 [00:01<00:00,  1.09s/trial, best loss: 0.5690118956031025]\n",
      "100%|█████████| 11/11 [00:01<00:00,  1.08s/trial, best loss: 0.5690118956031025]\n",
      "100%|█████████| 12/12 [00:01<00:00,  1.10s/trial, best loss: 0.5690118956031025]\n",
      "100%|█████████| 13/13 [00:01<00:00,  1.13s/trial, best loss: 0.5690118956031025]\n",
      "100%|█████████| 14/14 [00:01<00:00,  1.09s/trial, best loss: 0.5690118956031025]\n",
      "100%|█████████| 15/15 [00:01<00:00,  1.09s/trial, best loss: 0.5690118956031025]\n",
      "100%|█████████| 16/16 [00:03<00:00,  3.55s/trial, best loss: 0.5690118956031025]\n",
      "100%|█████████| 17/17 [00:01<00:00,  1.10s/trial, best loss: 0.5690118956031025]\n",
      " 94%|█████████████████████████████████  | 17/18 [00:00<?, ?trial/s, best loss=?]"
     ]
    },
    {
     "name": "stderr",
     "output_type": "stream",
     "text": [
      "/opt/anaconda3/envs/dltutorials/lib/python3.12/site-packages/sklearn/linear_model/_stochastic_gradient.py:1608: ConvergenceWarning: Maximum number of iteration reached before convergence. Consider increasing max_iter to improve the fit.\n",
      "  warnings.warn(\n"
     ]
    },
    {
     "name": "stdout",
     "output_type": "stream",
     "text": [
      "100%|█████████| 18/18 [00:01<00:00,  1.09s/trial, best loss: 0.5690118956031025]\n",
      "100%|█████████| 19/19 [00:01<00:00,  1.08s/trial, best loss: 0.5690118956031025]\n",
      "100%|█████████| 20/20 [00:01<00:00,  1.11s/trial, best loss: 0.5690118956031025]\n",
      " 95%|█████████████████████████████████▎ | 20/21 [00:00<?, ?trial/s, best loss=?]"
     ]
    },
    {
     "name": "stderr",
     "output_type": "stream",
     "text": [
      "/opt/anaconda3/envs/dltutorials/lib/python3.12/site-packages/sklearn/linear_model/_stochastic_gradient.py:1608: ConvergenceWarning: Maximum number of iteration reached before convergence. Consider increasing max_iter to improve the fit.\n",
      "  warnings.warn(\n"
     ]
    },
    {
     "name": "stdout",
     "output_type": "stream",
     "text": [
      "100%|█████████| 21/21 [00:01<00:00,  1.72s/trial, best loss: 0.5690118956031025]\n",
      "100%|█████████| 22/22 [00:01<00:00,  1.69s/trial, best loss: 0.5690118956031025]\n",
      "100%|█████████| 23/23 [00:01<00:00,  1.72s/trial, best loss: 0.5690118956031025]\n",
      "100%|█████████| 24/24 [00:01<00:00,  1.31s/trial, best loss: 0.5690118956031025]\n",
      "100%|█████████| 25/25 [00:01<00:00,  1.29s/trial, best loss: 0.5690118956031025]\n",
      "100%|█████████| 26/26 [00:01<00:00,  1.10s/trial, best loss: 0.5690118956031025]\n",
      "100%|█████████| 27/27 [00:01<00:00,  1.43s/trial, best loss: 0.5690118956031025]\n",
      "100%|█████████| 28/28 [00:01<00:00,  1.18s/trial, best loss: 0.5635741064360515]\n",
      "100%|█████████| 29/29 [00:01<00:00,  1.16s/trial, best loss: 0.5635741064360515]\n",
      "100%|█████████| 30/30 [00:01<00:00,  1.17s/trial, best loss: 0.5635741064360515]\n",
      "100%|█████████| 31/31 [00:01<00:00,  1.13s/trial, best loss: 0.5635741064360515]\n",
      "100%|█████████| 32/32 [00:01<00:00,  1.13s/trial, best loss: 0.5635741064360515]\n",
      "100%|█████████| 33/33 [00:01<00:00,  1.12s/trial, best loss: 0.5635741064360515]\n",
      "100%|█████████| 34/34 [00:01<00:00,  1.22s/trial, best loss: 0.5635741064360515]\n",
      "100%|█████████| 35/35 [00:01<00:00,  1.09s/trial, best loss: 0.5635741064360515]\n",
      "100%|█████████| 36/36 [00:02<00:00,  2.03s/trial, best loss: 0.5635741064360515]\n",
      "100%|█████████| 37/37 [00:01<00:00,  1.19s/trial, best loss: 0.5635741064360515]\n",
      "100%|█████████| 38/38 [00:01<00:00,  1.83s/trial, best loss: 0.5635741064360515]\n",
      "100%|█████████| 39/39 [00:01<00:00,  1.12s/trial, best loss: 0.5635741064360515]\n",
      "100%|█████████| 40/40 [00:01<00:00,  1.13s/trial, best loss: 0.5635741064360515]\n",
      "100%|█████████| 41/41 [00:01<00:00,  1.44s/trial, best loss: 0.5635741064360515]\n",
      "100%|█████████| 42/42 [00:01<00:00,  1.38s/trial, best loss: 0.5635741064360515]\n",
      "100%|█████████| 43/43 [00:01<00:00,  1.09s/trial, best loss: 0.5635741064360515]\n",
      "100%|█████████| 44/44 [00:01<00:00,  1.14s/trial, best loss: 0.5635741064360515]\n",
      "100%|█████████| 45/45 [00:01<00:00,  1.20s/trial, best loss: 0.5635741064360515]\n",
      "100%|█████████| 46/46 [00:01<00:00,  1.15s/trial, best loss: 0.5635741064360515]\n",
      " 98%|██████████████████████████████████▎| 46/47 [00:00<?, ?trial/s, best loss=?]"
     ]
    },
    {
     "name": "stderr",
     "output_type": "stream",
     "text": [
      "/opt/anaconda3/envs/dltutorials/lib/python3.12/site-packages/sklearn/linear_model/_stochastic_gradient.py:1608: ConvergenceWarning: Maximum number of iteration reached before convergence. Consider increasing max_iter to improve the fit.\n",
      "  warnings.warn(\n"
     ]
    },
    {
     "name": "stdout",
     "output_type": "stream",
     "text": [
      "100%|█████████| 47/47 [00:01<00:00,  1.23s/trial, best loss: 0.5635741064360515]\n",
      "100%|█████████| 48/48 [00:01<00:00,  1.13s/trial, best loss: 0.5635741064360515]\n",
      "100%|█████████| 49/49 [00:01<00:00,  1.10s/trial, best loss: 0.5635741064360515]\n",
      "100%|█████████| 50/50 [00:01<00:00,  1.15s/trial, best loss: 0.5635741064360515]\n"
     ]
    }
   ],
   "source": [
    "from hpsklearn import HyperoptEstimator\n",
    "from hpsklearn import any_regressor\n",
    "from hpsklearn import any_preprocessing\n",
    "from hyperopt import tpe\n",
    "\n",
    "# define search use tpe suggested algorithm\n",
    "model = HyperoptEstimator(regressor=any_regressor('rgr'), preprocessing=any_preprocessing('pre'), algo=tpe.suggest, max_evals=50, trial_timeout=30)\n",
    "# perform the search\n",
    "model.fit(df_train.iloc[:,0:10], df_train['target'])"
   ]
  },
  {
   "cell_type": "markdown",
   "id": "e7d987ad-4aaa-40b0-b22a-c48c9074eed7",
   "metadata": {},
   "source": [
    "## Performance on the test data"
   ]
  },
  {
   "cell_type": "code",
   "execution_count": 4,
   "id": "13fbd40f-a3ab-4380-9969-340e95ba85b6",
   "metadata": {},
   "outputs": [
    {
     "name": "stderr",
     "output_type": "stream",
     "text": [
      "/opt/anaconda3/envs/dltutorials/lib/python3.12/site-packages/sklearn/utils/validation.py:2739: UserWarning: X does not have valid feature names, but PCA was fitted with feature names\n",
      "  warnings.warn(\n"
     ]
    },
    {
     "data": {
      "text/plain": [
       "0.5003099931636081"
      ]
     },
     "execution_count": 4,
     "metadata": {},
     "output_type": "execute_result"
    }
   ],
   "source": [
    "model.score(df_test.iloc[:,0:10], df_test['target'])"
   ]
  },
  {
   "cell_type": "code",
   "execution_count": 5,
   "id": "34277aca-327f-42bf-8139-e53b5908c993",
   "metadata": {},
   "outputs": [
    {
     "name": "stderr",
     "output_type": "stream",
     "text": [
      "/opt/anaconda3/envs/dltutorials/lib/python3.12/site-packages/sklearn/utils/validation.py:2739: UserWarning: X does not have valid feature names, but PCA was fitted with feature names\n",
      "  warnings.warn(\n"
     ]
    },
    {
     "data": {
      "text/plain": [
       "array([235.54794521, 214.87037037])"
      ]
     },
     "execution_count": 5,
     "metadata": {},
     "output_type": "execute_result"
    }
   ],
   "source": [
    "model.predict(df_test.iloc[1:3,0:10])"
   ]
  },
  {
   "cell_type": "markdown",
   "id": "fc7c1c84-be71-4377-976c-39d97c1acfe9",
   "metadata": {},
   "source": [
    "## Check the best model"
   ]
  },
  {
   "cell_type": "code",
   "execution_count": 6,
   "id": "122b0f58-f588-43a4-a0bf-083e2f7c016b",
   "metadata": {},
   "outputs": [
    {
     "name": "stdout",
     "output_type": "stream",
     "text": [
      "{'learner': AdaBoostRegressor(learning_rate=0.23890080410470052, loss='exponential',\n",
      "                  n_estimators=124, random_state=np.int64(4)), 'preprocs': (PCA(n_components=2),), 'ex_preprocs': ()}\n"
     ]
    }
   ],
   "source": [
    "print(model.best_model())"
   ]
  },
  {
   "cell_type": "markdown",
   "id": "9c867b65-ea0d-43e6-b11e-19002af8b538",
   "metadata": {},
   "source": [
    "A random forest model seems to be the best model \n",
    "using the hyperopt_sklearn autoML approach"
   ]
  },
  {
   "cell_type": "markdown",
   "id": "1cb0ea60-4667-4b79-b1b4-9f4d459557f8",
   "metadata": {},
   "source": [
    "## save the model"
   ]
  },
  {
   "cell_type": "code",
   "execution_count": 7,
   "id": "c72d75b3-2ab3-4e6e-a1f9-f6352a8f758c",
   "metadata": {},
   "outputs": [],
   "source": [
    "import pickle\n",
    "filehandler = open(b\"diabetes_hyperopt_automl.model\",\"wb\")\n",
    "pickle.dump(model,filehandler)\n",
    "filehandler.close()"
   ]
  },
  {
   "cell_type": "markdown",
   "id": "f979f2dd-eacf-4a53-8823-424b2330e15b",
   "metadata": {},
   "source": [
    "## Use R2 to score the predictions"
   ]
  },
  {
   "cell_type": "code",
   "execution_count": 8,
   "id": "97dcd508-1d81-4367-9bb7-5414cefb7611",
   "metadata": {},
   "outputs": [
    {
     "name": "stderr",
     "output_type": "stream",
     "text": [
      "/opt/anaconda3/envs/dltutorials/lib/python3.12/site-packages/sklearn/utils/validation.py:2739: UserWarning: X does not have valid feature names, but PCA was fitted with feature names\n",
      "  warnings.warn(\n"
     ]
    },
    {
     "data": {
      "text/plain": [
       "0.5003099931636081"
      ]
     },
     "execution_count": 8,
     "metadata": {},
     "output_type": "execute_result"
    }
   ],
   "source": [
    "from sklearn.metrics import r2_score\n",
    "y_test_predicted_hyperopt=model.predict(df_test.iloc[:,0:10])\n",
    "r2_score(df_test[\"target\"],y_test_predicted_hyperopt)"
   ]
  },
  {
   "cell_type": "markdown",
   "id": "b0dbfc4c-0857-42b2-b4e6-9638b996e2e3",
   "metadata": {},
   "source": [
    "## Use mean absolute error to score the predictions"
   ]
  },
  {
   "cell_type": "code",
   "execution_count": 10,
   "id": "1ae9cb40-8bbb-487b-af22-41354133021f",
   "metadata": {},
   "outputs": [
    {
     "data": {
      "text/plain": [
       "47.030762009844864"
      ]
     },
     "execution_count": 10,
     "metadata": {},
     "output_type": "execute_result"
    }
   ],
   "source": [
    "from sklearn.metrics import mean_absolute_error\n",
    "mean_absolute_error(df_test[\"target\"],y_test_predicted_hyperopt)"
   ]
  },
  {
   "cell_type": "code",
   "execution_count": null,
   "id": "9fa2c1b6-2a17-4a73-a29c-2d9d35f8d963",
   "metadata": {},
   "outputs": [],
   "source": []
  }
 ],
 "metadata": {
  "kernelspec": {
   "display_name": "Python 3 (ipykernel)",
   "language": "python",
   "name": "python3"
  },
  "language_info": {
   "codemirror_mode": {
    "name": "ipython",
    "version": 3
   },
   "file_extension": ".py",
   "mimetype": "text/x-python",
   "name": "python",
   "nbconvert_exporter": "python",
   "pygments_lexer": "ipython3",
   "version": "3.12.9"
  }
 },
 "nbformat": 4,
 "nbformat_minor": 5
}
