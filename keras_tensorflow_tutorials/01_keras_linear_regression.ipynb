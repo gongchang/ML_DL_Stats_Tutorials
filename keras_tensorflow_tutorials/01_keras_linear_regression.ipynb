{
 "cells": [
  {
   "cell_type": "code",
   "execution_count": 1,
   "metadata": {},
   "outputs": [],
   "source": [
    "import numpy as np\n",
    "import matplotlib.pyplot as plt"
   ]
  },
  {
   "cell_type": "code",
   "execution_count": 2,
   "metadata": {},
   "outputs": [
    {
     "name": "stderr",
     "output_type": "stream",
     "text": [
      "/Users/hbi16859/anaconda/lib/python2.7/site-packages/h5py/__init__.py:36: FutureWarning: Conversion of the second argument of issubdtype from `float` to `np.floating` is deprecated. In future, it will be treated as `np.float64 == np.dtype(float).type`.\n",
      "  from ._conv import register_converters as _register_converters\n",
      "Using TensorFlow backend.\n"
     ]
    }
   ],
   "source": [
    "from keras.models import Sequential\n",
    "from keras.layers import Dense"
   ]
  },
  {
   "cell_type": "code",
   "execution_count": 3,
   "metadata": {},
   "outputs": [
    {
     "data": {
      "text/plain": [
       "[<matplotlib.lines.Line2D at 0x11f5c4d90>]"
      ]
     },
     "execution_count": 3,
     "metadata": {},
     "output_type": "execute_result"
    },
    {
     "data": {
      "image/png": "[encoded data removed]",
      "text/plain": [
       "<matplotlib.figure.Figure at 0x11f53b750>"
      ]
     },
     "metadata": {},
     "output_type": "display_data"
    }
   ],
   "source": [
    "%matplotlib inline\n",
    "a=[1,2]\n",
    "b=[4,2]\n",
    "plt.plot(a,b)"
   ]
  },
  {
   "cell_type": "code",
   "execution_count": 4,
   "metadata": {},
   "outputs": [
    {
     "name": "stdout",
     "output_type": "stream",
     "text": [
      "Linear regression model is initialized with weight w: -0.02, b: 0.00\n",
      "Epoch 1/100\n",
      "101/101 [==============================] - 0s - loss: 1.5232     \n",
      "Epoch 2/100\n",
      "101/101 [==============================] - 0s - loss: 1.4423     \n",
      "Epoch 3/100\n",
      "101/101 [==============================] - 0s - loss: 1.3665     \n",
      "Epoch 4/100\n",
      "101/101 [==============================] - 0s - loss: 1.3060     \n",
      "Epoch 5/100\n",
      "101/101 [==============================] - 0s - loss: 1.2440     \n",
      "Epoch 6/100\n",
      "101/101 [==============================] - 0s - loss: 1.1713     \n",
      "Epoch 7/100\n",
      "101/101 [==============================] - 0s - loss: 1.1154     \n",
      "Epoch 8/100\n",
      " 32/101 [========>.....................] - ETA: 0s - loss: 1.3372"
     ]
    },
    {
     "name": "stderr",
     "output_type": "stream",
     "text": [
      "/Users/hbi16859/anaconda/lib/python2.7/site-packages/ipykernel_launcher.py:6: UserWarning: Update your `Dense` call to the Keras 2 API: `Dense(kernel_initializer=\"uniform\", activation=\"linear\", input_dim=1, units=1)`\n",
      "  \n",
      "/Users/hbi16859/anaconda/lib/python2.7/site-packages/keras/models.py:844: UserWarning: The `nb_epoch` argument in `fit` has been renamed `epochs`.\n",
      "  warnings.warn('The `nb_epoch` argument in `fit` '\n"
     ]
    },
    {
     "name": "stdout",
     "output_type": "stream",
     "text": [
      "101/101 [==============================] - 0s - loss: 1.0621     \n",
      "Epoch 9/100\n",
      "101/101 [==============================] - 0s - loss: 1.0163     \n",
      "Epoch 10/100\n",
      "101/101 [==============================] - 0s - loss: 0.9721     \n",
      "Epoch 11/100\n",
      "101/101 [==============================] - 0s - loss: 0.9235     \n",
      "Epoch 12/100\n",
      "101/101 [==============================] - 0s - loss: 0.8811     \n",
      "Epoch 13/100\n",
      "101/101 [==============================] - 0s - loss: 0.8404     \n",
      "Epoch 14/100\n",
      "101/101 [==============================] - 0s - loss: 0.8037     \n",
      "Epoch 15/100\n",
      "101/101 [==============================] - 0s - loss: 0.7667     \n",
      "Epoch 16/100\n",
      "101/101 [==============================] - 0s - loss: 0.7361     \n",
      "Epoch 17/100\n",
      "101/101 [==============================] - 0s - loss: 0.6998     \n",
      "Epoch 18/100\n",
      "101/101 [==============================] - 0s - loss: 0.6707     \n",
      "Epoch 19/100\n",
      "101/101 [==============================] - 0s - loss: 0.6410     \n",
      "Epoch 20/100\n",
      "101/101 [==============================] - 0s - loss: 0.6113     \n",
      "Epoch 21/100\n",
      "101/101 [==============================] - 0s - loss: 0.5846     \n",
      "Epoch 22/100\n",
      "101/101 [==============================] - 0s - loss: 0.5593     \n",
      "Epoch 23/100\n",
      "101/101 [==============================] - 0s - loss: 0.5388     \n",
      "Epoch 24/100\n",
      "101/101 [==============================] - 0s - loss: 0.5167     \n",
      "Epoch 25/100\n",
      "101/101 [==============================] - 0s - loss: 0.4947     \n",
      "Epoch 26/100\n",
      "101/101 [==============================] - 0s - loss: 0.4754     \n",
      "Epoch 27/100\n",
      "101/101 [==============================] - 0s - loss: 0.4583     \n",
      "Epoch 28/100\n",
      "101/101 [==============================] - 0s - loss: 0.4384     \n",
      "Epoch 29/100\n",
      "101/101 [==============================] - 0s - loss: 0.4220     \n",
      "Epoch 30/100\n",
      "101/101 [==============================] - 0s - loss: 0.4061     \n",
      "Epoch 31/100\n",
      "101/101 [==============================] - 0s - loss: 0.3892     \n",
      "Epoch 32/100\n",
      "101/101 [==============================] - 0s - loss: 0.3731     \n",
      "Epoch 33/100\n",
      "101/101 [==============================] - 0s - loss: 0.3579     \n",
      "Epoch 34/100\n",
      "101/101 [==============================] - 0s - loss: 0.3450     \n",
      "Epoch 35/100\n",
      "101/101 [==============================] - 0s - loss: 0.3340     \n",
      "Epoch 36/100\n",
      "101/101 [==============================] - 0s - loss: 0.3227     \n",
      "Epoch 37/100\n",
      "101/101 [==============================] - 0s - loss: 0.3114     \n",
      "Epoch 38/100\n",
      "101/101 [==============================] - 0s - loss: 0.3000     \n",
      "Epoch 39/100\n",
      "101/101 [==============================] - 0s - loss: 0.2901     \n",
      "Epoch 40/100\n",
      "101/101 [==============================] - 0s - loss: 0.2800     \n",
      "Epoch 41/100\n",
      "101/101 [==============================] - 0s - loss: 0.2714     \n",
      "Epoch 42/100\n",
      "101/101 [==============================] - 0s - loss: 0.2624     \n",
      "Epoch 43/100\n",
      "101/101 [==============================] - 0s - loss: 0.2547     \n",
      "Epoch 44/100\n",
      "101/101 [==============================] - 0s - loss: 0.2470     \n",
      "Epoch 45/100\n",
      "101/101 [==============================] - 0s - loss: 0.2394     \n",
      "Epoch 46/100\n",
      "101/101 [==============================] - 0s - loss: 0.2327     \n",
      "Epoch 47/100\n",
      "101/101 [==============================] - 0s - loss: 0.2272     \n",
      "Epoch 48/100\n",
      "101/101 [==============================] - 0s - loss: 0.2211     \n",
      "Epoch 49/100\n",
      "101/101 [==============================] - 0s - loss: 0.2153     \n",
      "Epoch 50/100\n",
      "101/101 [==============================] - 0s - loss: 0.2099     \n",
      "Epoch 51/100\n",
      "101/101 [==============================] - 0s - loss: 0.2050     \n",
      "Epoch 52/100\n",
      "101/101 [==============================] - 0s - loss: 0.1993     \n",
      "Epoch 53/100\n",
      "101/101 [==============================] - 0s - loss: 0.1942     \n",
      "Epoch 54/100\n",
      "101/101 [==============================] - 0s - loss: 0.1886     \n",
      "Epoch 55/100\n",
      "101/101 [==============================] - 0s - loss: 0.1838     \n",
      "Epoch 56/100\n",
      "101/101 [==============================] - 0s - loss: 0.1796     \n",
      "Epoch 57/100\n",
      "101/101 [==============================] - 0s - loss: 0.1764     \n",
      "Epoch 58/100\n",
      "101/101 [==============================] - 0s - loss: 0.1726     \n",
      "Epoch 59/100\n",
      "101/101 [==============================] - 0s - loss: 0.1692     \n",
      "Epoch 60/100\n",
      "101/101 [==============================] - 0s - loss: 0.1664     \n",
      "Epoch 61/100\n",
      "101/101 [==============================] - 0s - loss: 0.1619     \n",
      "Epoch 62/100\n",
      "101/101 [==============================] - 0s - loss: 0.1593     \n",
      "Epoch 63/100\n",
      "101/101 [==============================] - 0s - loss: 0.1563     \n",
      "Epoch 64/100\n",
      "101/101 [==============================] - 0s - loss: 0.1538     \n",
      "Epoch 65/100\n",
      "101/101 [==============================] - 0s - loss: 0.1512     \n",
      "Epoch 66/100\n",
      "101/101 [==============================] - 0s - loss: 0.1486     \n",
      "Epoch 67/100\n",
      "101/101 [==============================] - 0s - loss: 0.1462     \n",
      "Epoch 68/100\n",
      "101/101 [==============================] - 0s - loss: 0.1442     \n",
      "Epoch 69/100\n",
      "101/101 [==============================] - 0s - loss: 0.1420     \n",
      "Epoch 70/100\n",
      "101/101 [==============================] - 0s - loss: 0.1397     \n",
      "Epoch 71/100\n",
      "101/101 [==============================] - 0s - loss: 0.1378     \n",
      "Epoch 72/100\n",
      "101/101 [==============================] - 0s - loss: 0.1359     \n",
      "Epoch 73/100\n",
      "101/101 [==============================] - 0s - loss: 0.1342     \n",
      "Epoch 74/100\n",
      "101/101 [==============================] - 0s - loss: 0.1324     \n",
      "Epoch 75/100\n",
      "101/101 [==============================] - 0s - loss: 0.1316     \n",
      "Epoch 76/100\n",
      "101/101 [==============================] - 0s - loss: 0.1302     \n",
      "Epoch 77/100\n",
      "101/101 [==============================] - 0s - loss: 0.1289     \n",
      "Epoch 78/100\n",
      "101/101 [==============================] - 0s - loss: 0.1273     \n",
      "Epoch 79/100\n",
      "101/101 [==============================] - 0s - loss: 0.1258     \n",
      "Epoch 80/100\n",
      "101/101 [==============================] - 0s - loss: 0.1248     \n",
      "Epoch 81/100\n",
      "101/101 [==============================] - 0s - loss: 0.1240     \n",
      "Epoch 82/100\n",
      "101/101 [==============================] - 0s - loss: 0.1232     \n",
      "Epoch 83/100\n",
      "101/101 [==============================] - 0s - loss: 0.1226     \n",
      "Epoch 84/100\n",
      "101/101 [==============================] - 0s - loss: 0.1218     \n",
      "Epoch 85/100\n",
      "101/101 [==============================] - 0s - loss: 0.1212     \n",
      "Epoch 86/100\n",
      "101/101 [==============================] - 0s - loss: 0.1202     \n",
      "Epoch 87/100\n",
      "101/101 [==============================] - 0s - loss: 0.1196     \n",
      "Epoch 88/100\n",
      "101/101 [==============================] - 0s - loss: 0.1188     \n",
      "Epoch 89/100\n",
      "101/101 [==============================] - 0s - loss: 0.1180     \n",
      "Epoch 90/100\n",
      "101/101 [==============================] - 0s - loss: 0.1174     \n",
      "Epoch 91/100\n",
      "101/101 [==============================] - 0s - loss: 0.1170     \n",
      "Epoch 92/100\n",
      "101/101 [==============================] - 0s - loss: 0.1164     \n",
      "Epoch 93/100\n",
      "101/101 [==============================] - 0s - loss: 0.1157     \n",
      "Epoch 94/100\n",
      "101/101 [==============================] - 0s - loss: 0.1152     \n",
      "Epoch 95/100\n",
      "101/101 [==============================] - 0s - loss: 0.1150     \n",
      "Epoch 96/100\n",
      "101/101 [==============================] - 0s - loss: 0.1147     \n",
      "Epoch 97/100\n",
      "101/101 [==============================] - 0s - loss: 0.1143     \n",
      "Epoch 98/100\n",
      "101/101 [==============================] - 0s - loss: 0.1139     \n",
      "Epoch 99/100\n",
      "101/101 [==============================] - 0s - loss: 0.1135     \n",
      "Epoch 100/100\n",
      "101/101 [==============================] - 0s - loss: 0.1130     \n"
     ]
    },
    {
     "data": {
      "text/plain": [
       "<keras.callbacks.History at 0x1218257d0>"
      ]
     },
     "execution_count": 4,
     "metadata": {},
     "output_type": "execute_result"
    }
   ],
   "source": [
    "# Generate dataset\n",
    "trX = np.linspace(-1, 1, 101)\n",
    "trY = 2 * trX + np.random.randn(*trX.shape) * 0.33 # create a y value which is approximately linear but with some random noise\n",
    "# Linear regression model\n",
    "model = Sequential()\n",
    "model.add(Dense(input_dim=1, output_dim=1, init='uniform', activation='linear'))\n",
    "model.compile(optimizer='sgd', loss='mse')\n",
    "\n",
    "# Print initial weights\n",
    "weights = model.layers[0].get_weights()\n",
    "w_init = weights[0][0][0]\n",
    "b_init = weights[1][0]\n",
    "print 'Linear regression model is initialized with weight w: %.2f, b: %.2f' % (w_init, b_init)\n",
    "\n",
    "# Train\n",
    "model.fit(trX, trY, nb_epoch=100, verbose=1)"
   ]
  },
  {
   "cell_type": "code",
   "execution_count": 5,
   "metadata": {},
   "outputs": [
    {
     "name": "stdout",
     "output_type": "stream",
     "text": [
      "Linear regression model is trained with weight w: 1.90, b: -0.01\n"
     ]
    }
   ],
   "source": [
    "# Print trained weights\n",
    "weights = model.layers[0].get_weights()\n",
    "w = weights[0][0][0]\n",
    "b = weights[1][0]\n",
    "print 'Linear regression model is trained with weight w: %.2f, b: %.2f' % (w, b)"
   ]
  },
  {
   "cell_type": "code",
   "execution_count": 6,
   "metadata": {},
   "outputs": [
    {
     "data": {
      "image/png": "[encoded data removed]",
      "text/plain": [
       "<matplotlib.figure.Figure at 0x11f601a10>"
      ]
     },
     "metadata": {},
     "output_type": "display_data"
    }
   ],
   "source": [
    "\n",
    "plt.plot(trX, trY, label='data')\n",
    "plt.plot(trX, w_init*trX + b_init, label='init')\n",
    "plt.plot(trX, w*trX + b, label='prediction')\n",
    "plt.legend()\n",
    "plt.show()"
   ]
  }
 ],
 "metadata": {
  "kernelspec": {
   "display_name": "Python 3 (ipykernel)",
   "language": "python",
   "name": "python3"
  },
  "language_info": {
   "codemirror_mode": {
    "name": "ipython",
    "version": 3
   },
   "file_extension": ".py",
   "mimetype": "text/x-python",
   "name": "python",
   "nbconvert_exporter": "python",
   "pygments_lexer": "ipython3",
   "version": "3.8.9"
  }
 },
 "nbformat": 4,
 "nbformat_minor": 4
}
