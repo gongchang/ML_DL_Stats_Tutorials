{
 "cells": [
  {
   "cell_type": "code",
   "execution_count": 1,
   "metadata": {},
   "outputs": [
    {
     "name": "stdout",
     "output_type": "stream",
     "text": [
      "vae_mlp_mnist.h5\n"
     ]
    }
   ],
   "source": [
    "!ls *h5"
   ]
  },
  {
   "cell_type": "code",
   "execution_count": 2,
   "metadata": {},
   "outputs": [],
   "source": [
    "#https://github.com/keras-team/keras/tree/master/examples"
   ]
  },
  {
   "cell_type": "code",
   "execution_count": 3,
   "metadata": {},
   "outputs": [],
   "source": [
    "import h5py"
   ]
  },
  {
   "cell_type": "code",
   "execution_count": 4,
   "metadata": {},
   "outputs": [],
   "source": [
    "##just the raw file\n",
    "model_vae=h5py.File(\"vae_mlp_mnist.h5\", 'r')"
   ]
  },
  {
   "cell_type": "code",
   "execution_count": 5,
   "metadata": {},
   "outputs": [
    {
     "data": {
      "text/plain": [
       "['decoder', 'encoder', 'encoder_input']"
      ]
     },
     "execution_count": 5,
     "metadata": {},
     "output_type": "execute_result"
    }
   ],
   "source": [
    "list(model_vae.keys())"
   ]
  },
  {
   "cell_type": "code",
   "execution_count": 6,
   "metadata": {},
   "outputs": [
    {
     "data": {
      "text/plain": [
       "['dense_2', 'dense_3']"
      ]
     },
     "execution_count": 6,
     "metadata": {},
     "output_type": "execute_result"
    }
   ],
   "source": [
    "list(model_vae['decoder'].keys())"
   ]
  },
  {
   "cell_type": "code",
   "execution_count": 7,
   "metadata": {},
   "outputs": [],
   "source": [
    "#this is the way to load keras models (not only the weights)\n",
    "#from keras.models import load_model\n",
    "#model = load_model('vae_mlp_mnist.h5')\n",
    "\n",
    "#however, it did not work here because only weights were saved in the .h5 file; the actual model wasn't saved"
   ]
  },
  {
   "cell_type": "code",
   "execution_count": 8,
   "metadata": {},
   "outputs": [
    {
     "name": "stderr",
     "output_type": "stream",
     "text": [
      "Using TensorFlow backend.\n"
     ]
    },
    {
     "name": "stdout",
     "output_type": "stream",
     "text": [
      "__________________________________________________________________________________________________\n",
      "Layer (type)                    Output Shape         Param #     Connected to                     \n",
      "==================================================================================================\n",
      "encoder_input (InputLayer)      (None, 784)          0                                            \n",
      "__________________________________________________________________________________________________\n",
      "dense_1 (Dense)                 (None, 512)          401920      encoder_input[0][0]              \n",
      "__________________________________________________________________________________________________\n",
      "z_mean (Dense)                  (None, 2)            1026        dense_1[0][0]                    \n",
      "__________________________________________________________________________________________________\n",
      "z_log_var (Dense)               (None, 2)            1026        dense_1[0][0]                    \n",
      "__________________________________________________________________________________________________\n",
      "z (Lambda)                      (None, 2)            0           z_mean[0][0]                     \n",
      "                                                                 z_log_var[0][0]                  \n",
      "==================================================================================================\n",
      "Total params: 403,972\n",
      "Trainable params: 403,972\n",
      "Non-trainable params: 0\n",
      "__________________________________________________________________________________________________\n",
      "_________________________________________________________________\n",
      "Layer (type)                 Output Shape              Param #   \n",
      "=================================================================\n",
      "z_sampling (InputLayer)      (None, 2)                 0         \n",
      "_________________________________________________________________\n",
      "dense_2 (Dense)              (None, 512)               1536      \n",
      "_________________________________________________________________\n",
      "dense_3 (Dense)              (None, 784)               402192    \n",
      "=================================================================\n",
      "Total params: 403,728\n",
      "Trainable params: 403,728\n",
      "Non-trainable params: 0\n",
      "_________________________________________________________________\n"
     ]
    }
   ],
   "source": [
    "#in order to load the weights, I need to create a model first\n",
    "#\n",
    "\n",
    "from __future__ import absolute_import\n",
    "from __future__ import division\n",
    "from __future__ import print_function\n",
    "\n",
    "from keras.layers import Lambda, Input, Dense\n",
    "from keras.models import Model\n",
    "from keras.datasets import mnist\n",
    "from keras.losses import mse, binary_crossentropy\n",
    "from keras.utils import plot_model\n",
    "from keras import backend as K\n",
    "\n",
    "import numpy as np\n",
    "import matplotlib.pyplot as plt\n",
    "import os\n",
    "\n",
    "# reparameterization trick\n",
    "# instead of sampling from Q(z|X), sample eps = N(0,I)\n",
    "# z = z_mean + sqrt(var)*eps\n",
    "def sampling(args):\n",
    "    \"\"\"Reparameterization trick by sampling fr an isotropic unit Gaussian.\n",
    "    # Arguments:\n",
    "        args (tensor): mean and log of variance of Q(z|X)\n",
    "    # Returns:\n",
    "        z (tensor): sampled latent vector\n",
    "    \"\"\"\n",
    "\n",
    "    z_mean, z_log_var = args\n",
    "    batch = K.shape(z_mean)[0]\n",
    "    dim = K.int_shape(z_mean)[1]\n",
    "    # by default, random_normal has mean=0 and std=1.0\n",
    "    epsilon = K.random_normal(shape=(batch, dim))\n",
    "    return z_mean + K.exp(0.5 * z_log_var) * epsilon\n",
    "\n",
    "# MNIST dataset\n",
    "(x_train, y_train), (x_test, y_test) = mnist.load_data()\n",
    "\n",
    "image_size = x_train.shape[1]\n",
    "original_dim = image_size * image_size\n",
    "x_train = np.reshape(x_train, [-1, original_dim])\n",
    "x_test = np.reshape(x_test, [-1, original_dim])\n",
    "x_train = x_train.astype('float32') / 255\n",
    "x_test = x_test.astype('float32') / 255\n",
    "\n",
    "# network parameters\n",
    "input_shape = (original_dim, )\n",
    "intermediate_dim = 512\n",
    "batch_size = 128\n",
    "latent_dim = 2\n",
    "epochs = 50\n",
    "\n",
    "# VAE model = encoder + decoder\n",
    "# build encoder model\n",
    "inputs = Input(shape=input_shape, name='encoder_input')\n",
    "x = Dense(intermediate_dim, activation='relu')(inputs)\n",
    "z_mean = Dense(latent_dim, name='z_mean')(x)\n",
    "z_log_var = Dense(latent_dim, name='z_log_var')(x)\n",
    "\n",
    "# use reparameterization trick to push the sampling out as input\n",
    "# note that \"output_shape\" isn't necessary with the TensorFlow backend\n",
    "z = Lambda(sampling, output_shape=(latent_dim,), name='z')([z_mean, z_log_var])\n",
    "\n",
    "# instantiate encoder model\n",
    "encoder = Model(inputs, [z_mean, z_log_var, z], name='encoder')\n",
    "encoder.summary()\n",
    "\n",
    "# build decoder model\n",
    "latent_inputs = Input(shape=(latent_dim,), name='z_sampling')\n",
    "x = Dense(intermediate_dim, activation='relu')(latent_inputs)\n",
    "outputs = Dense(original_dim, activation='sigmoid')(x)\n",
    "\n",
    "# instantiate decoder model\n",
    "decoder = Model(latent_inputs, outputs, name='decoder')\n",
    "decoder.summary()\n",
    "\n",
    "# instantiate VAE model\n",
    "outputs = decoder(encoder(inputs)[2])\n",
    "vae = Model(inputs, outputs, name='vae_mlp')"
   ]
  },
  {
   "cell_type": "code",
   "execution_count": 9,
   "metadata": {},
   "outputs": [],
   "source": [
    "vae.load_weights(\"vae_mlp_mnist.h5\",by_name=True)"
   ]
  },
  {
   "cell_type": "code",
   "execution_count": 10,
   "metadata": {},
   "outputs": [
    {
     "data": {
      "text/plain": [
       "<bound method Model.predict_generator of <keras.engine.training.Model object at 0x182ed15b38>>"
      ]
     },
     "execution_count": 10,
     "metadata": {},
     "output_type": "execute_result"
    }
   ],
   "source": [
    "vae.predict_generator"
   ]
  },
  {
   "cell_type": "code",
   "execution_count": 11,
   "metadata": {},
   "outputs": [
    {
     "data": {
      "text/plain": [
       "[<tf.Variable 'dense_1/kernel:0' shape=(784, 512) dtype=float32_ref>,\n",
       " <tf.Variable 'dense_1/bias:0' shape=(512,) dtype=float32_ref>,\n",
       " <tf.Variable 'z_mean/kernel:0' shape=(512, 2) dtype=float32_ref>,\n",
       " <tf.Variable 'z_mean/bias:0' shape=(2,) dtype=float32_ref>,\n",
       " <tf.Variable 'z_log_var/kernel:0' shape=(512, 2) dtype=float32_ref>,\n",
       " <tf.Variable 'z_log_var/bias:0' shape=(2,) dtype=float32_ref>]"
      ]
     },
     "execution_count": 11,
     "metadata": {},
     "output_type": "execute_result"
    }
   ],
   "source": [
    "encoder.weights"
   ]
  },
  {
   "cell_type": "code",
   "execution_count": 12,
   "metadata": {},
   "outputs": [
    {
     "data": {
      "text/plain": [
       "(60000, 784)"
      ]
     },
     "execution_count": 12,
     "metadata": {},
     "output_type": "execute_result"
    }
   ],
   "source": [
    "x_train.shape"
   ]
  },
  {
   "cell_type": "code",
   "execution_count": 13,
   "metadata": {},
   "outputs": [
    {
     "data": {
      "text/plain": [
       "[<keras.engine.topology.InputLayer at 0x10bf985c0>,\n",
       " <keras.engine.training.Model at 0x1823980630>,\n",
       " <keras.engine.training.Model at 0x182ed15320>]"
      ]
     },
     "execution_count": 13,
     "metadata": {},
     "output_type": "execute_result"
    }
   ],
   "source": [
    "vae.layers #Input, Encoder, Decoder?  #looks like it is the case"
   ]
  },
  {
   "cell_type": "markdown",
   "metadata": {},
   "source": [
    "Use the decoder part as the generative model below:"
   ]
  },
  {
   "cell_type": "code",
   "execution_count": 14,
   "metadata": {},
   "outputs": [
    {
     "data": {
      "text/plain": [
       "(1, 784)"
      ]
     },
     "execution_count": 14,
     "metadata": {},
     "output_type": "execute_result"
    }
   ],
   "source": [
    "z_sample=np.array([[1, 0.1]])\n",
    "decoded1=vae.layers[2].predict(z_sample)\n",
    "decoded1.shape"
   ]
  },
  {
   "cell_type": "code",
   "execution_count": 15,
   "metadata": {},
   "outputs": [
    {
     "data": {
      "text/plain": [
       "(28, 28)"
      ]
     },
     "execution_count": 15,
     "metadata": {},
     "output_type": "execute_result"
    }
   ],
   "source": [
    "decoded1=decoded1.reshape(28,28)\n",
    "decoded1.shape"
   ]
  },
  {
   "cell_type": "code",
   "execution_count": 16,
   "metadata": {},
   "outputs": [
    {
     "data": {
      "text/plain": [
       "<matplotlib.image.AxesImage at 0x182fa83550>"
      ]
     },
     "execution_count": 16,
     "metadata": {},
     "output_type": "execute_result"
    },
    {
     "data": {
      "image/png": "[encoded data removed]",
      "text/plain": [
       "<Figure size 432x288 with 1 Axes>"
      ]
     },
     "metadata": {},
     "output_type": "display_data"
    }
   ],
   "source": [
    "plt.imshow(decoded1)"
   ]
  },
  {
   "cell_type": "code",
   "execution_count": 17,
   "metadata": {},
   "outputs": [
    {
     "data": {
      "text/plain": [
       "<matplotlib.image.AxesImage at 0x182efc5b38>"
      ]
     },
     "execution_count": 17,
     "metadata": {},
     "output_type": "execute_result"
    },
    {
     "data": {
      "image/png": "[encoded data removed]",
      "text/plain": [
       "<Figure size 432x288 with 1 Axes>"
      ]
     },
     "metadata": {},
     "output_type": "display_data"
    }
   ],
   "source": [
    "z_sample=np.array([[8, 2]])\n",
    "decoded1=vae.layers[2].predict(z_sample)\n",
    "decoded1=decoded1.reshape(28,28)\n",
    "plt.imshow(decoded1)"
   ]
  },
  {
   "cell_type": "code",
   "execution_count": 18,
   "metadata": {},
   "outputs": [
    {
     "data": {
      "text/plain": [
       "<matplotlib.image.AxesImage at 0x182fc35cf8>"
      ]
     },
     "execution_count": 18,
     "metadata": {},
     "output_type": "execute_result"
    },
    {
     "data": {
      "image/png": "[encoded data removed]",
      "text/plain": [
       "<Figure size 432x288 with 1 Axes>"
      ]
     },
     "metadata": {},
     "output_type": "display_data"
    }
   ],
   "source": [
    "z_sample=np.array([[1, 2]])\n",
    "decoded1=vae.layers[2].predict(z_sample)\n",
    "decoded1=decoded1.reshape(28,28)\n",
    "plt.imshow(decoded1)"
   ]
  },
  {
   "cell_type": "code",
   "execution_count": 19,
   "metadata": {},
   "outputs": [
    {
     "data": {
      "text/plain": [
       "<matplotlib.image.AxesImage at 0x182fd846d8>"
      ]
     },
     "execution_count": 19,
     "metadata": {},
     "output_type": "execute_result"
    },
    {
     "data": {
      "image/png": "[encoded data removed]",
      "text/plain": [
       "<Figure size 432x288 with 1 Axes>"
      ]
     },
     "metadata": {},
     "output_type": "display_data"
    }
   ],
   "source": [
    "z_sample=np.array([[1000, 20]])\n",
    "decoded1=vae.layers[2].predict(z_sample)\n",
    "decoded1=decoded1.reshape(28,28)\n",
    "plt.imshow(decoded1)"
   ]
  },
  {
   "cell_type": "code",
   "execution_count": 20,
   "metadata": {},
   "outputs": [
    {
     "data": {
      "text/plain": [
       "<matplotlib.image.AxesImage at 0x182fe51f98>"
      ]
     },
     "execution_count": 20,
     "metadata": {},
     "output_type": "execute_result"
    },
    {
     "data": {
      "image/png": "[encoded data removed]",
      "text/plain": [
       "<Figure size 432x288 with 1 Axes>"
      ]
     },
     "metadata": {},
     "output_type": "display_data"
    }
   ],
   "source": [
    "z_sample=np.array([[0.01, 0.2]])\n",
    "decoded1=vae.layers[2].predict(z_sample)\n",
    "decoded1=decoded1.reshape(28,28)\n",
    "plt.imshow(decoded1)"
   ]
  },
  {
   "cell_type": "markdown",
   "metadata": {},
   "source": [
    "Try to check the whole"
   ]
  },
  {
   "cell_type": "code",
   "execution_count": 21,
   "metadata": {},
   "outputs": [
    {
     "data": {
      "text/plain": [
       "(784,)"
      ]
     },
     "execution_count": 21,
     "metadata": {},
     "output_type": "execute_result"
    }
   ],
   "source": [
    "number=x_train[0].reshape(784,)\n",
    "number.shape"
   ]
  },
  {
   "cell_type": "code",
   "execution_count": 22,
   "metadata": {},
   "outputs": [
    {
     "data": {
      "text/plain": [
       "(60000, 784)"
      ]
     },
     "execution_count": 22,
     "metadata": {},
     "output_type": "execute_result"
    }
   ],
   "source": [
    "x_train.shape"
   ]
  },
  {
   "cell_type": "code",
   "execution_count": 23,
   "metadata": {},
   "outputs": [
    {
     "data": {
      "text/plain": [
       "(3, 784)"
      ]
     },
     "execution_count": 23,
     "metadata": {},
     "output_type": "execute_result"
    }
   ],
   "source": [
    "k1=vae.predict(x_train[0:3])\n",
    "k1.shape"
   ]
  },
  {
   "cell_type": "code",
   "execution_count": 24,
   "metadata": {},
   "outputs": [
    {
     "data": {
      "text/plain": [
       "<matplotlib.image.AxesImage at 0x182feae6a0>"
      ]
     },
     "execution_count": 24,
     "metadata": {},
     "output_type": "execute_result"
    },
    {
     "data": {
      "image/png": "[encoded data removed]",
      "text/plain": [
       "<Figure size 432x288 with 1 Axes>"
      ]
     },
     "metadata": {},
     "output_type": "display_data"
    }
   ],
   "source": [
    "#2nd input for the vae model\n",
    "plt.imshow(x_train[1].reshape(28,28))"
   ]
  },
  {
   "cell_type": "code",
   "execution_count": 25,
   "metadata": {},
   "outputs": [
    {
     "data": {
      "text/plain": [
       "<matplotlib.image.AxesImage at 0x18301e5f60>"
      ]
     },
     "execution_count": 25,
     "metadata": {},
     "output_type": "execute_result"
    },
    {
     "data": {
      "image/png": "[encoded data removed]",
      "text/plain": [
       "<Figure size 432x288 with 1 Axes>"
      ]
     },
     "metadata": {},
     "output_type": "display_data"
    }
   ],
   "source": [
    "#vae out for the 2nd input\n",
    "plt.imshow(k1[1].reshape(28,28))\n",
    "#you can see from the example that the generated result is similar but not the same"
   ]
  },
  {
   "cell_type": "code",
   "execution_count": 26,
   "metadata": {},
   "outputs": [],
   "source": [
    "z = Lambda(sampling, output_shape=(latent_dim,), name='z')([z_mean, z_log_var])\n",
    "\n",
    "# instantiate encoder model\n",
    "encoder = Model(inputs, [z_mean, z_log_var, z], name='encoder')"
   ]
  },
  {
   "cell_type": "code",
   "execution_count": 27,
   "metadata": {},
   "outputs": [
    {
     "data": {
      "text/plain": [
       "[<keras.engine.topology.InputLayer at 0x10bf985c0>,\n",
       " <keras.engine.training.Model at 0x1823980630>,\n",
       " <keras.engine.training.Model at 0x182ed15320>]"
      ]
     },
     "execution_count": 27,
     "metadata": {},
     "output_type": "execute_result"
    }
   ],
   "source": [
    "vae.layers"
   ]
  },
  {
   "cell_type": "code",
   "execution_count": 28,
   "metadata": {},
   "outputs": [
    {
     "data": {
      "text/plain": [
       "array([[1.63010250e-09, 5.20140264e-10, 9.89042848e-10, 1.26769828e-09,\n",
       "        2.24369012e-09, 9.95213689e-10, 1.36687861e-09, 1.58576408e-09,\n",
       "        2.10556195e-09, 1.89488381e-09, 1.22232569e-09, 8.16094636e-10,\n",
       "        1.55441133e-12, 1.57509350e-16, 2.89801311e-16, 9.18253196e-10,\n",
       "        1.57698699e-09, 1.32295053e-09, 1.27465183e-09, 1.66039649e-09,\n",
       "        1.24821098e-09, 6.43878340e-10, 2.01212091e-09, 2.18939200e-09,\n",
       "        1.17763099e-09, 1.58287827e-09, 1.62903635e-09, 1.12254439e-09,\n",
       "        1.25770583e-09, 9.79328507e-10, 6.50543119e-10, 2.56177346e-09,\n",
       "        1.86510785e-09, 6.31555829e-14, 3.34685321e-20, 1.07830757e-13,\n",
       "        1.34023087e-17, 1.04890741e-14, 9.30659584e-17, 5.87151907e-18,\n",
       "        8.08296162e-18, 1.47539185e-15, 2.58614554e-15, 1.69162678e-14,\n",
       "        2.26553083e-13, 1.21860213e-11, 1.02558034e-12, 5.64270419e-12,\n",
       "        2.08692803e-11, 3.78194004e-10, 5.21135489e-13, 1.16565641e-18,\n",
       "        1.35571376e-09, 9.57874891e-10, 1.08604814e-09, 9.59355817e-10,\n",
       "        8.31592462e-10, 7.50632334e-10, 7.92624565e-14, 9.04786357e-10,\n",
       "        1.42107653e-13, 8.81692809e-12, 4.83435930e-11, 2.72932962e-13,\n",
       "        3.40840475e-18, 1.47784074e-13, 4.06317504e-14, 9.57715759e-14,\n",
       "        3.44875040e-12, 2.06846901e-11, 4.76805019e-11, 3.22303961e-10,\n",
       "        7.16373494e-09, 1.83006976e-09, 4.37562377e-08, 2.48838696e-05,\n",
       "        9.86741998e-06, 2.23660990e-07, 5.25159471e-10, 2.08198814e-09,\n",
       "        2.18603291e-09, 4.51455748e-11, 2.17540586e-09, 2.63042432e-09,\n",
       "        7.66205543e-10, 7.08981207e-10, 1.86557392e-09, 6.33559072e-09,\n",
       "        1.80272264e-06, 1.69417362e-07, 4.32973906e-08, 3.32326131e-08,\n",
       "        1.48614026e-06, 1.05581503e-05, 8.12297745e-04, 1.44619006e-03,\n",
       "        2.31004902e-03, 3.15894117e-03, 4.33109887e-03, 5.33408951e-03,\n",
       "        3.35752429e-03, 3.44776642e-03, 2.74023693e-03, 2.12595123e-03,\n",
       "        2.22861557e-03, 2.50512129e-03, 1.30243832e-03, 6.24997250e-04,\n",
       "        9.80545155e-05, 2.48206361e-05, 1.65876145e-07, 1.33134703e-09,\n",
       "        1.78854942e-09, 2.40426039e-06, 5.28286073e-05, 2.21383607e-06,\n",
       "        2.16875287e-06, 9.21701212e-05, 5.81555332e-06, 7.08905063e-05,\n",
       "        1.03720475e-03, 1.98663934e-03, 5.06566186e-03, 1.79910660e-02,\n",
       "        5.30450083e-02, 1.16195284e-01, 1.63593516e-01, 2.01572984e-01,\n",
       "        2.18385205e-01, 2.10989878e-01, 1.63088068e-01, 1.30391762e-01,\n",
       "        9.67275202e-02, 7.75790066e-02, 4.80626822e-02, 2.96839997e-02,\n",
       "        1.01518612e-02, 2.68021296e-03, 4.70495754e-04, 4.07193657e-09,\n",
       "        1.13093446e-09, 1.39931988e-09, 3.32158124e-05, 1.50195163e-04,\n",
       "        2.19751055e-05, 7.85952725e-05, 6.12988253e-04, 1.82681496e-03,\n",
       "        5.84076066e-03, 1.71770882e-02, 4.49745618e-02, 1.17967784e-01,\n",
       "        2.60110915e-01, 4.53870267e-01, 5.90348005e-01, 6.19939566e-01,\n",
       "        6.53964520e-01, 6.49157107e-01, 5.76797783e-01, 4.67979640e-01,\n",
       "        3.32862139e-01, 2.42596120e-01, 1.61405042e-01, 1.03111021e-01,\n",
       "        4.31067161e-02, 8.87179095e-03, 1.48380862e-03, 1.18392318e-05,\n",
       "        1.58467872e-09, 1.65414058e-05, 1.02948958e-04, 2.68887143e-05,\n",
       "        1.67394435e-04, 4.99479065e-04, 1.40492117e-03, 3.35733616e-03,\n",
       "        1.72030590e-02, 6.57566190e-02, 1.88646823e-01, 3.97533238e-01,\n",
       "        5.85847437e-01, 7.38623798e-01, 7.96322286e-01, 7.89877772e-01,\n",
       "        8.08438003e-01, 8.07097316e-01, 7.75240362e-01, 6.84936702e-01,\n",
       "        5.40355384e-01, 3.57548714e-01, 2.03924641e-01, 1.32209614e-01,\n",
       "        5.01229875e-02, 1.23269651e-02, 1.33636198e-03, 7.27497827e-05,\n",
       "        5.58925961e-10, 2.96464015e-04, 2.02798925e-04, 4.02789883e-05,\n",
       "        1.60883879e-04, 6.88104541e-04, 2.25551752e-03, 9.66274366e-03,\n",
       "        3.72396447e-02, 1.49731249e-01, 4.01171416e-01, 6.02878749e-01,\n",
       "        6.98960066e-01, 7.44497299e-01, 7.08412468e-01, 6.62945569e-01,\n",
       "        6.54675841e-01, 6.82401717e-01, 6.93450749e-01, 6.68641448e-01,\n",
       "        5.82567930e-01, 3.88719022e-01, 2.06204712e-01, 9.81634036e-02,\n",
       "        4.17988747e-02, 1.11786323e-02, 1.43799360e-03, 8.07262550e-05,\n",
       "        5.08539593e-08, 4.54588226e-05, 8.68848801e-05, 4.16604562e-05,\n",
       "        1.07594184e-04, 5.91011718e-04, 3.45769920e-03, 1.65318511e-02,\n",
       "        6.92157596e-02, 2.62597829e-01, 4.83445823e-01, 6.36846006e-01,\n",
       "        6.40569568e-01, 5.56620181e-01, 4.37274486e-01, 4.03543860e-01,\n",
       "        4.25509572e-01, 5.05703568e-01, 5.78260899e-01, 5.62162280e-01,\n",
       "        4.82282579e-01, 2.84838408e-01, 1.41587123e-01, 6.04745187e-02,\n",
       "        2.08872091e-02, 7.94079620e-03, 1.58715027e-03, 6.10540155e-05,\n",
       "        4.03384077e-21, 1.34101119e-05, 7.45481229e-05, 1.75114073e-05,\n",
       "        7.92482970e-05, 4.24056285e-04, 2.98593612e-03, 1.79258306e-02,\n",
       "        8.14033523e-02, 2.78300375e-01, 4.55011189e-01, 5.52443683e-01,\n",
       "        4.78998065e-01, 3.17983747e-01, 2.35196844e-01, 2.44533435e-01,\n",
       "        3.29652518e-01, 4.32018280e-01, 4.95745569e-01, 4.69494462e-01,\n",
       "        3.47652346e-01, 1.96403354e-01, 9.19591710e-02, 4.09646071e-02,\n",
       "        1.23279803e-02, 4.93204966e-03, 7.54441600e-04, 9.52116261e-06,\n",
       "        6.18208456e-22, 3.55325276e-24, 1.66480713e-05, 3.00850461e-05,\n",
       "        1.20049677e-04, 2.80926266e-04, 3.15064075e-03, 2.12328508e-02,\n",
       "        8.74889642e-02, 2.44826674e-01, 4.08901393e-01, 4.94790792e-01,\n",
       "        3.88545632e-01, 2.68072873e-01, 2.42524892e-01, 2.95933336e-01,\n",
       "        4.13584918e-01, 5.02112269e-01, 4.88484591e-01, 3.87549847e-01,\n",
       "        2.38519594e-01, 1.31669208e-01, 6.41080886e-02, 2.34578233e-02,\n",
       "        6.70466665e-03, 3.93240061e-03, 5.99821913e-04, 1.53124911e-05,\n",
       "        3.00433574e-21, 1.19876388e-20, 3.07732189e-05, 1.49881977e-04,\n",
       "        1.25632228e-04, 3.80904443e-04, 3.28079471e-03, 2.50637047e-02,\n",
       "        1.00714095e-01, 2.58456349e-01, 4.58196670e-01, 5.17324746e-01,\n",
       "        4.85322952e-01, 4.67697442e-01, 4.47683811e-01, 5.36624670e-01,\n",
       "        5.87920010e-01, 5.54630637e-01, 4.51074451e-01, 2.86826879e-01,\n",
       "        1.58101663e-01, 8.27417746e-02, 3.76330726e-02, 1.15994010e-02,\n",
       "        4.09248844e-03, 1.40340754e-03, 4.20203491e-04, 3.78691293e-05,\n",
       "        6.57447180e-22, 1.14918742e-19, 8.44124007e-11, 4.83016804e-04,\n",
       "        2.37522254e-04, 8.47912277e-04, 6.62017893e-03, 3.40231210e-02,\n",
       "        1.36700183e-01, 3.29339683e-01, 5.47978520e-01, 6.51230395e-01,\n",
       "        6.71876848e-01, 7.16824830e-01, 7.27387011e-01, 7.34295011e-01,\n",
       "        6.98430479e-01, 5.95425487e-01, 4.24515665e-01, 2.27031723e-01,\n",
       "        1.12768494e-01, 5.51635362e-02, 2.59107593e-02, 6.76263357e-03,\n",
       "        2.36017373e-03, 6.32782467e-04, 2.18258501e-04, 5.17314802e-05,\n",
       "        7.34943773e-10, 1.02118435e-20, 2.86262275e-16, 2.55956897e-04,\n",
       "        6.22244435e-04, 2.92326091e-03, 1.28790708e-02, 5.43275699e-02,\n",
       "        1.53358623e-01, 3.68804127e-01, 5.73881030e-01, 6.89463198e-01,\n",
       "        7.60618508e-01, 7.92750478e-01, 7.90265083e-01, 7.73526251e-01,\n",
       "        7.43446946e-01, 6.62982523e-01, 4.69422489e-01, 2.39016846e-01,\n",
       "        1.04600996e-01, 4.53922674e-02, 1.78462658e-02, 5.08369925e-03,\n",
       "        1.57506880e-03, 4.94961918e-04, 1.20464902e-04, 6.84472798e-06,\n",
       "        1.67542152e-04, 1.08833810e-05, 1.46680590e-15, 1.94530818e-04,\n",
       "        1.11773529e-03, 4.76183696e-03, 1.86558161e-02, 5.52835763e-02,\n",
       "        1.31255537e-01, 3.19087267e-01, 4.82004732e-01, 5.79259455e-01,\n",
       "        6.26647294e-01, 6.43571854e-01, 6.40501380e-01, 6.40453339e-01,\n",
       "        6.69259131e-01, 6.64019167e-01, 5.52284479e-01, 3.01008195e-01,\n",
       "        1.12414584e-01, 3.83857973e-02, 1.04773734e-02, 3.23899323e-03,\n",
       "        9.95059847e-04, 2.93603662e-04, 1.85637998e-06, 3.48464557e-17,\n",
       "        4.43033714e-05, 1.07618678e-06, 3.89031222e-04, 8.80823587e-04,\n",
       "        2.62280763e-03, 6.08297717e-03, 1.76157728e-02, 4.44441400e-02,\n",
       "        1.04861036e-01, 2.15610117e-01, 3.05484802e-01, 3.34508032e-01,\n",
       "        3.50068361e-01, 3.26752543e-01, 3.49923670e-01, 3.92202377e-01,\n",
       "        4.97111708e-01, 6.19375467e-01, 6.48018479e-01, 4.06166583e-01,\n",
       "        1.38996691e-01, 3.48555110e-02, 7.33641675e-03, 1.96274184e-03,\n",
       "        3.91824899e-04, 3.18180537e-05, 3.31125193e-05, 1.58970430e-20,\n",
       "        2.19937254e-18, 3.29566592e-06, 7.03421829e-04, 2.17642682e-03,\n",
       "        3.87789146e-03, 8.70674103e-03, 1.71550773e-02, 3.96405086e-02,\n",
       "        7.98497275e-02, 1.28434911e-01, 1.54979140e-01, 1.54206380e-01,\n",
       "        1.41034305e-01, 1.29633933e-01, 1.31534874e-01, 1.88834548e-01,\n",
       "        3.35742801e-01, 6.08029664e-01, 7.30776370e-01, 5.48359990e-01,\n",
       "        1.77355662e-01, 3.20112184e-02, 5.68820443e-03, 1.03743398e-03,\n",
       "        1.80024042e-04, 1.58717421e-06, 5.72500403e-06, 6.21235387e-19,\n",
       "        8.37753533e-10, 1.37687064e-04, 7.39630719e-04, 2.73519056e-03,\n",
       "        7.78917689e-03, 1.86030325e-02, 3.33178081e-02, 6.16180487e-02,\n",
       "        9.98658016e-02, 1.03089064e-01, 9.36292112e-02, 7.77950510e-02,\n",
       "        6.41636997e-02, 6.21057451e-02, 6.97397962e-02, 1.25225857e-01,\n",
       "        3.19157362e-01, 6.62602782e-01, 7.86089301e-01, 5.98423243e-01,\n",
       "        1.69164494e-01, 2.09550280e-02, 2.41703726e-03, 4.59758594e-04,\n",
       "        2.14036467e-04, 4.36683986e-05, 1.97271656e-05, 7.35055252e-08,\n",
       "        7.41263947e-20, 9.41020116e-05, 2.24412861e-03, 5.99047821e-03,\n",
       "        2.22492684e-02, 5.94655611e-02, 1.11113116e-01, 1.51473686e-01,\n",
       "        1.63723648e-01, 1.41146734e-01, 9.97799486e-02, 6.70805871e-02,\n",
       "        5.16991131e-02, 4.60146926e-02, 7.17599764e-02, 1.70670539e-01,\n",
       "        4.50940877e-01, 7.68627703e-01, 8.08217466e-01, 5.38073838e-01,\n",
       "        1.05676413e-01, 1.20065194e-02, 1.16005493e-03, 2.63328198e-04,\n",
       "        1.11661604e-04, 3.20521867e-05, 1.67771850e-05, 4.99539965e-07,\n",
       "        2.05986450e-09, 9.42065089e-05, 2.06962787e-03, 1.58859901e-02,\n",
       "        5.91611713e-02, 1.53365567e-01, 2.31847093e-01, 2.82007605e-01,\n",
       "        2.61275411e-01, 2.16936767e-01, 1.37511179e-01, 8.61521959e-02,\n",
       "        6.36496246e-02, 7.33997598e-02, 1.64388210e-01, 3.83925796e-01,\n",
       "        7.26633012e-01, 8.46009731e-01, 7.56935358e-01, 3.38383973e-01,\n",
       "        5.14461361e-02, 4.91303252e-03, 5.54395083e-04, 1.99990202e-04,\n",
       "        4.14268325e-05, 3.44805176e-06, 4.22864723e-05, 4.07021025e-06,\n",
       "        7.51034734e-10, 1.02109113e-03, 7.21956603e-03, 4.02187407e-02,\n",
       "        1.18947297e-01, 2.36229658e-01, 3.21805775e-01, 4.08131212e-01,\n",
       "        4.28474635e-01, 3.50390226e-01, 2.43513539e-01, 1.92335159e-01,\n",
       "        1.85661837e-01, 2.70372242e-01, 4.91295993e-01, 7.40522563e-01,\n",
       "        8.70320380e-01, 8.19323838e-01, 5.34766078e-01, 1.36184424e-01,\n",
       "        2.07449682e-02, 1.60499208e-03, 3.40757135e-04, 1.17023301e-04,\n",
       "        7.58248207e-05, 4.09078784e-05, 2.98543418e-05, 2.90327534e-06,\n",
       "        2.00243466e-09, 1.73086382e-03, 1.71705447e-02, 8.77459869e-02,\n",
       "        1.58116415e-01, 2.97026277e-01, 3.95713747e-01, 5.99918544e-01,\n",
       "        6.56591177e-01, 6.01337016e-01, 5.41239560e-01, 5.32540083e-01,\n",
       "        5.72219670e-01, 6.88802004e-01, 8.21538031e-01, 8.90697896e-01,\n",
       "        8.40596557e-01, 5.88565767e-01, 2.02612191e-01, 3.54606695e-02,\n",
       "        5.61599014e-03, 7.81286799e-04, 1.59344941e-04, 3.96607829e-05,\n",
       "        6.96695060e-05, 2.15455366e-05, 3.05096783e-05, 1.24966892e-09,\n",
       "        1.07337472e-09, 1.87213718e-05, 8.98438040e-03, 5.13546504e-02,\n",
       "        1.39631152e-01, 2.57978171e-01, 4.35324222e-01, 6.22412324e-01,\n",
       "        7.59452224e-01, 8.16604435e-01, 8.43730569e-01, 8.45564246e-01,\n",
       "        8.65139306e-01, 8.74047935e-01, 8.79011571e-01, 7.91140497e-01,\n",
       "        5.02959430e-01, 1.66366741e-01, 3.90788727e-02, 8.91500246e-03,\n",
       "        2.27391161e-03, 4.45756858e-04, 1.30294458e-04, 3.70043454e-05,\n",
       "        3.11568947e-05, 3.83033002e-05, 2.99570693e-05, 1.21892652e-09,\n",
       "        1.94798022e-09, 8.07433453e-10, 4.55448125e-03, 1.61363985e-02,\n",
       "        6.38489202e-02, 1.56048447e-01, 3.46705794e-01, 4.85500753e-01,\n",
       "        6.25087619e-01, 7.40324259e-01, 8.09065402e-01, 8.27749670e-01,\n",
       "        7.71826267e-01, 6.93515539e-01, 5.72549045e-01, 3.01312685e-01,\n",
       "        1.17031001e-01, 4.25433107e-02, 1.25853168e-02, 3.60093126e-03,\n",
       "        8.99543229e-04, 3.99857759e-04, 1.45217942e-04, 5.49814722e-05,\n",
       "        1.37938972e-04, 5.06254983e-05, 3.84598497e-05, 7.51795848e-10,\n",
       "        9.12749210e-10, 1.16499721e-09, 1.88996061e-03, 9.58103593e-03,\n",
       "        2.48308387e-02, 7.40612000e-02, 1.07846975e-01, 1.61988854e-01,\n",
       "        2.20995799e-01, 2.81906545e-01, 3.05759639e-01, 2.64731646e-01,\n",
       "        1.59347370e-01, 1.04714371e-01, 6.36800453e-02, 2.79878136e-02,\n",
       "        9.48995259e-03, 3.56739387e-03, 1.18851103e-03, 3.78629426e-04,\n",
       "        1.53294677e-04, 2.39204688e-04, 1.73267355e-04, 4.06906220e-05,\n",
       "        1.53525335e-08, 1.89944398e-08, 1.17110924e-15, 1.32239297e-09,\n",
       "        5.47718204e-10, 3.85003474e-10, 4.79078553e-05, 1.12825779e-04,\n",
       "        5.43966366e-04, 2.61963741e-03, 4.43124864e-03, 5.46262087e-03,\n",
       "        7.19055347e-03, 6.49313070e-03, 4.68813302e-03, 4.23229486e-03,\n",
       "        2.66854162e-03, 9.75001079e-04, 4.49933490e-04, 8.29947385e-05,\n",
       "        8.31003263e-07, 3.72312527e-08, 6.09641902e-05, 1.12649244e-10,\n",
       "        7.89162862e-17, 3.67546998e-16, 2.69696602e-06, 9.17224406e-06,\n",
       "        2.51908000e-21, 5.94812608e-17, 7.04842426e-16, 1.96655270e-09,\n",
       "        8.47159953e-10, 1.56988045e-09, 1.53798418e-09, 2.30016384e-09,\n",
       "        4.54594726e-08, 1.06435300e-06, 1.35114101e-06, 3.51540461e-06,\n",
       "        1.67138351e-05, 3.67656467e-05, 1.51096538e-04, 2.53080361e-04,\n",
       "        1.81115116e-17, 1.19856847e-18, 1.27356102e-16, 2.89987235e-15,\n",
       "        7.07509363e-16, 1.37691728e-15, 6.04111943e-12, 8.02534775e-12,\n",
       "        5.30324914e-15, 2.90710652e-14, 2.18709189e-07, 6.47813536e-08,\n",
       "        6.38897606e-19, 7.44262012e-19, 1.00033115e-09, 9.86217219e-10,\n",
       "        1.44973256e-09, 1.55241076e-09, 1.36072931e-09, 1.79619686e-09,\n",
       "        1.56533346e-08, 3.90849060e-08, 9.22076848e-15, 9.85348862e-17,\n",
       "        2.47884933e-16, 1.37615381e-18, 1.02803363e-17, 1.23582411e-16,\n",
       "        2.22138308e-15, 3.91985249e-16, 9.76084367e-20, 1.40393550e-22,\n",
       "        1.36142502e-24, 1.34087890e-19, 3.05564330e-13, 4.52077986e-18,\n",
       "        1.91466320e-19, 9.83871239e-20, 4.59373420e-21, 2.67804923e-22,\n",
       "        1.30406819e-09, 2.64692690e-09, 1.39564160e-09, 1.93195104e-09]],\n",
       "      dtype=float32)"
      ]
     },
     "execution_count": 28,
     "metadata": {},
     "output_type": "execute_result"
    }
   ],
   "source": [
    "vae.predict(x_train[0:1])"
   ]
  },
  {
   "cell_type": "code",
   "execution_count": 29,
   "metadata": {},
   "outputs": [],
   "source": [
    "output2=vae.predict(x_train[0].reshape(1,784))   #the single input just needs to get reshaped into 1 X 784 to work with the network architecture"
   ]
  },
  {
   "cell_type": "code",
   "execution_count": 30,
   "metadata": {},
   "outputs": [],
   "source": [
    "#plt.imshow(output2.reshape(28,28)) #this generates the digit figure"
   ]
  },
  {
   "cell_type": "code",
   "execution_count": 31,
   "metadata": {},
   "outputs": [
    {
     "data": {
      "text/plain": [
       "(784,)"
      ]
     },
     "execution_count": 31,
     "metadata": {},
     "output_type": "execute_result"
    }
   ],
   "source": [
    "x_train[0].shape"
   ]
  },
  {
   "cell_type": "code",
   "execution_count": 32,
   "metadata": {},
   "outputs": [
    {
     "data": {
      "text/plain": [
       "(1, 784)"
      ]
     },
     "execution_count": 32,
     "metadata": {},
     "output_type": "execute_result"
    }
   ],
   "source": [
    "x_train[0:1].shape"
   ]
  },
  {
   "cell_type": "code",
   "execution_count": 33,
   "metadata": {},
   "outputs": [
    {
     "data": {
      "text/plain": [
       "(1, 784)"
      ]
     },
     "execution_count": 33,
     "metadata": {},
     "output_type": "execute_result"
    }
   ],
   "source": [
    "data0=x_train[0:1]\n",
    "data0.shape"
   ]
  },
  {
   "cell_type": "code",
   "execution_count": 34,
   "metadata": {},
   "outputs": [
    {
     "data": {
      "text/plain": [
       "[array([[-0.09002593,  0.54926664]], dtype=float32),\n",
       " array([[-6.5126686, -6.269787 ]], dtype=float32),\n",
       " array([[-0.08121015,  0.55250716]], dtype=float32)]"
      ]
     },
     "execution_count": 34,
     "metadata": {},
     "output_type": "execute_result"
    }
   ],
   "source": [
    "#use the encoder model to get the latent embedding\n",
    "vae.layers[1].predict(x_train[0:1])"
   ]
  },
  {
   "cell_type": "code",
   "execution_count": 35,
   "metadata": {},
   "outputs": [
    {
     "data": {
      "text/plain": [
       "[array([[-0.09002593,  0.54926664]], dtype=float32),\n",
       " array([[-6.5126686, -6.269787 ]], dtype=float32),\n",
       " array([[-0.11310914,  0.5424645 ]], dtype=float32)]"
      ]
     },
     "execution_count": 35,
     "metadata": {},
     "output_type": "execute_result"
    }
   ],
   "source": [
    "vae.layers[1].predict(x_train[0].reshape(1,784))  #this also works"
   ]
  },
  {
   "cell_type": "markdown",
   "metadata": {},
   "source": [
    "The following code explores the different layers of the model;\n",
    "it clearly shows how the whole works and flows"
   ]
  },
  {
   "cell_type": "code",
   "execution_count": 36,
   "metadata": {},
   "outputs": [
    {
     "data": {
      "text/plain": [
       "<matplotlib.image.AxesImage at 0x18303284a8>"
      ]
     },
     "execution_count": 36,
     "metadata": {},
     "output_type": "execute_result"
    },
    {
     "data": {
      "image/png": "[encoded data removed]",
      "text/plain": [
       "<Figure size 432x288 with 1 Axes>"
      ]
     },
     "metadata": {},
     "output_type": "display_data"
    }
   ],
   "source": [
    "#check the input image\n",
    "#for a random input, No.101 image in x_test\n",
    "plt.imshow(x_test[101].reshape(28,28))"
   ]
  },
  {
   "cell_type": "code",
   "execution_count": 37,
   "metadata": {},
   "outputs": [
    {
     "data": {
      "text/plain": [
       "[array([[2.1871598, 0.4526646]], dtype=float32),\n",
       " array([[-5.1347213, -5.400489 ]], dtype=float32),\n",
       " array([[2.174407  , 0.51319104]], dtype=float32)]"
      ]
     },
     "execution_count": 37,
     "metadata": {},
     "output_type": "execute_result"
    }
   ],
   "source": [
    "#check the latent embedding results:\n",
    "vae.layers[1].predict(x_test[101].reshape(1,784))"
   ]
  },
  {
   "cell_type": "code",
   "execution_count": 38,
   "metadata": {},
   "outputs": [
    {
     "data": {
      "text/plain": [
       "<matplotlib.image.AxesImage at 0x182efab400>"
      ]
     },
     "execution_count": 38,
     "metadata": {},
     "output_type": "execute_result"
    },
    {
     "data": {
      "image/png": "[encoded data removed]",
      "text/plain": [
       "<Figure size 432x288 with 1 Axes>"
      ]
     },
     "metadata": {},
     "output_type": "display_data"
    }
   ],
   "source": [
    "#check the VAE outputs:\n",
    "plt.imshow(vae.layers[2].predict(np.array([[2.142959 , 0.4216305]])).reshape(28,28))"
   ]
  },
  {
   "cell_type": "markdown",
   "metadata": {},
   "source": [
    "I want to check the input and output shape of the model"
   ]
  },
  {
   "cell_type": "code",
   "execution_count": 39,
   "metadata": {},
   "outputs": [
    {
     "name": "stdout",
     "output_type": "stream",
     "text": [
      "_________________________________________________________________\n",
      "Layer (type)                 Output Shape              Param #   \n",
      "=================================================================\n",
      "encoder_input (InputLayer)   (None, 784)               0         \n",
      "_________________________________________________________________\n",
      "encoder (Model)              [(None, 2), (None, 2), (N 403972    \n",
      "_________________________________________________________________\n",
      "decoder (Model)              (None, 784)               403728    \n",
      "=================================================================\n",
      "Total params: 807,700\n",
      "Trainable params: 807,700\n",
      "Non-trainable params: 0\n",
      "_________________________________________________________________\n"
     ]
    }
   ],
   "source": [
    "vae.summary()"
   ]
  },
  {
   "cell_type": "code",
   "execution_count": 40,
   "metadata": {},
   "outputs": [
    {
     "name": "stdout",
     "output_type": "stream",
     "text": [
      "__________________________________________________________________________________________________\n",
      "Layer (type)                    Output Shape         Param #     Connected to                     \n",
      "==================================================================================================\n",
      "encoder_input (InputLayer)      (None, 784)          0                                            \n",
      "__________________________________________________________________________________________________\n",
      "dense_1 (Dense)                 (None, 512)          401920      encoder_input[0][0]              \n",
      "__________________________________________________________________________________________________\n",
      "z_mean (Dense)                  (None, 2)            1026        dense_1[0][0]                    \n",
      "__________________________________________________________________________________________________\n",
      "z_log_var (Dense)               (None, 2)            1026        dense_1[0][0]                    \n",
      "__________________________________________________________________________________________________\n",
      "z (Lambda)                      (None, 2)            0           z_mean[0][0]                     \n",
      "                                                                 z_log_var[0][0]                  \n",
      "==================================================================================================\n",
      "Total params: 403,972\n",
      "Trainable params: 403,972\n",
      "Non-trainable params: 0\n",
      "__________________________________________________________________________________________________\n"
     ]
    }
   ],
   "source": [
    "vae.layers[1].summary()"
   ]
  },
  {
   "cell_type": "code",
   "execution_count": 41,
   "metadata": {},
   "outputs": [
    {
     "ename": "AttributeError",
     "evalue": "'InputLayer' object has no attribute 'summary'",
     "output_type": "error",
     "traceback": [
      "\u001b[0;31m---------------------------------------------------------------------------\u001b[0m",
      "\u001b[0;31mAttributeError\u001b[0m                            Traceback (most recent call last)",
      "\u001b[0;32m<ipython-input-41-573ae7bbe4f8>\u001b[0m in \u001b[0;36m<module>\u001b[0;34m()\u001b[0m\n\u001b[0;32m----> 1\u001b[0;31m \u001b[0mvae\u001b[0m\u001b[0;34m.\u001b[0m\u001b[0mlayers\u001b[0m\u001b[0;34m[\u001b[0m\u001b[0;36m0\u001b[0m\u001b[0;34m]\u001b[0m\u001b[0;34m.\u001b[0m\u001b[0msummary\u001b[0m\u001b[0;34m(\u001b[0m\u001b[0;34m)\u001b[0m\u001b[0;34m\u001b[0m\u001b[0m\n\u001b[0m",
      "\u001b[0;31mAttributeError\u001b[0m: 'InputLayer' object has no attribute 'summary'"
     ]
    }
   ],
   "source": [
    "vae.layers[0].summary()"
   ]
  },
  {
   "cell_type": "code",
   "execution_count": 42,
   "metadata": {},
   "outputs": [
    {
     "name": "stdout",
     "output_type": "stream",
     "text": [
      "_________________________________________________________________\n",
      "Layer (type)                 Output Shape              Param #   \n",
      "=================================================================\n",
      "z_sampling (InputLayer)      (None, 2)                 0         \n",
      "_________________________________________________________________\n",
      "dense_2 (Dense)              (None, 512)               1536      \n",
      "_________________________________________________________________\n",
      "dense_3 (Dense)              (None, 784)               402192    \n",
      "=================================================================\n",
      "Total params: 403,728\n",
      "Trainable params: 403,728\n",
      "Non-trainable params: 0\n",
      "_________________________________________________________________\n"
     ]
    }
   ],
   "source": [
    "vae.layers[2].summary()"
   ]
  },
  {
   "cell_type": "code",
   "execution_count": 44,
   "metadata": {},
   "outputs": [
    {
     "data": {
      "text/plain": [
       "(1, 2)"
      ]
     },
     "execution_count": 44,
     "metadata": {},
     "output_type": "execute_result"
    }
   ],
   "source": [
    "z_value_example=np.array([[-0.08121015,  0.55250716]])\n",
    "z_value_example.shape"
   ]
  },
  {
   "cell_type": "code",
   "execution_count": 49,
   "metadata": {},
   "outputs": [],
   "source": [
    "#plot_model(vae) #this creates a \"model.png\" file; it is not going to generate a figure in the notebook\n",
    "plot_model(vae,to_file=\"reload_saved_vae_model.png\")"
   ]
  },
  {
   "cell_type": "code",
   "execution_count": 47,
   "metadata": {},
   "outputs": [
    {
     "data": {
      "image/svg+xml": [
       "<svg height=\"191pt\" viewBox=\"0.00 0.00 174.00 191.00\" width=\"174pt\" xmlns=\"http://www.w3.org/2000/svg\" xmlns:xlink=\"http://www.w3.org/1999/xlink\">\n",
       "<g class=\"graph\" id=\"graph0\" transform=\"scale(1 1) rotate(0) translate(4 187)\">\n",
       "<title>G</title>\n",
       "<polygon fill=\"#ffffff\" points=\"-4,4 -4,-187 170,-187 170,4 -4,4\" stroke=\"transparent\"/>\n",
       "<!-- 4495869376 -->\n",
       "<g class=\"node\" id=\"node1\">\n",
       "<title>4495869376</title>\n",
       "<polygon fill=\"none\" points=\"0,-146.5 0,-182.5 166,-182.5 166,-146.5 0,-146.5\" stroke=\"#000000\"/>\n",
       "<text fill=\"#000000\" font-family=\"Times,serif\" font-size=\"14.00\" text-anchor=\"middle\" x=\"83\" y=\"-160.8\">encoder_input: InputLayer</text>\n",
       "</g>\n",
       "<!-- 103676380720 -->\n",
       "<g class=\"node\" id=\"node2\">\n",
       "<title>103676380720</title>\n",
       "<polygon fill=\"none\" points=\"30.5,-73.5 30.5,-109.5 135.5,-109.5 135.5,-73.5 30.5,-73.5\" stroke=\"#000000\"/>\n",
       "<text fill=\"#000000\" font-family=\"Times,serif\" font-size=\"14.00\" text-anchor=\"middle\" x=\"83\" y=\"-87.8\">encoder: Model</text>\n",
       "</g>\n",
       "<!-- 4495869376&#45;&gt;103676380720 -->\n",
       "<g class=\"edge\" id=\"edge1\">\n",
       "<title>4495869376-&gt;103676380720</title>\n",
       "<path d=\"M83,-146.4551C83,-138.3828 83,-128.6764 83,-119.6817\" fill=\"none\" stroke=\"#000000\"/>\n",
       "<polygon fill=\"#000000\" points=\"86.5001,-119.5903 83,-109.5904 79.5001,-119.5904 86.5001,-119.5903\" stroke=\"#000000\"/>\n",
       "</g>\n",
       "<!-- 103864685344 -->\n",
       "<g class=\"node\" id=\"node3\">\n",
       "<title>103864685344</title>\n",
       "<polygon fill=\"none\" points=\"30.5,-.5 30.5,-36.5 135.5,-36.5 135.5,-.5 30.5,-.5\" stroke=\"#000000\"/>\n",
       "<text fill=\"#000000\" font-family=\"Times,serif\" font-size=\"14.00\" text-anchor=\"middle\" x=\"83\" y=\"-14.8\">decoder: Model</text>\n",
       "</g>\n",
       "<!-- 103676380720&#45;&gt;103864685344 -->\n",
       "<g class=\"edge\" id=\"edge2\">\n",
       "<title>103676380720-&gt;103864685344</title>\n",
       "<path d=\"M83,-73.4551C83,-65.3828 83,-55.6764 83,-46.6817\" fill=\"none\" stroke=\"#000000\"/>\n",
       "<polygon fill=\"#000000\" points=\"86.5001,-46.5903 83,-36.5904 79.5001,-46.5904 86.5001,-46.5903\" stroke=\"#000000\"/>\n",
       "</g>\n",
       "</g>\n",
       "</svg>"
      ],
      "text/plain": [
       "<IPython.core.display.SVG object>"
      ]
     },
     "execution_count": 47,
     "metadata": {},
     "output_type": "execute_result"
    }
   ],
   "source": [
    "#in place model display\n",
    "from IPython.display import SVG\n",
    "from keras.utils.vis_utils import model_to_dot\n",
    "\n",
    "SVG(model_to_dot(vae).create(prog='dot', format='svg'))"
   ]
  },
  {
   "cell_type": "code",
   "execution_count": null,
   "metadata": {},
   "outputs": [],
   "source": []
  }
 ],
 "metadata": {
  "kernelspec": {
   "display_name": "Python 3 (ipykernel)",
   "language": "python",
   "name": "python3"
  },
  "language_info": {
   "codemirror_mode": {
    "name": "ipython",
    "version": 3
   },
   "file_extension": ".py",
   "mimetype": "text/x-python",
   "name": "python",
   "nbconvert_exporter": "python",
   "pygments_lexer": "ipython3",
   "version": "3.8.9"
  }
 },
 "nbformat": 4,
 "nbformat_minor": 4
}
