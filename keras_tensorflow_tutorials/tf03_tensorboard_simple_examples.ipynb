{
 "cells": [
  {
   "cell_type": "code",
   "execution_count": 5,
   "metadata": {},
   "outputs": [
    {
     "name": "stdout",
     "output_type": "stream",
     "text": [
      "63\n"
     ]
    }
   ],
   "source": [
    "import tensorflow as tf\n",
    "\n",
    "a = tf.add(1, 2, name=\"Add_these_numbers\")\n",
    "b = tf.multiply(a, 3)\n",
    "c = tf.add(4, 5, name=\"And_These_ones\")\n",
    "d = tf.multiply(c, 6, name=\"Multiply_these_numbers\")\n",
    "e = tf.multiply(4, 5, name=\"B_add\")\n",
    "f = tf.div(c, 6, name=\"B_mul\")\n",
    "g = tf.add(b, d)\n",
    "h = tf.multiply(g, f)\n",
    "\n",
    "with tf.Session() as sess:\n",
    "    writer = tf.summary.FileWriter(\"output_tensorflow_simple\", sess.graph)\n",
    "    print(sess.run(h))\n",
    "    writer.close()"
   ]
  },
  {
   "cell_type": "code",
   "execution_count": 4,
   "metadata": {},
   "outputs": [],
   "source": [
    "#run the command:\n",
    "#tensorboard --logdir=/Users/hbi16859/Desktop/python_scripts/python3_scripts/output_tensorflow_simple\n",
    "#\n",
    "#http://hbi16859-mbp133.h3b.hope:6006\n",
    "#I used localhost:6006 to access (the url above will not work)"
   ]
  },
  {
   "cell_type": "code",
   "execution_count": 6,
   "metadata": {},
   "outputs": [
    {
     "name": "stdout",
     "output_type": "stream",
     "text": [
      "63\n"
     ]
    }
   ],
   "source": [
    "with tf.name_scope(\"MyFirstHalf\"):\n",
    "    with tf.name_scope(\"TopPart\"):\n",
    "        a = tf.add(1, 2, name=\"Add_these_numbers\")\n",
    "        b = tf.multiply(a, 3)\n",
    "        c = tf.add(4, 5, name=\"And_These_ones\")\n",
    "    with tf.name_scope(\"BottumPart\"):\n",
    "        d = tf.multiply(c, 6, name=\"Multiply_these_numbers\")\n",
    "        e = tf.multiply(4, 5, name=\"B_add\")\n",
    "        f = tf.div(c, 6, name=\"B_mul\")\n",
    "g = tf.add(b, d)\n",
    "h = tf.multiply(g, f)\n",
    "\n",
    "with tf.Session() as sess:\n",
    "    writer = tf.summary.FileWriter(\"output_tensorflow_simple_v2\", sess.graph)\n",
    "    print(sess.run(h))\n",
    "    writer.close()"
   ]
  },
  {
   "cell_type": "code",
   "execution_count": null,
   "metadata": {},
   "outputs": [],
   "source": [
    "#tensorboard --logdir=/Users/hbi16859/Desktop/python_scripts/python3_scripts/output_tensorflow_simple_v2\n",
    "#\n",
    "#http://hbi16859-mbp133.h3b.hope:6006\n",
    "#I used localhost:6006 to access (the url above will not work)"
   ]
  },
  {
   "cell_type": "code",
   "execution_count": null,
   "metadata": {},
   "outputs": [],
   "source": []
  }
 ],
 "metadata": {
  "kernelspec": {
   "display_name": "Python 3 (ipykernel)",
   "language": "python",
   "name": "python3"
  },
  "language_info": {
   "codemirror_mode": {
    "name": "ipython",
    "version": 3
   },
   "file_extension": ".py",
   "mimetype": "text/x-python",
   "name": "python",
   "nbconvert_exporter": "python",
   "pygments_lexer": "ipython3",
   "version": "3.8.9"
  }
 },
 "nbformat": 4,
 "nbformat_minor": 4
}
