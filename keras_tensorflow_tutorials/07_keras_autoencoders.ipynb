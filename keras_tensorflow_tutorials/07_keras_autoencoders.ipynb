{
 "cells": [
  {
   "cell_type": "code",
   "execution_count": 1,
   "metadata": {},
   "outputs": [
    {
     "name": "stderr",
     "output_type": "stream",
     "text": [
      "/Users/hbi16859/anaconda/lib/python2.7/site-packages/h5py/__init__.py:36: FutureWarning: Conversion of the second argument of issubdtype from `float` to `np.floating` is deprecated. In future, it will be treated as `np.float64 == np.dtype(float).type`.\n",
      "  from ._conv import register_converters as _register_converters\n",
      "Using TensorFlow backend.\n"
     ]
    }
   ],
   "source": [
    "import numpy as np\n",
    "import matplotlib.pyplot as plt\n",
    "\n",
    "from sklearn.model_selection import train_test_split\n",
    "from sklearn import datasets\n",
    "from keras.layers import Input, Dense\n",
    "from keras.models import Model"
   ]
  },
  {
   "cell_type": "code",
   "execution_count": 2,
   "metadata": {},
   "outputs": [],
   "source": [
    "data = datasets.load_digits()"
   ]
  },
  {
   "cell_type": "code",
   "execution_count": 3,
   "metadata": {},
   "outputs": [],
   "source": [
    "X_data = data.images\n",
    "y_data = data.target\n",
    "\n",
    "X_data = X_data.reshape(X_data.shape[0], 64)"
   ]
  },
  {
   "cell_type": "code",
   "execution_count": 4,
   "metadata": {},
   "outputs": [],
   "source": [
    "# fit in data instances into interval [0,1]\n",
    "X_data = X_data / 16.\n",
    "X_train, X_test, y_train, y_test = train_test_split(X_data, y_data, test_size = 0.3, random_state = 777)"
   ]
  },
  {
   "cell_type": "code",
   "execution_count": 5,
   "metadata": {},
   "outputs": [
    {
     "name": "stdout",
     "output_type": "stream",
     "text": [
      "(1257, 64)\n",
      "(540, 64)\n",
      "(1257,)\n",
      "(540,)\n"
     ]
    }
   ],
   "source": [
    "print(X_train.shape)\n",
    "print(X_test.shape)\n",
    "print(y_train.shape)\n",
    "print(y_test.shape)"
   ]
  },
  {
   "cell_type": "code",
   "execution_count": 8,
   "metadata": {},
   "outputs": [],
   "source": [
    "# define coding dimension. Coding dimension will be the size of reduced data dimension\n",
    "code_dim = 16"
   ]
  },
  {
   "cell_type": "code",
   "execution_count": 9,
   "metadata": {},
   "outputs": [],
   "source": [
    "#linear model\n",
    "def auto_encoder_model():    \n",
    "    inputs = Input(shape = (X_train.shape[1],), name = 'input')                         # input layer\n",
    "    code = Dense(code_dim, activation = 'relu', name = 'code')(inputs)  # hidden layer => represents \"codes\"\n",
    "    outputs = Dense(X_train.shape[1], activation = 'softmax', name = 'output')(code)    # output layer\n",
    "\n",
    "    auto_encoder = Model(inputs = inputs, outputs = outputs)\n",
    "\n",
    "    encoder = Model(inputs = inputs, outputs = code)\n",
    "\n",
    "    decoder_input = Input(shape = (code_dim,))\n",
    "    decoder_output = auto_encoder.layers[-1]\n",
    "    decoder = Model(inputs = decoder_input, outputs = decoder_output(decoder_input))\n",
    "\n",
    "    auto_encoder.compile(optimizer='adam', loss='binary_crossentropy')\n",
    "    return encoder, decoder, auto_encoder"
   ]
  },
  {
   "cell_type": "code",
   "execution_count": 10,
   "metadata": {},
   "outputs": [],
   "source": [
    "encoder, decoder, auto_encoder = auto_encoder_model()"
   ]
  },
  {
   "cell_type": "code",
   "execution_count": 12,
   "metadata": {},
   "outputs": [
    {
     "name": "stdout",
     "output_type": "stream",
     "text": [
      "_________________________________________________________________\n",
      "Layer (type)                 Output Shape              Param #   \n",
      "=================================================================\n",
      "input (InputLayer)           (None, 64)                0         \n",
      "_________________________________________________________________\n",
      "code (Dense)                 (None, 16)                1040      \n",
      "_________________________________________________________________\n",
      "output (Dense)               (None, 64)                1088      \n",
      "=================================================================\n",
      "Total params: 2,128\n",
      "Trainable params: 2,128\n",
      "Non-trainable params: 0\n",
      "_________________________________________________________________\n"
     ]
    }
   ],
   "source": [
    "auto_encoder.summary()"
   ]
  },
  {
   "cell_type": "code",
   "execution_count": 13,
   "metadata": {},
   "outputs": [
    {
     "name": "stdout",
     "output_type": "stream",
     "text": [
      "CPU times: user 1.5 s, sys: 669 ms, total: 2.17 s\n",
      "Wall time: 1.19 s\n"
     ]
    }
   ],
   "source": [
    "%%time\n",
    "history=auto_encoder.fit(X_train, X_train, epochs = 20, batch_size = 50, validation_data = (X_test, X_test), verbose = 0)"
   ]
  },
  {
   "cell_type": "code",
   "execution_count": 14,
   "metadata": {},
   "outputs": [],
   "source": [
    "# generate reduced data by using \"encoders\"\n",
    "training_data_reduced = encoder.predict(X_train)\n",
    "test_data_reduced = encoder.predict(X_test)"
   ]
  }
 ],
 "metadata": {
  "kernelspec": {
   "display_name": "Python 3 (ipykernel)",
   "language": "python",
   "name": "python3"
  },
  "language_info": {
   "codemirror_mode": {
    "name": "ipython",
    "version": 3
   },
   "file_extension": ".py",
   "mimetype": "text/x-python",
   "name": "python",
   "nbconvert_exporter": "python",
   "pygments_lexer": "ipython3",
   "version": "3.8.9"
  }
 },
 "nbformat": 4,
 "nbformat_minor": 4
}
